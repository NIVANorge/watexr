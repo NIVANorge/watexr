{
 "cells": [
  {
   "cell_type": "code",
   "execution_count": 1,
   "metadata": {},
   "outputs": [
    {
     "name": "stdin",
     "output_type": "stream",
     "text": [
      "Password:  ·······\n"
     ]
    },
    {
     "data": {
      "text/plain": [
       "[]"
      ]
     },
     "execution_count": 1,
     "metadata": {},
     "output_type": "execute_result"
    }
   ],
   "source": [
    "import re\n",
    "import getpass\n",
    "import gmaps\n",
    "import requests\n",
    "from bs4 import BeautifulSoup\n",
    "from bs4 import SoupStrainer\n",
    "from urllib.parse import urljoin\n",
    "from IPython.display import clear_output, display\n",
    "from parse import parse\n",
    "import yaml\n",
    "import time\n",
    "import os\n",
    "import sys\n",
    "\n",
    "#adding prognos tools\n",
    "sys.path.insert(0, \"/home/jose-luis/Envs/niva_prognos/PROGNOS/\")\n",
    "from prognos_tools.encrypt import decryptString\n",
    "from prognos_tools.Basin import Basin\n",
    "\n",
    "\n",
    "gmapsToken=b'gAAAAABctxJp5wE73qK6U5VieCi0WXNnNex4KxLZHutsESa8fW9v43lLa1Ag0qsxKFjXXo9MBAdvUpqJPW-QmCE0gH_Opf9g4xAG1VaI2WarO_xDZg44VLMCHkd_6O8ofgp8u4VuFBMr'\n",
    "key = getpass.getpass('Password: ')\n",
    "apiKey = decryptString(gmapsToken,key)\n",
    "gmaps.configure(api_key=apiKey)\n",
    "del key,apiKey\n",
    "\n",
    "#Creating folder to store temporary files and downloaded data\n",
    "saveFolder = './DownloadedData/'\n",
    "\n",
    "args = [saveFolder,]\n",
    "!!rm -rf {args[0]} && mkdir -p {args[0]}"
   ]
  },
  {
   "cell_type": "markdown",
   "metadata": {},
   "source": [
    "## Querying extent of the basin\n",
    "### Creating a VM with the geodatabase on it"
   ]
  },
  {
   "cell_type": "code",
   "execution_count": 2,
   "metadata": {},
   "outputs": [
    {
     "name": "stdout",
     "output_type": "stream",
     "text": [
      "Creating instance prognos-basin...\n",
      "NAME           ZONE            MACHINE_TYPE   PREEMPTIBLE  INTERNAL_IP    EXTERNAL_IP   STATUS\n",
      "prognos-basin  europe-west2-a  n1-standard-4               10.154.15.195  35.246.95.32  RUNNING\n",
      "Created [https://www.googleapis.com/compute/beta/projects/nivacatchment/zones/europe-west2-a/instances/prognos-basin].\n",
      "WARNING: Some requests generated warnings:\n",
      " - Disk size: '200 GB' is larger than image size: '20 GB'. You might need to resize the root repartition manually if the operating system does not support automatic resizing. See https://cloud.google.com/compute/docs/disks/add-persistent-disk#resize_pd for details.\n",
      "\n",
      "(b\"Generating public/private rsa key pair.\\nYour identification has been saved in /home/jose-luis/.ssh/threddsBasin/jose-luis.\\nYour public key has been saved in /home/jose-luis/.ssh/threddsBasin/jose-luis.pub.\\nThe key fingerprint is:\\nSHA256:OUORun3wQvKeVCbpEDGn725+NLgh9K3TbSchVsRLmro jose-luis\\nThe key's randomart image is:\\n+---[RSA 2048]----+\\n|      o.o. .     |\\n|      .+..  +    |\\n|      .o.. = .   |\\n|      =o=.= o    |\\n|     . XSX .     |\\n|      o.@oO .    |\\n|       +.% + .   |\\n|       .E o + .  |\\n|       ooo . o   |\\n+----[SHA256]-----+\\n\", b'')\n",
      "Updated [https://www.googleapis.com/compute/v1/projects/nivacatchment/zones/europe-west2-a/instances/prognos-basin].\n",
      "The ip of the google cloud instance is 35.246.95.32\n",
      "Linux prognos-basin 4.9.0-6-amd64 #1 SMP Debian 4.9.88-1+deb9u1 (2018-05-07) x86_64\n",
      "\n",
      "The programs included with the Debian GNU/Linux system are free software;\n",
      "the exact distribution terms for each program are described in the\n",
      "individual files in /usr/share/doc/*/copyright.\n",
      "\n",
      "Debian GNU/Linux comes with ABSOLUTELY NO WARRANTY, to the extent\n",
      "permitted by applicable law.\n",
      "Pseudo-terminal will not be allocated because stdin is not a terminal.\n",
      "Warning: Permanently added 'compute.6782336404402261670' (ECDSA) to the list of known hosts.\n"
     ]
    }
   ],
   "source": [
    "machineInfo={}\n",
    "#Vm characteristics\n",
    "machineInfo['instance'] = 'prognos-basin'\n",
    "machineInfo['username'] = 'jose-luis'\n",
    "machineInfo['image'] = 'geonorway'\n",
    "machineInfo['imageProject'] = 'nivacatchment'\n",
    "machineInfo['keyDir'] = '/home/jose-luis/.ssh/threddsBasin'\n",
    "machineInfo['diskSize'] = '200GB'\n",
    "machineInfo['region'] = 'europe-west2-a'\n",
    "machineInfo['machineType'] = 'n1-standard-4'\n",
    "machineInfo['keyFile'] = F'{os.path.join(machineInfo[\"keyDir\"],machineInfo[\"username\"])}'\n",
    "machineInfo['pubKeyFile'] = F'{machineInfo[\"keyFile\"] + \".pub\"}'\n",
    "\n",
    "#Actually instantiating the virtual machine \n",
    "basinGenerator = Basin(machineInfo)\n",
    "basinGenerator.instantiate(fabfile='../../prognos_tools/fabfile.py')\n",
    "print(\"The ip of the google cloud instance is {}\".format(basinGenerator.ip))\n",
    "\n",
    "#Testing connection to instance\n",
    "basinGenerator.callPopen('gcloud compute ssh {username}@{instance} --zone {region}'.format(\n",
    "**basinGenerator.machineInfo))"
   ]
  },
  {
   "cell_type": "markdown",
   "metadata": {},
   "source": [
    "### Getting basins extent"
   ]
  },
  {
   "cell_type": "code",
   "execution_count": 3,
   "metadata": {},
   "outputs": [
    {
     "data": {
      "text/plain": [
       "[{'station': {'station_id': 108,\n",
       "   'station_name': 'Langtjern_utløp',\n",
       "   'longitude': 9.7266598416,\n",
       "   'latitude': 60.3724626431,\n",
       "   'epsg': 4326,\n",
       "   'buffer': 5000}}]"
      ]
     },
     "metadata": {},
     "output_type": "display_data"
    },
    {
     "data": {
      "text/plain": [
       "'Directory should be created'"
      ]
     },
     "metadata": {},
     "output_type": "display_data"
    },
    {
     "name": "stdout",
     "output_type": "stream",
     "text": [
      "Gonna create the getBasin.sh file\n",
      "./geoResults/getBasin.sh\n",
      "fab -f ../../prognos_tools/fabfile.py runScript:./geoResults/getBasin.sh,True,./geoResults/box.txt\n",
      "[35.246.95.32] Executing task 'runScript'\n",
      "[35.246.95.32] Executing task 'setup'\n",
      "[35.246.95.32] put: ./geoResults/getBasin.sh -> getBasin.sh\n",
      "[35.246.95.32] run: chmod +x getBasin.sh\n",
      "[35.246.95.32] run: ./getBasin.sh\n",
      "[35.246.95.32] out: NOTICE:  table \"stations\" does not exist, skipping\n",
      "[35.246.95.32] out:  initializestations \n",
      "[35.246.95.32] out: --------------------\n",
      "[35.246.95.32] out:  \n",
      "[35.246.95.32] out: (1 row)\n",
      "[35.246.95.32] out: \n",
      "[35.246.95.32] out:  addstations \n",
      "[35.246.95.32] out: -------------\n",
      "[35.246.95.32] out:  \n",
      "[35.246.95.32] out: (1 row)\n",
      "[35.246.95.32] out: \n",
      "[35.246.95.32] out: NOTICE:  schema \"metno\" does not exist, skipping\n",
      "[35.246.95.32] out:  initializeresultsschema \n",
      "[35.246.95.32] out: -------------------------\n",
      "[35.246.95.32] out:  \n",
      "[35.246.95.32] out: (1 row)\n",
      "[35.246.95.32] out: \n",
      "[35.246.95.32] out: NOTICE:  table \"buffertable\" does not exist, skipping\n",
      "[35.246.95.32] out:  createdatatable \n",
      "[35.246.95.32] out: -----------------\n",
      "[35.246.95.32] out:  \n",
      "[35.246.95.32] out: (1 row)\n",
      "[35.246.95.32] out: \n",
      "[35.246.95.32] out:  createresultstable \n",
      "[35.246.95.32] out: --------------------\n",
      "[35.246.95.32] out:  \n",
      "[35.246.95.32] out: (1 row)\n",
      "[35.246.95.32] out: \n",
      "[35.246.95.32] out: 108\n",
      "[35.246.95.32] out: Initializing... \n",
      "[35.246.95.32] out: Done (postgis major version: 2).\n",
      "[35.246.95.32] out: Output shape: Point\n",
      "[35.246.95.32] out: Dumping: X [1 rows].\n",
      "[35.246.95.32] out: Gage Watershed version 5.3.8\n",
      "[35.246.95.32] out: Input file PG:dbname=geonorway schema=metno table=flow column=rast where='station_id=108' mode=2 has projected coordinate system.\n",
      "[35.246.95.32] out: This run may take on the order of 1 minutes to complete.\n",
      "[35.246.95.32] out: This estimate is very approximate. \n",
      "[35.246.95.32] out: Run time is highly uncertain as it depends on the complexity of the input data \n",
      "[35.246.95.32] out: and speed and memory of the computer. This estimate is based on our testing on \n",
      "[35.246.95.32] out: a dual quad core Dell Xeon E5405 2.0GHz PC with 16GB RAM.\n",
      "[35.246.95.32] out: Size: 4\n",
      "[35.246.95.32] out: Read time: 0.488686\n",
      "[35.246.95.32] out: Compute time: 0.020057\n",
      "[35.246.95.32] out: Write time: 0.010928\n",
      "[35.246.95.32] out: Total time: 0.519671\n",
      "[35.246.95.32] out: Creating output basin108.shp of format ESRI Shapefile.\n",
      "[35.246.95.32] out: 0...10...20...30...40...50...60...70...80...90...100 - done.\n",
      "[35.246.95.32] out: Shapefile type: Polygon\n",
      "[35.246.95.32] out: Postgis type: POLYGON[2]\n",
      "[35.246.95.32] out: SET\n",
      "[35.246.95.32] out: SET\n",
      "[35.246.95.32] out: ERROR:  column not found in geometry_columns table\n",
      "[35.246.95.32] out: CONTEXT:  PL/pgSQL function dropgeometrycolumn(character varying,character varying,character varying,character varying) line 34 at RAISE\n",
      "[35.246.95.32] out: SQL statement \"SELECT DropGeometryColumn('',$1,$2,$3)\"\n",
      "[35.246.95.32] out: PL/pgSQL function dropgeometrycolumn(character varying,character varying,character varying) line 5 at SQL statement\n",
      "[35.246.95.32] out: NOTICE:  table \"dummy\" does not exist, skipping\n",
      "[35.246.95.32] out: DROP TABLE\n",
      "[35.246.95.32] out: BEGIN\n",
      "[35.246.95.32] out: CREATE TABLE\n",
      "[35.246.95.32] out: ALTER TABLE\n",
      "[35.246.95.32] out:                 addgeometrycolumn                \n",
      "[35.246.95.32] out: -------------------------------------------------\n",
      "[35.246.95.32] out:  metno.dummy.geom SRID:3035 TYPE:POLYGON DIMS:2 \n",
      "[35.246.95.32] out: (1 row)\n",
      "[35.246.95.32] out: \n",
      "[35.246.95.32] out: INSERT 0 1\n",
      "[35.246.95.32] out: INSERT 0 1\n",
      "[35.246.95.32] out: COMMIT\n",
      "[35.246.95.32] out: ANALYZE\n",
      "[35.246.95.32] out: INSERT 0 1\n",
      "[35.246.95.32] out: DROP TABLE\n",
      "[35.246.95.32] out: COPY 1\n",
      "[35.246.95.32] out: \n",
      "\n",
      "[35.246.95.32] download: /home/jose-luis/Envs/niva_prognos/PROGNOS/notebooks/delineateBasin/geoResults/box.txt <- /home/jose-luis/results.txt\n",
      "\n",
      "Done.\n",
      "Disconnecting from 35.246.95.32... done.\n",
      "[35.246.95.32] Executing task 'runScript'\n",
      "[35.246.95.32] Executing task 'setup'\n",
      "[35.246.95.32] put: ./geoResults/gmaps.sh -> gmaps.sh\n",
      "[35.246.95.32] run: chmod +x gmaps.sh\n",
      "[35.246.95.32] run: ./gmaps.sh\n",
      "[35.246.95.32] out: COPY 1\n",
      "[35.246.95.32] out: COPY 1\n",
      "[35.246.95.32] out: \n",
      "\n",
      "[35.246.95.32] download: /home/jose-luis/Envs/niva_prognos/PROGNOS/notebooks/delineateBasin/geoResults/gmaps.txt <- /home/jose-luis/results.txt\n",
      "\n",
      "Done.\n",
      "Disconnecting from 35.246.95.32... done.\n"
     ]
    }
   ],
   "source": [
    "#Schema were processing will be done\n",
    "schema = 'metno'\n",
    "\n",
    "#Getting basin outlets from yaml file\n",
    "stationsFile = 'langtjern.yaml'\n",
    "stations = yaml.safe_load(open(stationsFile))\n",
    "display(stations)\n",
    "\n",
    "#Actually processing the basin\n",
    "geoResultsFolder='./geoResults'\n",
    "basinGenerator.getBasinLayers(stationsFile,schema,saveFolder=geoResultsFolder)\n",
    "    \n",
    "# Now we delete the basinGenerator vm\n",
    "basinGenerator.kill()"
   ]
  },
  {
   "cell_type": "markdown",
   "metadata": {},
   "source": [
    "### Displaying basins"
   ]
  },
  {
   "cell_type": "code",
   "execution_count": 16,
   "metadata": {},
   "outputs": [
    {
     "data": {
      "text/plain": [
       "['\\n<dl>\\n<font color=\"black\">\\n<dt>Name</dt><dd>Langtjern_utløp</dd>\\n<dt>Area</dt><dd>    4.76 km<sup>2</sup></dd>\\n</font>\\n</dl>\\n']"
      ]
     },
     "metadata": {},
     "output_type": "display_data"
    },
    {
     "data": {
      "application/vnd.jupyter.widget-view+json": {
       "model_id": "aa7aa8d50a23422bbc67db40f881d2ec",
       "version_major": 2,
       "version_minor": 0
      },
      "text/plain": [
       "Markers(data_bounds=[(60.3724568497833, 9.72671739752392), (60.372476849783304, 9.72673739752392)], markers=[M…"
      ]
     },
     "metadata": {},
     "output_type": "display_data"
    },
    {
     "data": {
      "application/vnd.jupyter.widget-view+json": {
       "model_id": "d78f2ff379094daa9932225310d35202",
       "version_major": 2,
       "version_minor": 0
      },
      "text/plain": [
       "Figure(layout=FigureLayout(height='420px'))"
      ]
     },
     "metadata": {},
     "output_type": "display_data"
    }
   ],
   "source": [
    "with open(os.path.join(geoResultsFolder,'gmaps.txt'), 'r') as f:\n",
    "    lines = f.read().splitlines()\n",
    "    \n",
    "fig = gmaps.figure()\n",
    "fig.add_layer(gmaps.geojson_layer(yaml.safe_load(lines[0])))\n",
    "\n",
    "lines[2:] = [i.split(';') for i in lines[2:]]\n",
    "outlets = [{\"name\": i[0], \"area\": '{:8.2f}'.format(float(i[3]))} for i in lines[2:]]\n",
    "locations = [(float(i[2]),float(i[1])) for i in lines[2:]]\n",
    "info_box_template = \"\"\"\n",
    "<dl>\n",
    "<font color=\"black\">\n",
    "<dt>Name</dt><dd>{name}</dd>\n",
    "<dt>Area</dt><dd>{area} km<sup>2</sup></dd>\n",
    "</font>\n",
    "</dl>\n",
    "\"\"\"                                                \n",
    "outlet_info = [info_box_template.format(**outlet) for outlet in outlets]   \n",
    "marker_layer = gmaps.marker_layer(locations, info_box_content=outlet_info)\n",
    "fig.add_layer(marker_layer)\n",
    "\n",
    "fig"
   ]
  }
 ],
 "metadata": {
  "kernelspec": {
   "display_name": "Python 3",
   "language": "python",
   "name": "python3"
  },
  "language_info": {
   "codemirror_mode": {
    "name": "ipython",
    "version": 3
   },
   "file_extension": ".py",
   "mimetype": "text/x-python",
   "name": "python",
   "nbconvert_exporter": "python",
   "pygments_lexer": "ipython3",
   "version": "3.6.8"
  }
 },
 "nbformat": 4,
 "nbformat_minor": 2
}
