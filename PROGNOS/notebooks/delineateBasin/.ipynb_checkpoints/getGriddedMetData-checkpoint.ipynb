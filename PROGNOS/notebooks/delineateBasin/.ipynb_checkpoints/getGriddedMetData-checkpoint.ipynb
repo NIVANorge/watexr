{
 "cells": [
  {
   "cell_type": "code",
   "execution_count": 1,
   "metadata": {},
   "outputs": [
    {
     "name": "stdin",
     "output_type": "stream",
     "text": [
      "Password:  ·······\n"
     ]
    },
    {
     "data": {
      "text/plain": [
       "[]"
      ]
     },
     "execution_count": 1,
     "metadata": {},
     "output_type": "execute_result"
    }
   ],
   "source": [
    "%matplotlib inline\n",
    "import re\n",
    "import getpass\n",
    "import gmaps\n",
    "import requests\n",
    "from bs4 import BeautifulSoup\n",
    "from bs4 import SoupStrainer\n",
    "from urllib.parse import urljoin\n",
    "from IPython.display import clear_output, display\n",
    "from parse import parse\n",
    "import yaml\n",
    "import time\n",
    "import os\n",
    "import sys\n",
    "import pandas as pd\n",
    "import xarray as xr\n",
    "from shapely.wkb import loads\n",
    "from shapely.geometry.polygon import Polygon\n",
    "from shapely.geometry.multipolygon import MultiPolygon\n",
    "from shapely.geometry.point import Point\n",
    "from shapely.ops import cascaded_union\n",
    "import numpy as np\n",
    "import matplotlib.pyplot as plt\n",
    "\n",
    "#adding prognos tools\n",
    "sys.path.insert(0, \"/home/jose-luis/Envs/niva_prognos/PROGNOS/\")\n",
    "from prognos_tools.encrypt import decryptString\n",
    "from prognos_tools.Basin import Basin\n",
    "\n",
    "\n",
    "gmapsToken=b'gAAAAABctxJp5wE73qK6U5VieCi0WXNnNex4KxLZHutsESa8fW9v43lLa1Ag0qsxKFjXXo9MBAdvUpqJPW-QmCE0gH_Opf9g4xAG1VaI2WarO_xDZg44VLMCHkd_6O8ofgp8u4VuFBMr'\n",
    "key = getpass.getpass('Password: ')\n",
    "apiKey = decryptString(gmapsToken,key)\n",
    "gmaps.configure(api_key=apiKey)\n",
    "del key,apiKey\n",
    "\n",
    "#Creating folder to store temporary files and downloaded data\n",
    "saveFolder = './DownloadedData/'\n",
    "\n",
    "args = [saveFolder,]\n",
    "!!rm -rf {args[0]} && mkdir -p {args[0]}"
   ]
  },
  {
   "cell_type": "markdown",
   "metadata": {},
   "source": [
    "# Getting list of openDAP links with high-resolution (1km2) temperature and precipitation data"
   ]
  },
  {
   "cell_type": "code",
   "execution_count": 2,
   "metadata": {},
   "outputs": [],
   "source": [
    "getList = False\n",
    "\n",
    "baseURL = 'http://thredds.met.no/thredds/catalog/ngcd/version_19.03/catalog.html'\n",
    "# varsToGet = ['TX','TN','TG','RR']\n",
    "varsToGet = ['TG','RR']\n",
    "model = 'type1'\n",
    "listFolder = os.path.abspath('./' + model + 'Lists') #Folder where list of links will be saved\n",
    "\n",
    "args=[]\n",
    "if getList:\n",
    "    args = [listFolder,]\n",
    "!! {args[0]} && mkdir -p {args[0]}\n",
    "\n",
    "only_a_tags = SoupStrainer(\"a\", href=True)\n",
    "\n",
    "def getSoup(url,re_str):\n",
    "    request=requests.get(url)\n",
    "    soup=BeautifulSoup(request.content,'lxml',parse_only=only_a_tags)\n",
    "    link_soup=soup.find_all('a',text=re.compile(re_str))\n",
    "    links=[]\n",
    "    for i in link_soup:\n",
    "        links.append(urljoin(url,i['href']))\n",
    "    return links\n",
    "\n",
    "def getFileList(var):\n",
    "    allLinks=[]\n",
    "    for var_link in getSoup(baseURL,var):\n",
    "        for model_link in getSoup(var_link,model):\n",
    "            for year_link in getSoup(model_link,'^[0-9]{4}/$'):\n",
    "                print('Processing {}'.format(year_link))\n",
    "                for month_link in getSoup(year_link,'^[0-9]{2}/$'):\n",
    "                    for day_link in getSoup(month_link,'\\\\.nc$'):\n",
    "                        for opendap_link in getSoup(day_link,'^/thredds/dodsC/'):\n",
    "                            allLinks.append(re.sub(r'\\.html$', '', opendap_link))\n",
    "    return allLinks\n",
    "    \n",
    "# display(listFolder)\n",
    "if getList:\n",
    "    links = []\n",
    "    for i in varsToGet:\n",
    "        #Getting all links for variable\n",
    "        links.append(getFileList(i))\n",
    "        #Saving paths to file\n",
    "        with open(os.path.join(listFolder , i + '_' + model + '.txt'), 'w') as f:\n",
    "            for item in links[-1]:\n",
    "                f.write(\"%s\\n\" % item)"
   ]
  },
  {
   "cell_type": "code",
   "execution_count": 3,
   "metadata": {},
   "outputs": [
    {
     "data": {
      "text/plain": [
       "'/home/jose-luis/Envs/niva_prognos/PROGNOS/notebooks/delineateBasin/type1Lists'"
      ]
     },
     "metadata": {},
     "output_type": "display_data"
    },
    {
     "data": {
      "text/plain": [
       "[]"
      ]
     },
     "execution_count": 3,
     "metadata": {},
     "output_type": "execute_result"
    }
   ],
   "source": [
    "display(listFolder)\n",
    "if getList:\n",
    "    args = [listFolder,]\n",
    "!! rm -rf {args[0]} && mkdir -p {args[0]}"
   ]
  },
  {
   "cell_type": "markdown",
   "metadata": {},
   "source": [
    "## Querying extent of the basin\n",
    "### Creating a VM with the geodatabase on it"
   ]
  },
  {
   "cell_type": "code",
   "execution_count": 4,
   "metadata": {},
   "outputs": [
    {
     "name": "stdout",
     "output_type": "stream",
     "text": [
      "Creating instance storelva-basin...\n",
      "NAME            ZONE            MACHINE_TYPE   PREEMPTIBLE  INTERNAL_IP    EXTERNAL_IP    STATUS\n",
      "storelva-basin  europe-west3-a  n1-standard-4               10.156.15.197  35.246.173.27  RUNNING\n",
      "Created [https://www.googleapis.com/compute/beta/projects/nivacatchment/zones/europe-west3-a/instances/storelva-basin].\n",
      "WARNING: Some requests generated warnings:\n",
      " - Disk size: '200 GB' is larger than image size: '20 GB'. You might need to resize the root repartition manually if the operating system does not support automatic resizing. See https://cloud.google.com/compute/docs/disks/add-persistent-disk#resize_pd for details.\n",
      "\n",
      "(b\"Generating public/private rsa key pair.\\nYour identification has been saved in /home/jose-luis/.ssh/threddsBasin/jose-luis.\\nYour public key has been saved in /home/jose-luis/.ssh/threddsBasin/jose-luis.pub.\\nThe key fingerprint is:\\nSHA256:DIwX6vo6n/LEjTEtnoMeVHpgw6xMRWkqRw8flPQ5ql8 jose-luis\\nThe key's randomart image is:\\n+---[RSA 2048]----+\\n|  .=+..          |\\n| o+oo= o         |\\n| oO++.B          |\\n|++.*o+ +         |\\n|ooo B . S        |\\n| . B B           |\\n|  = B E          |\\n| .o= +           |\\n|  o**            |\\n+----[SHA256]-----+\\n\", b'')\n",
      "Updated [https://www.googleapis.com/compute/v1/projects/nivacatchment/zones/europe-west3-a/instances/storelva-basin].\n",
      "The ip of the google cloud instance is 35.246.173.27\n",
      "Linux storelva-basin 4.9.0-6-amd64 #1 SMP Debian 4.9.88-1+deb9u1 (2018-05-07) x86_64\n",
      "\n",
      "The programs included with the Debian GNU/Linux system are free software;\n",
      "the exact distribution terms for each program are described in the\n",
      "individual files in /usr/share/doc/*/copyright.\n",
      "\n",
      "Debian GNU/Linux comes with ABSOLUTELY NO WARRANTY, to the extent\n",
      "permitted by applicable law.\n",
      "Pseudo-terminal will not be allocated because stdin is not a terminal.\n",
      "Warning: Permanently added 'compute.8836145093394564323' (ECDSA) to the list of known hosts.\n"
     ]
    }
   ],
   "source": [
    "machineInfo={}\n",
    "#Vm characteristics\n",
    "machineInfo['instance'] = 'langtjern-basin'\n",
    "machineInfo['username'] = 'jose-luis'\n",
    "machineInfo['image'] = 'geonorway'\n",
    "machineInfo['imageProject'] = 'nivacatchment'\n",
    "machineInfo['keyDir'] = '/home/jose-luis/.ssh/threddsBasin'\n",
    "machineInfo['diskSize'] = '200GB'\n",
    "machineInfo['region'] = 'europe-west3-a'\n",
    "machineInfo['machineType'] = 'n1-standard-4'\n",
    "machineInfo['keyFile'] = F'{os.path.join(machineInfo[\"keyDir\"],machineInfo[\"username\"])}'\n",
    "machineInfo['pubKeyFile'] = F'{machineInfo[\"keyFile\"] + \".pub\"}'\n",
    "\n",
    "#Actually instantiating VM \n",
    "basinGenerator = Basin(machineInfo)\n",
    "basinGenerator.instantiate(fabfile='/home/jose-luis/Envs/niva_prognos/PROGNOS/prognos_tools/fabfile.py')\n",
    "print(\"The ip of the google cloud instance is {}\".format(basinGenerator.ip))\n",
    "\n",
    "#Testing connection to instance\n",
    "basinGenerator.callPopen('gcloud compute ssh {username}@{instance} --zone {region}'.format(\n",
    "**basinGenerator.machineInfo))"
   ]
  },
  {
   "cell_type": "markdown",
   "metadata": {},
   "source": [
    "### Getting basins extent"
   ]
  },
  {
   "cell_type": "code",
   "execution_count": 5,
   "metadata": {},
   "outputs": [
    {
     "data": {
      "text/plain": [
       "[{'station': {'station_id': 108,\n",
       "   'station_name': 'Langtjern',\n",
       "   'longitude': 9.7266598416,\n",
       "   'latitude': 60.3724626431,\n",
       "   'epsg': 4326,\n",
       "   'buffer': 5000}}]"
      ]
     },
     "metadata": {},
     "output_type": "display_data"
    },
    {
     "data": {
      "text/plain": [
       "'Directory should be created'"
      ]
     },
     "metadata": {},
     "output_type": "display_data"
    },
    {
     "name": "stdout",
     "output_type": "stream",
     "text": [
      "Gonna create the getBasin.sh file\n",
      "./geoResults/getBasin.sh\n",
      "fab -f /home/jose-luis/Envs/niva_prognos/PROGNOS/prognos_tools/fabfile.py runScript:./geoResults/getBasin.sh,True,./geoResults/box.txt\n",
      "[35.246.173.27] Executing task 'runScript'\n",
      "[35.246.173.27] Executing task 'setup'\n",
      "[35.246.173.27] put: ./geoResults/getBasin.sh -> getBasin.sh\n",
      "[35.246.173.27] run: chmod +x getBasin.sh\n",
      "[35.246.173.27] run: ./getBasin.sh\n",
      "[35.246.173.27] out: NOTICE:  table \"stations\" does not exist, skipping\n",
      "[35.246.173.27] out:  initializestations \n",
      "[35.246.173.27] out: --------------------\n",
      "[35.246.173.27] out:  \n",
      "[35.246.173.27] out: (1 row)\n",
      "[35.246.173.27] out: \n",
      "[35.246.173.27] out:  addstations \n",
      "[35.246.173.27] out: -------------\n",
      "[35.246.173.27] out:  \n",
      "[35.246.173.27] out: (1 row)\n",
      "[35.246.173.27] out: \n",
      "[35.246.173.27] out: NOTICE:  schema \"metno\" does not exist, skipping\n",
      "[35.246.173.27] out:  initializeresultsschema \n",
      "[35.246.173.27] out: -------------------------\n",
      "[35.246.173.27] out:  \n",
      "[35.246.173.27] out: (1 row)\n",
      "[35.246.173.27] out: \n",
      "[35.246.173.27] out: NOTICE:  table \"buffertable\" does not exist, skipping\n",
      "[35.246.173.27] out:  createdatatable \n",
      "[35.246.173.27] out: -----------------\n",
      "[35.246.173.27] out:  \n",
      "[35.246.173.27] out: (1 row)\n",
      "[35.246.173.27] out: \n",
      "[35.246.173.27] out:  createresultstable \n",
      "[35.246.173.27] out: --------------------\n",
      "[35.246.173.27] out:  \n",
      "[35.246.173.27] out: (1 row)\n",
      "[35.246.173.27] out: \n",
      "[35.246.173.27] out: 108\n",
      "[35.246.173.27] out: Initializing... \n",
      "[35.246.173.27] out: Done (postgis major version: 2).\n",
      "[35.246.173.27] out: Output shape: Point\n",
      "[35.246.173.27] out: Dumping: X [1 rows].\n",
      "[35.246.173.27] out: Gage Watershed version 5.3.8\n",
      "[35.246.173.27] out: Input file PG:dbname=geonorway schema=metno table=flow column=rast where='station_id=108' mode=2 has projected coordinate system.\n",
      "[35.246.173.27] out: This run may take on the order of 1 minutes to complete.\n",
      "[35.246.173.27] out: This estimate is very approximate. \n",
      "[35.246.173.27] out: Run time is highly uncertain as it depends on the complexity of the input data \n",
      "[35.246.173.27] out: and speed and memory of the computer. This estimate is based on our testing on \n",
      "[35.246.173.27] out: a dual quad core Dell Xeon E5405 2.0GHz PC with 16GB RAM.\n",
      "[35.246.173.27] out: Size: 4\n",
      "[35.246.173.27] out: Read time: 0.870427\n",
      "[35.246.173.27] out: Compute time: 0.011322\n",
      "[35.246.173.27] out: Write time: 0.007315\n",
      "[35.246.173.27] out: Total time: 0.889064\n",
      "[35.246.173.27] out: Creating output basin108.shp of format ESRI Shapefile.\n",
      "[35.246.173.27] out: 0...10...20...30...40...50...60...70...80...90...100 - done.\n",
      "[35.246.173.27] out: Shapefile type: Polygon\n",
      "[35.246.173.27] out: Postgis type: POLYGON[2]\n",
      "[35.246.173.27] out: SET\n",
      "[35.246.173.27] out: SET\n",
      "[35.246.173.27] out: ERROR:  column not found in geometry_columns table\n",
      "[35.246.173.27] out: CONTEXT:  PL/pgSQL function dropgeometrycolumn(character varying,character varying,character varying,character varying) line 34 at RAISE\n",
      "[35.246.173.27] out: SQL statement \"SELECT DropGeometryColumn('',$1,$2,$3)\"\n",
      "[35.246.173.27] out: PL/pgSQL function dropgeometrycolumn(character varying,character varying,character varying) line 5 at SQL statement\n",
      "[35.246.173.27] out: NOTICE:  table \"dummy\" does not exist, skipping\n",
      "[35.246.173.27] out: DROP TABLE\n",
      "[35.246.173.27] out: BEGIN\n",
      "[35.246.173.27] out: CREATE TABLE\n",
      "[35.246.173.27] out: ALTER TABLE\n",
      "[35.246.173.27] out:                 addgeometrycolumn                \n",
      "[35.246.173.27] out: -------------------------------------------------\n",
      "[35.246.173.27] out:  metno.dummy.geom SRID:3035 TYPE:POLYGON DIMS:2 \n",
      "[35.246.173.27] out: (1 row)\n",
      "[35.246.173.27] out: \n",
      "[35.246.173.27] out: INSERT 0 1\n",
      "[35.246.173.27] out: INSERT 0 1\n",
      "[35.246.173.27] out: COMMIT\n",
      "[35.246.173.27] out: ANALYZE\n",
      "[35.246.173.27] out: INSERT 0 1\n",
      "[35.246.173.27] out: DROP TABLE\n",
      "[35.246.173.27] out: COPY 1\n",
      "[35.246.173.27] out: \n",
      "\n",
      "[35.246.173.27] download: /home/jose-luis/Envs/niva_prognos/PROGNOS/notebooks/delineateBasin/geoResults/box.txt <- /home/jose-luis/results.txt\n",
      "\n",
      "Done.\n",
      "Disconnecting from 35.246.173.27... done.\n",
      "[35.246.173.27] Executing task 'runScript'\n",
      "[35.246.173.27] Executing task 'setup'\n",
      "[35.246.173.27] put: ./geoResults/gmaps.sh -> gmaps.sh\n",
      "[35.246.173.27] run: chmod +x gmaps.sh\n",
      "[35.246.173.27] run: ./gmaps.sh\n",
      "[35.246.173.27] out: COPY 1\n",
      "[35.246.173.27] out: COPY 1\n",
      "[35.246.173.27] out: \n",
      "\n",
      "[35.246.173.27] download: /home/jose-luis/Envs/niva_prognos/PROGNOS/notebooks/delineateBasin/geoResults/gmaps.txt <- /home/jose-luis/results.txt\n",
      "\n",
      "Done.\n",
      "Disconnecting from 35.246.173.27... done.\n"
     ]
    }
   ],
   "source": [
    "#Schema were processing will be done\n",
    "schema = 'metno'\n",
    "\n",
    "#Getting basin outlets from yaml file\n",
    "stationsFile = 'storelva.yaml'\n",
    "stations = yaml.safe_load(open(stationsFile))\n",
    "display(stations)\n",
    "\n",
    "#Actually processing the basin\n",
    "geoResultsFolder='./geoResults'\n",
    "basinGenerator.getBasinLayers(stationsFile,schema,saveFolder=geoResultsFolder)\n",
    "    \n",
    "# # Now we delete the basinGenerator vm\n",
    "# basinGenerator.kill()"
   ]
  },
  {
   "cell_type": "markdown",
   "metadata": {},
   "source": [
    "### Displaying basins"
   ]
  },
  {
   "cell_type": "code",
   "execution_count": 6,
   "metadata": {},
   "outputs": [
    {
     "data": {
      "application/vnd.jupyter.widget-view+json": {
       "model_id": "521ced5ccc9b4743a1b8e81d7d8dfc52",
       "version_major": 2,
       "version_minor": 0
      },
      "text/plain": [
       "Figure(layout=FigureLayout(height='420px'))"
      ]
     },
     "metadata": {},
     "output_type": "display_data"
    }
   ],
   "source": [
    "with open(os.path.join(geoResultsFolder,'gmaps.txt'), 'r') as f:\n",
    "    lines = f.read().splitlines()\n",
    "    \n",
    "fig = gmaps.figure()\n",
    "fig.add_layer(gmaps.geojson_layer(yaml.safe_load(lines[0])))\n",
    "\n",
    "lines[2:] = [i.split(';') for i in lines[2:]]\n",
    "outlets = [{\"name\": i[0], \"area\": i[3]} for i in lines[2:]]\n",
    "locations = [(float(i[2]),float(i[1])) for i in lines[2:]]\n",
    "info_box_template = \"\"\"\n",
    "<dl>\n",
    "<font color=\"black\">\n",
    "<dt>Name</dt><dd>{name}</dd>\n",
    "<dt>Area</dt><dd>{area} km<sup>2</sup></dd>\n",
    "</font>\n",
    "</dl>\n",
    "\"\"\"                                                \n",
    "outlet_info = [info_box_template.format(**outlet) for outlet in outlets]                                                 \n",
    "marker_layer = gmaps.marker_layer(locations, info_box_content=outlet_info)\n",
    "fig.add_layer(marker_layer)\n",
    "\n",
    "fig"
   ]
  },
  {
   "cell_type": "markdown",
   "metadata": {},
   "source": [
    "# Getting data from metno thredds servers\n",
    "## Creating a virtual machine with the fimex utility"
   ]
  },
  {
   "cell_type": "code",
   "execution_count": 7,
   "metadata": {},
   "outputs": [
    {
     "name": "stdout",
     "output_type": "stream",
     "text": [
      "Creating instance fimexin...\n",
      "NAME     ZONE             MACHINE_TYPE    PREEMPTIBLE  INTERNAL_IP  EXTERNAL_IP     STATUS\n",
      "fimexin  europe-north1-c  n1-standard-32               10.166.0.48  35.228.231.172  RUNNING\n",
      "Created [https://www.googleapis.com/compute/beta/projects/nivacatchment/zones/europe-north1-c/instances/fimexin].\n",
      "WARNING: Some requests generated warnings:\n",
      " - Disk size: '200 GB' is larger than image size: '10 GB'. You might need to resize the root repartition manually if the operating system does not support automatic resizing. See https://cloud.google.com/compute/docs/disks/add-persistent-disk#resize_pd for details.\n",
      "\n",
      "(b\"Generating public/private rsa key pair.\\nYour identification has been saved in /home/jose-luis/.ssh/fimex/jose-luis.\\nYour public key has been saved in /home/jose-luis/.ssh/fimex/jose-luis.pub.\\nThe key fingerprint is:\\nSHA256:GJsJcMTuMkroC5lKV6mvBpAZbP6TKh/pn9MhpmqPPy0 jose-luis\\nThe key's randomart image is:\\n+---[RSA 2048]----+\\n|. .oo            |\\n|.o o.            |\\n|o+ .. .          |\\n|+.  ...*         |\\n|o ...o= S        |\\n|.=o=* .          |\\n|*o=Boo .         |\\n|*=+Eoo.          |\\n|==B=*o           |\\n+----[SHA256]-----+\\n\", b'')\n",
      "Updated [https://www.googleapis.com/compute/v1/projects/nivacatchment/zones/europe-north1-c/instances/fimexin].\n",
      "The ip of the google cloud instance is 35.228.231.172\n",
      "Pseudo-terminal will not be allocated because stdin is not a terminal.\n",
      "ssh: connect to host 35.228.231.172 port 22: Connection refused\n",
      "ERROR: (gcloud.compute.ssh) [/usr/bin/ssh] exited with return code [255].\n"
     ]
    }
   ],
   "source": [
    "machineInfo={}\n",
    "#Vm characteristics\n",
    "machineInfo['instance'] = 'fimexin'\n",
    "machineInfo['username'] = 'jose-luis'\n",
    "machineInfo['image'] = 'fimex'\n",
    "machineInfo['imageProject'] = 'nivacatchment'\n",
    "machineInfo['diskSize'] = '200GB'\n",
    "machineInfo['keyDir'] = '/home/jose-luis/.ssh/fimex'\n",
    "machineInfo['region'] = 'europe-north1-c'\n",
    "machineInfo['machineType'] = 'n1-standard-32'\n",
    "machineInfo['keyFile'] = F'{os.path.join(machineInfo[\"keyDir\"],machineInfo[\"username\"])}'\n",
    "machineInfo['pubKeyFile'] = F'{machineInfo[\"keyFile\"] + \".pub\"}'\n",
    "\n",
    "hasBeenDownloaded = False\n",
    "if not hasBeenDownloaded:\n",
    "    fimexGenerator = Basin(machineInfo)\n",
    "    fimexGenerator.instantiate(fabfile='fabfile_fimex.py')\n",
    "    print(\"The ip of the google cloud instance is {}\".format(fimexGenerator.ip))\n",
    "\n",
    "    #Need to wait until the instance is up and running. There must be a better way.\n",
    "    time.sleep(10)\n",
    "\n",
    "    #Testing connection to instance\n",
    "    fimexGenerator.callPopen('gcloud compute ssh {username}@{instance} --zone {region}'.format(\n",
    "                             **fimexGenerator.machineInfo))"
   ]
  },
  {
   "cell_type": "markdown",
   "metadata": {},
   "source": [
    "## Creating cfg file for download"
   ]
  },
  {
   "cell_type": "code",
   "execution_count": 8,
   "metadata": {},
   "outputs": [],
   "source": [
    "cfgTemplate='''[extract]\n",
    "reduceToBoundingBox.south={south}\n",
    "reduceToBoundingBox.north={north}\n",
    "reduceToBoundingBox.west={west}\n",
    "reduceToBoundingBox.east={east}\n",
    "selectVariables={variable}\n",
    "'''"
   ]
  },
  {
   "cell_type": "markdown",
   "metadata": {},
   "source": [
    "## Getting all variables for all basins using fimex"
   ]
  },
  {
   "cell_type": "code",
   "execution_count": 11,
   "metadata": {},
   "outputs": [
    {
     "name": "stdout",
     "output_type": "stream",
     "text": [
      "RR_Langtjern.nc\n",
      "[35.228.231.172] out: ETA: 0s Left: 1 AVG: 0.06s  local:1/364/100%/0.1s \n",
      "[35.228.231.172] out: ETA: 0s Left: 1 AVG: 0.06s  local:1/364/100%/0.1s \n",
      "[35.228.231.172] out: ETA: 0s Left: 1 AVG: 0.06s  local:1/364/100%/0.1s \n",
      "[35.228.231.172] out: ETA: 0s Left: 0 AVG: 0.06s  local:0/365/100%/0.1s \n",
      "[35.228.231.172] out: \n",
      "\n",
      "[35.228.231.172] download: /home/jose-luis/Envs/niva_prognos/PROGNOS/notebooks/delineateBasin/RR_Langtjern.nc <- /home/jose-luis/RR_Langtjern.nc\n",
      "\n",
      "Done.\n",
      "Disconnecting from 35.228.231.172... done.\n",
      "\n"
     ]
    }
   ],
   "source": [
    "#Getting all boundaries to download:\n",
    "#hasBeenDownloaded = False\n",
    "if not hasBeenDownloaded:\n",
    "    args=[]\n",
    "    with open(os.path.join(geoResultsFolder,'box.txt'), 'r') as f:\n",
    "        lines = f.read().splitlines()\n",
    "    boxes = [parse('BOX({west} {south},{east} {north})',i.split(';')[1]) for i in lines]\n",
    "    names =  [re.split(';|,|\\s',i)[0] for i in lines]\n",
    "    # import os\n",
    "    for i in varsToGet:\n",
    "        #Getting only dates from 2010 to 2016\n",
    "        args = [os.path.join(listFolder, \n",
    "                              i + '_' + model\n",
    "                             ), \n",
    "                 \"2010\", \"2010\"\n",
    "                ]\n",
    "        !cat {args[0]}.txt |  grep -E '/'`seq -s /\\|/ {args[1]} {args[2]}`'/' > {args[0]}_mini.txt\n",
    "       # fimexGenerator.callPopen('head -n 40 {0}.txt > {0}_mini.txt'.format(i + '_' + model))\n",
    "        currentDict = boxes[0].named\n",
    "        currentDict['variable'] = i\n",
    "        with open('box.cfg','w') as f:\n",
    "            f.write(cfgTemplate.format(**currentDict))\n",
    "        for j in names:\n",
    "            fimexGenerator.getNcDataForBox(os.path.join(listFolder, i + '_' + model) + '_mini.txt',\n",
    "                                      'box.cfg',\n",
    "                                      i + '_' + j + '.nc'\n",
    "                                      )   "
   ]
  },
  {
   "cell_type": "markdown",
   "metadata": {},
   "source": [
    "## Intersecting basin and nc file "
   ]
  },
  {
   "cell_type": "code",
   "execution_count": 18,
   "metadata": {},
   "outputs": [
    {
     "data": {
      "text/plain": [
       "(365, 192, 158)"
      ]
     },
     "metadata": {},
     "output_type": "display_data"
    },
    {
     "data": {
      "text/plain": [
       "192"
      ]
     },
     "metadata": {},
     "output_type": "display_data"
    },
    {
     "data": {
      "text/plain": [
       "158"
      ]
     },
     "metadata": {},
     "output_type": "display_data"
    }
   ],
   "source": [
    "# Creating a grid from the nc file\n",
    "# temperatureFile = os.path.abspath('./TG_Langtjern.nc')\n",
    "# data\n",
    "\n",
    "# nc_data = xr.open_dataset(temperatureFile)\n",
    "# temperature = nc_data.TG;\n",
    "# nc_shape = temperature.shape\n",
    "# X = nc_data.X.values\n",
    "# Y =nc_data.Y.values\n",
    "# nc_data.close()\n",
    "\n",
    "# cnt = 0\n",
    "# grid = list()\n",
    "# for i in X:\n",
    "#     for j in Y:\n",
    "#         left = i-500\n",
    "#         right = i+500\n",
    "#         bottom = j-500\n",
    "#         top = j+500\n",
    "#         p1 = Point(left,bottom)\n",
    "#         p2 = Point(left,top)\n",
    "#         p3 = Point(right,top)\n",
    "#         p4 = Point(right,bottom)\n",
    "#         pointList = [p1,p2,p3,p4,p1]\n",
    "#         poly = Polygon([[p.x,p.y] for p in pointList])\n",
    "#         poly.sid = cnt \n",
    "#         grid.append(poly)\n",
    "#         cnt += 1\n",
    "        \n",
    "# grid = MultiPolygon(grid)\n",
    "# display(grid)\n",
    "\n",
    "\n",
    "temperatureFile = os.path.abspath('/home/jose-luis/Downloads/magnus.nc')\n",
    "nc_data = xr.open_dataset(temperatureFile)\n",
    "temperature = nc_data.precipitation__map_hist_daily\n",
    "nc_shape = temperature.shape\n",
    "X = nc_data.Yc.values\n",
    "Y = nc_data.Xc.values\n",
    "lat = nc_data.lat.values\n",
    "nc_data.close()\n",
    "\n",
    "cnt = 0\n",
    "grid = list()\n",
    "for i in X:\n",
    "    for j in Y:\n",
    "        left = i-500\n",
    "        right = i+500\n",
    "        bottom = j-500\n",
    "        top = j+500\n",
    "        p1 = Point(left,bottom)\n",
    "        p2 = Point(left,top)\n",
    "        p3 = Point(right,top)\n",
    "        p4 = Point(right,bottom)\n",
    "        pointList = [p1,p2,p3,p4,p1]\n",
    "        poly = Polygon([[p.x,p.y] for p in pointList])\n",
    "        poly.sid = cnt \n",
    "        grid.append(poly)\n",
    "        cnt += 1\n",
    "\n",
    "grid = MultiPolygon(grid)\n",
    "display(grid)      \n",
    "        \n"
   ]
  },
  {
   "cell_type": "code",
   "execution_count": 15,
   "metadata": {},
   "outputs": [
    {
     "name": "stdout",
     "output_type": "stream",
     "text": [
      "\n",
      "[35.246.173.27] out: DROP INDEX\n",
      "[35.246.173.27] out: CREATE INDEX\n",
      "[35.246.173.27] out: NOTICE:  index \"metno_basins_gix\" does not exist, skipping\n",
      "[35.246.173.27] out: DROP INDEX\n",
      "[35.246.173.27] out: CREATE INDEX\n",
      "[35.246.173.27] out: \n",
      "\n",
      "\n",
      "Done.\n",
      "Disconnecting from 35.246.173.27... done.\n",
      "\n"
     ]
    }
   ],
   "source": [
    "# Uploading the grid to the geodatabase\n",
    "scriptsFolder = os.path.abspath('./scripts')\n",
    "basinGenerator.vmScript = '''#!/bin/bash\n",
    "\n",
    "read -r -d '' sql<<-EOM\n",
    "UPDATE metno.resultsshp SET basin = ST_MakeValid(basin); \n",
    "DROP TABLE IF EXISTS metno.dataBoundaries;\n",
    "CREATE TABLE metno.dataBoundaries(sid SERIAL PRIMARY KEY, boundary geometry(MULTIPOLYGON, 3035) );\n",
    "INSERT INTO metno.dataBoundaries(boundary) VALUES (ST_SetSRID(ST_Transform('{hexStr}'::geometry,32633,3035),3035));\n",
    "DROP INDEX IF EXISTS metno_data_boundary_gix;\n",
    "CREATE INDEX metno_data_boundary_gix ON metno.dataBoundaries USING GIST(boundary);\n",
    "DROP INDEX IF EXISTS metno_basins_gix;\n",
    "CREATE INDEX metno_basins_gix ON metno.resultsShp USING GIST(basin);\n",
    "EOM\n",
    "echo $sql | psql -d geonorway\n",
    "'''.format(hexStr=grid.wkb_hex)\n",
    "\n",
    "basinGenerator.runScript(saveFolder=scriptsFolder,scriptName='uploadGrid.sh')"
   ]
  },
  {
   "cell_type": "code",
   "execution_count": 18,
   "metadata": {},
   "outputs": [
    {
     "name": "stdout",
     "output_type": "stream",
     "text": [
      "\n",
      "[35.246.173.27] out: SELECT 26\n",
      "[35.246.173.27] out: CREATE INDEX\n",
      "[35.246.173.27] out: DROP TABLE\n",
      "[35.246.173.27] out: SELECT 12\n",
      "[35.246.173.27] out: COPY 12\n",
      "[35.246.173.27] out: \n",
      "\n",
      "\n",
      "Done.\n",
      "Disconnecting from 35.246.173.27... done.\n",
      "\n",
      "[35.246.173.27] Executing task 'downloadFile'\n",
      "[35.246.173.27] download: /home/jose-luis/Envs/niva_prognos/PROGNOS/notebooks/delineateBasin/geoResults/areas.txt <- /home/jose-luis/areas.txt\n",
      "\n",
      "Done.\n",
      "Disconnecting from 35.246.173.27... done.\n",
      "\n",
      "Warning: Local file /home/jose-luis/Envs/niva_prognos/PROGNOS/notebooks/delineateBasin/geoResults/areas.txt already exists and is being overwritten.\n",
      "\n"
     ]
    }
   ],
   "source": [
    "# Intersecting grid with basin and getting area of the intersection\n",
    "basinGenerator.vmScript = '''#!/bin/bash\n",
    "\n",
    "read -r -d '' sql<<-EOM\n",
    "DROP TABLE IF EXISTS test_dump;\n",
    "CREATE TABLE test_dump AS\n",
    "SELECT (ST_Dump(boundary)).path[1] as sid, (ST_Dump(boundary)).geom as geom\n",
    "FROM metno.dataBoundaries;\n",
    "\n",
    "CREATE INDEX dump_idx ON test_dump USING GIST(geom);\n",
    "\n",
    "DROP TABLE IF EXISTS subdivided_geoms;\n",
    "CREATE TABLE subdivided_geoms AS\n",
    "SELECT ST_Subdivide(basin,32) AS geom\n",
    "FROM metno.resultsShp\n",
    "WHERE station_name ='Langtjern';\n",
    "\n",
    "CREATE INDEX subdivided_idx ON test_dump USING GIST(geom);\n",
    "\n",
    "DROP TABLE IF EXISTS metno.areas;\n",
    "CREATE TABLE metno.areas AS\n",
    "WITH biglim AS (\n",
    "    SELECT a.sid,ST_Area(ST_Intersection(b.geom, a.geom)) AS area FROM  test_dump AS a, subdivided_geoms AS b\n",
    "    WHERE ST_Intersects(a.geom,b.geom)\n",
    ") \n",
    "SELECT sid,SUM(area) as area FROM biglim\n",
    "GROUP BY sid;\n",
    "EOM\n",
    "echo $sql | psql -d geonorway\n",
    "\n",
    "echo \"\\COPY (SELECT * FROM metno.areas) TO '/home/jose-luis/areas.txt' DELIMITER ';';\" | psql -d geonorway\n",
    "'''.format(hexStr=grid.wkb_hex)\n",
    "\n",
    "basinGenerator.runScript(saveFolder=scriptsFolder,scriptName='getIntersection.sh')\n",
    "\n",
    "#Downloading the results\n",
    "basinGenerator.callPopen('fab -f {} downloadFile:{},{}'.format(basinGenerator.fabfile,\n",
    "                                                      'areas.txt',\n",
    "                                                      os.path.join(geoResultsFolder,'areas.txt')\n",
    "                                                     )\n",
    "                        )"
   ]
  },
  {
   "cell_type": "code",
   "execution_count": 19,
   "metadata": {},
   "outputs": [
    {
     "data": {
      "text/plain": [
       "<matplotlib.image.AxesImage at 0x7f12bf65b978>"
      ]
     },
     "execution_count": 19,
     "metadata": {},
     "output_type": "execute_result"
    },
    {
     "data": {
      "image/png": "[encoded data removed]",
      "text/plain": [
       "<Figure size 432x288 with 1 Axes>"
      ]
     },
     "metadata": {
      "needs_background": "light"
     },
     "output_type": "display_data"
    }
   ],
   "source": [
    "#Getting weight array from area file\n",
    "weights = pd.read_csv( os.path.join(geoResultsFolder,'areas.txt'),delimiter=';', header=None, names=['idx','area'])\n",
    "\n",
    "idx = weights.idx.values\n",
    "weight = weights.area.values\n",
    "\n",
    "#Getting the in a 2d array\n",
    "weightArray = np.zeros((nc_shape[1:]))\n",
    "arrayIdx = np.unravel_index(idx,nc_shape[2:0:-1])\n",
    "for i,j,k in zip(arrayIdx[1],arrayIdx[0],weight):\n",
    "    weightArray[i][j] = k;\n",
    "\n",
    "plt.imshow(weightArray)"
   ]
  },
  {
   "cell_type": "code",
   "execution_count": 21,
   "metadata": {},
   "outputs": [
    {
     "data": {
      "text/plain": [
       "<matplotlib.axes._subplots.AxesSubplot at 0x7f12bc6bb390>"
      ]
     },
     "execution_count": 21,
     "metadata": {},
     "output_type": "execute_result"
    },
    {
     "data": {
      "image/png": "[encoded data removed]",
      "text/plain": [
       "<Figure size 1440x360 with 1 Axes>"
      ]
     },
     "metadata": {
      "needs_background": "light"
     },
     "output_type": "display_data"
    },
    {
     "data": {
      "image/png": "[encoded data removed]",
      "text/plain": [
       "<Figure size 1440x360 with 1 Axes>"
      ]
     },
     "metadata": {
      "needs_background": "light"
     },
     "output_type": "display_data"
    }
   ],
   "source": [
    "# Getting area-weighted data\n",
    "def getWeightedData(filename,variable,save=True,isTemperature=False):\n",
    "    nc_data = xr.open_dataset(filename,chunks={'time':1000})\n",
    "    time = nc_data.time.values\n",
    "    total_weight = sum(weight)\n",
    "    data = np.sum(np.sum((nc_data.variables[variable] * weightArray)/total_weight,axis=1),axis=1)\n",
    "    if isTemperature:\n",
    "        data-=273.15\n",
    "    nc_data.close()\n",
    "    if save:\n",
    "        data_df = pd.DataFrame({variable:data},index=time)\n",
    "        data_df.to_pickle('./{}.pickle'.format(variable))\n",
    "        data_df.to_csv('./{}.csv'.format(variable))\n",
    "    return data_df\n",
    "\n",
    "temperature_df = getWeightedData(os.path.abspath('./TG_Langtjern.nc'),'TG',isTemperature=True)\n",
    "temperature_df.plot(figsize=(20,5))\n",
    "\n",
    "rain_df = getWeightedData(os.path.abspath('./RR_Langtjern.nc'),'RR')\n",
    "rain_df.plot(figsize=(20,5))\n"
   ]
  },
  {
   "cell_type": "code",
   "execution_count": 22,
   "metadata": {},
   "outputs": [
    {
     "data": {
      "text/html": [
       "<div>\n",
       "<style scoped>\n",
       "    .dataframe tbody tr th:only-of-type {\n",
       "        vertical-align: middle;\n",
       "    }\n",
       "\n",
       "    .dataframe tbody tr th {\n",
       "        vertical-align: top;\n",
       "    }\n",
       "\n",
       "    .dataframe thead th {\n",
       "        text-align: right;\n",
       "    }\n",
       "</style>\n",
       "<table border=\"1\" class=\"dataframe\">\n",
       "  <thead>\n",
       "    <tr style=\"text-align: right;\">\n",
       "      <th></th>\n",
       "      <th>TG</th>\n",
       "    </tr>\n",
       "  </thead>\n",
       "  <tbody>\n",
       "    <tr>\n",
       "      <th>2009-12-31 18:00:00</th>\n",
       "      <td>-11.834113</td>\n",
       "    </tr>\n",
       "    <tr>\n",
       "      <th>2010-01-01 18:00:00</th>\n",
       "      <td>-9.779620</td>\n",
       "    </tr>\n",
       "    <tr>\n",
       "      <th>2010-01-02 18:00:00</th>\n",
       "      <td>-14.502330</td>\n",
       "    </tr>\n",
       "    <tr>\n",
       "      <th>2010-01-03 18:00:00</th>\n",
       "      <td>-13.122341</td>\n",
       "    </tr>\n",
       "    <tr>\n",
       "      <th>2010-01-04 18:00:00</th>\n",
       "      <td>-14.646957</td>\n",
       "    </tr>\n",
       "    <tr>\n",
       "      <th>2010-01-05 18:00:00</th>\n",
       "      <td>-16.153331</td>\n",
       "    </tr>\n",
       "    <tr>\n",
       "      <th>2010-01-06 18:00:00</th>\n",
       "      <td>-20.802325</td>\n",
       "    </tr>\n",
       "    <tr>\n",
       "      <th>2010-01-07 18:00:00</th>\n",
       "      <td>-20.649202</td>\n",
       "    </tr>\n",
       "    <tr>\n",
       "      <th>2010-01-08 18:00:00</th>\n",
       "      <td>-21.640822</td>\n",
       "    </tr>\n",
       "    <tr>\n",
       "      <th>2010-01-09 18:00:00</th>\n",
       "      <td>-17.859430</td>\n",
       "    </tr>\n",
       "    <tr>\n",
       "      <th>2010-01-10 18:00:00</th>\n",
       "      <td>-15.849197</td>\n",
       "    </tr>\n",
       "    <tr>\n",
       "      <th>2010-01-11 18:00:00</th>\n",
       "      <td>-12.956262</td>\n",
       "    </tr>\n",
       "    <tr>\n",
       "      <th>2010-01-12 18:00:00</th>\n",
       "      <td>-11.876868</td>\n",
       "    </tr>\n",
       "    <tr>\n",
       "      <th>2010-01-13 18:00:00</th>\n",
       "      <td>-10.438525</td>\n",
       "    </tr>\n",
       "    <tr>\n",
       "      <th>2010-01-14 18:00:00</th>\n",
       "      <td>-8.009455</td>\n",
       "    </tr>\n",
       "    <tr>\n",
       "      <th>2010-01-15 18:00:00</th>\n",
       "      <td>-10.404419</td>\n",
       "    </tr>\n",
       "    <tr>\n",
       "      <th>2010-01-16 18:00:00</th>\n",
       "      <td>-7.147804</td>\n",
       "    </tr>\n",
       "    <tr>\n",
       "      <th>2010-01-17 18:00:00</th>\n",
       "      <td>-3.125920</td>\n",
       "    </tr>\n",
       "    <tr>\n",
       "      <th>2010-01-18 18:00:00</th>\n",
       "      <td>-4.979619</td>\n",
       "    </tr>\n",
       "    <tr>\n",
       "      <th>2010-01-19 18:00:00</th>\n",
       "      <td>-9.312774</td>\n",
       "    </tr>\n",
       "    <tr>\n",
       "      <th>2010-01-20 18:00:00</th>\n",
       "      <td>-5.746955</td>\n",
       "    </tr>\n",
       "    <tr>\n",
       "      <th>2010-01-21 18:00:00</th>\n",
       "      <td>-4.398210</td>\n",
       "    </tr>\n",
       "    <tr>\n",
       "      <th>2010-01-22 18:00:00</th>\n",
       "      <td>-5.340079</td>\n",
       "    </tr>\n",
       "    <tr>\n",
       "      <th>2010-01-23 18:00:00</th>\n",
       "      <td>-5.150213</td>\n",
       "    </tr>\n",
       "    <tr>\n",
       "      <th>2010-01-24 18:00:00</th>\n",
       "      <td>-5.625920</td>\n",
       "    </tr>\n",
       "    <tr>\n",
       "      <th>2010-01-25 18:00:00</th>\n",
       "      <td>-9.840079</td>\n",
       "    </tr>\n",
       "    <tr>\n",
       "      <th>2010-01-26 18:00:00</th>\n",
       "      <td>-9.002990</td>\n",
       "    </tr>\n",
       "    <tr>\n",
       "      <th>2010-01-27 18:00:00</th>\n",
       "      <td>-8.209860</td>\n",
       "    </tr>\n",
       "    <tr>\n",
       "      <th>2010-01-28 18:00:00</th>\n",
       "      <td>-4.971911</td>\n",
       "    </tr>\n",
       "    <tr>\n",
       "      <th>2010-01-29 18:00:00</th>\n",
       "      <td>-7.223478</td>\n",
       "    </tr>\n",
       "    <tr>\n",
       "      <th>...</th>\n",
       "      <td>...</td>\n",
       "    </tr>\n",
       "    <tr>\n",
       "      <th>2010-12-01 18:00:00</th>\n",
       "      <td>-16.349774</td>\n",
       "    </tr>\n",
       "    <tr>\n",
       "      <th>2010-12-02 18:00:00</th>\n",
       "      <td>-16.856981</td>\n",
       "    </tr>\n",
       "    <tr>\n",
       "      <th>2010-12-03 18:00:00</th>\n",
       "      <td>-17.610694</td>\n",
       "    </tr>\n",
       "    <tr>\n",
       "      <th>2010-12-04 18:00:00</th>\n",
       "      <td>-18.051718</td>\n",
       "    </tr>\n",
       "    <tr>\n",
       "      <th>2010-12-05 18:00:00</th>\n",
       "      <td>-13.668164</td>\n",
       "    </tr>\n",
       "    <tr>\n",
       "      <th>2010-12-06 18:00:00</th>\n",
       "      <td>-15.393782</td>\n",
       "    </tr>\n",
       "    <tr>\n",
       "      <th>2010-12-07 18:00:00</th>\n",
       "      <td>-15.765887</td>\n",
       "    </tr>\n",
       "    <tr>\n",
       "      <th>2010-12-08 18:00:00</th>\n",
       "      <td>-13.860259</td>\n",
       "    </tr>\n",
       "    <tr>\n",
       "      <th>2010-12-09 18:00:00</th>\n",
       "      <td>-11.176820</td>\n",
       "    </tr>\n",
       "    <tr>\n",
       "      <th>2010-12-10 18:00:00</th>\n",
       "      <td>-9.951540</td>\n",
       "    </tr>\n",
       "    <tr>\n",
       "      <th>2010-12-11 18:00:00</th>\n",
       "      <td>-4.181304</td>\n",
       "    </tr>\n",
       "    <tr>\n",
       "      <th>2010-12-12 18:00:00</th>\n",
       "      <td>-6.565183</td>\n",
       "    </tr>\n",
       "    <tr>\n",
       "      <th>2010-12-13 18:00:00</th>\n",
       "      <td>-6.164684</td>\n",
       "    </tr>\n",
       "    <tr>\n",
       "      <th>2010-12-14 18:00:00</th>\n",
       "      <td>-7.564022</td>\n",
       "    </tr>\n",
       "    <tr>\n",
       "      <th>2010-12-15 18:00:00</th>\n",
       "      <td>-10.283849</td>\n",
       "    </tr>\n",
       "    <tr>\n",
       "      <th>2010-12-16 18:00:00</th>\n",
       "      <td>-8.227246</td>\n",
       "    </tr>\n",
       "    <tr>\n",
       "      <th>2010-12-17 18:00:00</th>\n",
       "      <td>-10.433442</td>\n",
       "    </tr>\n",
       "    <tr>\n",
       "      <th>2010-12-18 18:00:00</th>\n",
       "      <td>-5.806084</td>\n",
       "    </tr>\n",
       "    <tr>\n",
       "      <th>2010-12-19 18:00:00</th>\n",
       "      <td>-8.185046</td>\n",
       "    </tr>\n",
       "    <tr>\n",
       "      <th>2010-12-20 18:00:00</th>\n",
       "      <td>-13.328189</td>\n",
       "    </tr>\n",
       "    <tr>\n",
       "      <th>2010-12-21 18:00:00</th>\n",
       "      <td>-19.949113</td>\n",
       "    </tr>\n",
       "    <tr>\n",
       "      <th>2010-12-22 18:00:00</th>\n",
       "      <td>-20.533443</td>\n",
       "    </tr>\n",
       "    <tr>\n",
       "      <th>2010-12-23 18:00:00</th>\n",
       "      <td>-16.525918</td>\n",
       "    </tr>\n",
       "    <tr>\n",
       "      <th>2010-12-24 18:00:00</th>\n",
       "      <td>-16.724308</td>\n",
       "    </tr>\n",
       "    <tr>\n",
       "      <th>2010-12-25 18:00:00</th>\n",
       "      <td>-16.396812</td>\n",
       "    </tr>\n",
       "    <tr>\n",
       "      <th>2010-12-26 18:00:00</th>\n",
       "      <td>-11.142459</td>\n",
       "    </tr>\n",
       "    <tr>\n",
       "      <th>2010-12-27 18:00:00</th>\n",
       "      <td>-9.097553</td>\n",
       "    </tr>\n",
       "    <tr>\n",
       "      <th>2010-12-28 18:00:00</th>\n",
       "      <td>-14.216979</td>\n",
       "    </tr>\n",
       "    <tr>\n",
       "      <th>2010-12-29 18:00:00</th>\n",
       "      <td>-15.617554</td>\n",
       "    </tr>\n",
       "    <tr>\n",
       "      <th>2010-12-30 18:00:00</th>\n",
       "      <td>-14.735387</td>\n",
       "    </tr>\n",
       "  </tbody>\n",
       "</table>\n",
       "<p>365 rows × 1 columns</p>\n",
       "</div>"
      ],
      "text/plain": [
       "                            TG\n",
       "2009-12-31 18:00:00 -11.834113\n",
       "2010-01-01 18:00:00  -9.779620\n",
       "2010-01-02 18:00:00 -14.502330\n",
       "2010-01-03 18:00:00 -13.122341\n",
       "2010-01-04 18:00:00 -14.646957\n",
       "2010-01-05 18:00:00 -16.153331\n",
       "2010-01-06 18:00:00 -20.802325\n",
       "2010-01-07 18:00:00 -20.649202\n",
       "2010-01-08 18:00:00 -21.640822\n",
       "2010-01-09 18:00:00 -17.859430\n",
       "2010-01-10 18:00:00 -15.849197\n",
       "2010-01-11 18:00:00 -12.956262\n",
       "2010-01-12 18:00:00 -11.876868\n",
       "2010-01-13 18:00:00 -10.438525\n",
       "2010-01-14 18:00:00  -8.009455\n",
       "2010-01-15 18:00:00 -10.404419\n",
       "2010-01-16 18:00:00  -7.147804\n",
       "2010-01-17 18:00:00  -3.125920\n",
       "2010-01-18 18:00:00  -4.979619\n",
       "2010-01-19 18:00:00  -9.312774\n",
       "2010-01-20 18:00:00  -5.746955\n",
       "2010-01-21 18:00:00  -4.398210\n",
       "2010-01-22 18:00:00  -5.340079\n",
       "2010-01-23 18:00:00  -5.150213\n",
       "2010-01-24 18:00:00  -5.625920\n",
       "2010-01-25 18:00:00  -9.840079\n",
       "2010-01-26 18:00:00  -9.002990\n",
       "2010-01-27 18:00:00  -8.209860\n",
       "2010-01-28 18:00:00  -4.971911\n",
       "2010-01-29 18:00:00  -7.223478\n",
       "...                        ...\n",
       "2010-12-01 18:00:00 -16.349774\n",
       "2010-12-02 18:00:00 -16.856981\n",
       "2010-12-03 18:00:00 -17.610694\n",
       "2010-12-04 18:00:00 -18.051718\n",
       "2010-12-05 18:00:00 -13.668164\n",
       "2010-12-06 18:00:00 -15.393782\n",
       "2010-12-07 18:00:00 -15.765887\n",
       "2010-12-08 18:00:00 -13.860259\n",
       "2010-12-09 18:00:00 -11.176820\n",
       "2010-12-10 18:00:00  -9.951540\n",
       "2010-12-11 18:00:00  -4.181304\n",
       "2010-12-12 18:00:00  -6.565183\n",
       "2010-12-13 18:00:00  -6.164684\n",
       "2010-12-14 18:00:00  -7.564022\n",
       "2010-12-15 18:00:00 -10.283849\n",
       "2010-12-16 18:00:00  -8.227246\n",
       "2010-12-17 18:00:00 -10.433442\n",
       "2010-12-18 18:00:00  -5.806084\n",
       "2010-12-19 18:00:00  -8.185046\n",
       "2010-12-20 18:00:00 -13.328189\n",
       "2010-12-21 18:00:00 -19.949113\n",
       "2010-12-22 18:00:00 -20.533443\n",
       "2010-12-23 18:00:00 -16.525918\n",
       "2010-12-24 18:00:00 -16.724308\n",
       "2010-12-25 18:00:00 -16.396812\n",
       "2010-12-26 18:00:00 -11.142459\n",
       "2010-12-27 18:00:00  -9.097553\n",
       "2010-12-28 18:00:00 -14.216979\n",
       "2010-12-29 18:00:00 -15.617554\n",
       "2010-12-30 18:00:00 -14.735387\n",
       "\n",
       "[365 rows x 1 columns]"
      ]
     },
     "metadata": {},
     "output_type": "display_data"
    }
   ],
   "source": [
    "display(temperature_df)"
   ]
  },
  {
   "cell_type": "code",
   "execution_count": 23,
   "metadata": {},
   "outputs": [],
   "source": [
    "basinGenerator.kill()\n",
    "fimexGenerator.kill()"
   ]
  }
 ],
 "metadata": {
  "kernelspec": {
   "display_name": "Python 3",
   "language": "python",
   "name": "python3"
  },
  "language_info": {
   "codemirror_mode": {
    "name": "ipython",
    "version": 3
   },
   "file_extension": ".py",
   "mimetype": "text/x-python",
   "name": "python",
   "nbconvert_exporter": "python",
   "pygments_lexer": "ipython3",
   "version": "3.6.8"
  }
 },
 "nbformat": 4,
 "nbformat_minor": 2
}
