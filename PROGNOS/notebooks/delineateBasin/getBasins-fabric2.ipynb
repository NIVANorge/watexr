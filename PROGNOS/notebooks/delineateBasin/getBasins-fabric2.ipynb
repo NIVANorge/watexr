{
 "cells": [
  {
   "cell_type": "code",
   "execution_count": 1,
   "metadata": {},
   "outputs": [
    {
     "name": "stdin",
     "output_type": "stream",
     "text": [
      "Password:  ·······\n"
     ]
    },
    {
     "data": {
      "text/plain": [
       "[]"
      ]
     },
     "execution_count": 1,
     "metadata": {},
     "output_type": "execute_result"
    }
   ],
   "source": [
    "import re\n",
    "import getpass\n",
    "import gmaps\n",
    "import requests\n",
    "from bs4 import BeautifulSoup\n",
    "from bs4 import SoupStrainer\n",
    "from urllib.parse import urljoin\n",
    "from IPython.display import clear_output, display\n",
    "from parse import parse\n",
    "import yaml\n",
    "import time\n",
    "import os\n",
    "import sys\n",
    "from fabric import Connection\n",
    "\n",
    "#adding prognos tools\n",
    "sys.path.insert(0, \"/home/jose-luis/Envs/niva_prognos/PROGNOS/\")\n",
    "from prognos_tools.encrypt import decryptString\n",
    "from prognos_tools.Basin_fabric2 import Basin\n",
    "\n",
    "\n",
    "gmapsToken=b'gAAAAABctxJp5wE73qK6U5VieCi0WXNnNex4KxLZHutsESa8fW9v43lLa1Ag0qsxKFjXXo9MBAdvUpqJPW-QmCE0gH_Opf9g4xAG1VaI2WarO_xDZg44VLMCHkd_6O8ofgp8u4VuFBMr'\n",
    "key = getpass.getpass('Password: ')\n",
    "apiKey = decryptString(gmapsToken,key)\n",
    "gmaps.configure(api_key=apiKey)\n",
    "del key,apiKey\n",
    "\n",
    "#Creating folder to store temporary files and downloaded data\n",
    "saveFolder = './DownloadedData/'\n",
    "\n",
    "args = [saveFolder,]\n",
    "!!rm -rf {args[0]} && mkdir -p {args[0]}"
   ]
  },
  {
   "cell_type": "markdown",
   "metadata": {},
   "source": [
    "# Getting list of openDAP links with high-resolution (1km2) temperature and precipitation data"
   ]
  },
  {
   "cell_type": "code",
   "execution_count": 2,
   "metadata": {},
   "outputs": [],
   "source": [
    "getList = False\n",
    "\n",
    "baseURL = 'http://thredds.met.no/thredds/catalog/ngcd/version_19.03/catalog.html'\n",
    "varsToGet = ['TX','TN','TG','RR']\n",
    "model = 'type1'\n",
    "listFolder = os.path.abspath('./' + model + 'Lists') #Folder where list of links will be saved\n",
    "\n",
    "only_a_tags = SoupStrainer(\"a\", href=True)\n",
    "\n",
    "def getSoup(url,re_str):\n",
    "    request=requests.get(url)\n",
    "    soup=BeautifulSoup(request.content,'lxml',parse_only=only_a_tags)\n",
    "    link_soup=soup.find_all('a',text=re.compile(re_str))\n",
    "    links=[]\n",
    "    for i in link_soup:\n",
    "        links.append(urljoin(url,i['href']))\n",
    "    return links\n",
    "\n",
    "def getFileList(var):\n",
    "    allLinks=[]\n",
    "    for var_link in getSoup(baseURL,var):\n",
    "        for model_link in getSoup(var_link,model):\n",
    "            for year_link in getSoup(model_link,'^[0-9]{4}/$'):\n",
    "                print('Processing {}'.format(year_link))\n",
    "                for month_link in getSoup(year_link,'^[0-9]{2}/$'):\n",
    "                    for day_link in getSoup(month_link,'\\\\.nc$'):\n",
    "                        for opendap_link in getSoup(day_link,'^/thredds/dodsC/'):\n",
    "                            allLinks.append(re.sub(r'\\.html$', '', opendap_link))\n",
    "    return allLinks\n",
    "    \n",
    "\n",
    "if getList:\n",
    "    links = []\n",
    "    !! rm -rf listFolder && mkdir listFolder\n",
    "    for i in varsToGet:\n",
    "        #Getting all links for variable\n",
    "        links.append(getFileList(i))\n",
    "        #Saving paths to file\n",
    "        with open(os.path.join(listFolder , i + '_' + model + '.txt'), 'w') as f:\n",
    "            for item in links[-1]:\n",
    "                f.write(\"%s\\n\" % item)"
   ]
  },
  {
   "cell_type": "markdown",
   "metadata": {},
   "source": [
    "## Querying extent of the basin\n",
    "### Creating a VM with the geodatabase on it"
   ]
  },
  {
   "cell_type": "code",
   "execution_count": 2,
   "metadata": {},
   "outputs": [
    {
     "data": {
      "text/plain": [
       "[]"
      ]
     },
     "metadata": {},
     "output_type": "display_data"
    },
    {
     "ename": "KeyboardInterrupt",
     "evalue": "",
     "output_type": "error",
     "traceback": [
      "\u001b[0;31m---------------------------------------------------------------------------\u001b[0m",
      "\u001b[0;31mKeyboardInterrupt\u001b[0m                         Traceback (most recent call last)",
      "\u001b[0;32m<ipython-input-2-3c5d626448b6>\u001b[0m in \u001b[0;36m<module>\u001b[0;34m\u001b[0m\n\u001b[1;32m     27\u001b[0m \u001b[0;34m\u001b[0m\u001b[0m\n\u001b[1;32m     28\u001b[0m \u001b[0;31m#Actually instantiating the machine\u001b[0m\u001b[0;34m\u001b[0m\u001b[0;34m\u001b[0m\u001b[0;34m\u001b[0m\u001b[0m\n\u001b[0;32m---> 29\u001b[0;31m \u001b[0mip\u001b[0m\u001b[0;34m=\u001b[0m\u001b[0mbasin\u001b[0m\u001b[0;34m.\u001b[0m\u001b[0minstantiate\u001b[0m\u001b[0;34m(\u001b[0m\u001b[0mwait\u001b[0m\u001b[0;34m=\u001b[0m\u001b[0;32mTrue\u001b[0m\u001b[0;34m)\u001b[0m \u001b[0;31m#wait until the vm is actually up and running\u001b[0m\u001b[0;34m\u001b[0m\u001b[0;34m\u001b[0m\u001b[0m\n\u001b[0m\u001b[1;32m     30\u001b[0m \u001b[0mdisplay\u001b[0m\u001b[0;34m(\u001b[0m\u001b[0mip\u001b[0m\u001b[0;34m)\u001b[0m\u001b[0;34m\u001b[0m\u001b[0;34m\u001b[0m\u001b[0m\n\u001b[1;32m     31\u001b[0m \u001b[0;34m\u001b[0m\u001b[0m\n",
      "\u001b[0;32m~/Envs/niva_prognos/PROGNOS/prognos_tools/Basin_fabric2.py\u001b[0m in \u001b[0;36minstantiate\u001b[0;34m(self, wait)\u001b[0m\n\u001b[1;32m    200\u001b[0m             \u001b[0mdisplay\u001b[0m\u001b[0;34m(\u001b[0m\u001b[0mresponse\u001b[0m\u001b[0;34m[\u001b[0m\u001b[0;34m'contents'\u001b[0m\u001b[0;34m]\u001b[0m\u001b[0;34m.\u001b[0m\u001b[0msplitlines\u001b[0m\u001b[0;34m(\u001b[0m\u001b[0;34m)\u001b[0m\u001b[0;34m)\u001b[0m\u001b[0;34m\u001b[0m\u001b[0;34m\u001b[0m\u001b[0m\n\u001b[1;32m    201\u001b[0m             \u001b[0;32mwhile\u001b[0m \u001b[0;34m'Startup finished in'\u001b[0m \u001b[0;32mnot\u001b[0m \u001b[0;32min\u001b[0m \u001b[0mresponse\u001b[0m\u001b[0;34m[\u001b[0m\u001b[0;34m'contents'\u001b[0m\u001b[0;34m]\u001b[0m\u001b[0;34m:\u001b[0m\u001b[0;34m\u001b[0m\u001b[0;34m\u001b[0m\u001b[0m\n\u001b[0;32m--> 202\u001b[0;31m                 \u001b[0mtime\u001b[0m\u001b[0;34m.\u001b[0m\u001b[0msleep\u001b[0m\u001b[0;34m(\u001b[0m\u001b[0;36m5\u001b[0m\u001b[0;34m)\u001b[0m\u001b[0;34m\u001b[0m\u001b[0;34m\u001b[0m\u001b[0m\n\u001b[0m\u001b[1;32m    203\u001b[0m                 \u001b[0mclear_output\u001b[0m\u001b[0;34m(\u001b[0m\u001b[0;34m)\u001b[0m\u001b[0;34m\u001b[0m\u001b[0;34m\u001b[0m\u001b[0m\n\u001b[1;32m    204\u001b[0m                 \u001b[0mparams\u001b[0m\u001b[0;34m[\u001b[0m\u001b[0;34m'start'\u001b[0m\u001b[0;34m]\u001b[0m \u001b[0;34m=\u001b[0m \u001b[0mint\u001b[0m\u001b[0;34m(\u001b[0m\u001b[0mresponse\u001b[0m\u001b[0;34m[\u001b[0m\u001b[0;34m'next'\u001b[0m\u001b[0;34m]\u001b[0m\u001b[0;34m)\u001b[0m\u001b[0;34m\u001b[0m\u001b[0;34m\u001b[0m\u001b[0m\n",
      "\u001b[0;31mKeyboardInterrupt\u001b[0m: "
     ]
    }
   ],
   "source": [
    "#Testing connection to google cloud\n",
    "cloudInfo = {'project': 'nivacatchment',\n",
    "             'zone': 'europe-west3-a',\n",
    "             'instanceType' : \"n1-standard-2\",\n",
    "             'instanceName' : \"prognosin\",\n",
    "             'username' : \"jose-luis\",\n",
    "             'keyDir' : './'\n",
    "             }\n",
    "basin=Basin('/home/jose-luis/Envs/gce_framework/code/keys/nivacatchment.json',cloudInfo)\n",
    "display(basin.properties)\n",
    "\n",
    "info = basin.get('projectInfo')\n",
    "display('Can now talk to project {}'.format(info['name']))\n",
    "\n",
    "\n",
    "#Setting ssh firewall for project\n",
    "inOffice = True\n",
    "if not inOffice:\n",
    "    u = miniupnpc.UPnP()\n",
    "    u.discoverdelay = 200\n",
    "    u.discover()\n",
    "    u.selectigd()\n",
    "    externalIP= u.externalipaddress()\n",
    "    basin.setSSHPort(externalIP,inOffice=False)\n",
    "else:\n",
    "    basin.setSSHPort()\n",
    "\n",
    "#Actually instantiating the machine\n",
    "ip=basin.instantiate(wait=True) #wait until the vm is actually up and running\n",
    "display(ip)\n",
    "\n",
    "#Allowing local connections on the VM without password by modifying the pg_hba.conf file\n",
    "with Connection(host=basin.properties['ip'],\n",
    "                user=basin.properties['username'],\n",
    "                connect_kwargs={\"key_filename\": basin.properties['keyFile'],}\n",
    "                ) as c:\n",
    "    c.sudo('''find /etc -name pg_hba.conf -exec sed -i 's|\\(^host \\+all \\+all \\+::1/128 \\+\\).*|\\\\1trust|g' {} \\; ''')\n",
    "    c.sudo(\"service postgresql restart\")\n",
    "\n",
    "\n",
    "#Defining custom queries to geodatabase. Note that we forwarded the port on the VM to the\n",
    "#local 5432 port so as to be able to talk to postgresql through the local port\n",
    "def query(query):\n",
    "    with Connection(host=basin.properties['ip'],\n",
    "                    user=basin.properties['username'],\n",
    "                    connect_kwargs={\"key_filename\": basin.properties['keyFile']}).forward_local(5432):\n",
    "        db = psycopg2.connect(host='localhost', port=5432, database='geonorway')\n",
    "        cursor = db.cursor()\n",
    "        cursor.execute(query)\n",
    "        return(cursor.fetchall()) \n",
    "\n",
    "#Setting up the connection    \n",
    "basin.setConnection()"
   ]
  },
  {
   "cell_type": "markdown",
   "metadata": {},
   "source": [
    "### Getting basins extent"
   ]
  },
  {
   "cell_type": "code",
   "execution_count": 4,
   "metadata": {},
   "outputs": [
    {
     "data": {
      "text/plain": [
       "[{'station': {'buffer': 20000,\n",
       "   'epsg': 4326,\n",
       "   'latitude': 59.88929,\n",
       "   'longitude': 10.12331,\n",
       "   'station_id': 0,\n",
       "   'station_name': 'Rotua ved Kluftetangene'}},\n",
       " {'station': {'buffer': 20000,\n",
       "   'epsg': 4326,\n",
       "   'latitude': 59.881780000000006,\n",
       "   'longitude': 10.0896,\n",
       "   'station_id': 1,\n",
       "   'station_name': 'Elgtjernsbekken'}},\n",
       " {'station': {'buffer': 20000,\n",
       "   'epsg': 4326,\n",
       "   'latitude': 59.873171,\n",
       "   'longitude': 10.060792,\n",
       "   'station_id': 2,\n",
       "   'station_name': 'Guritjernsbekken'}},\n",
       " {'station': {'buffer': 20000,\n",
       "   'epsg': 4326,\n",
       "   'latitude': 59.86846,\n",
       "   'longitude': 10.03501,\n",
       "   'station_id': 3,\n",
       "   'station_name': 'Jøssjøbekken'}},\n",
       " {'station': {'buffer': 20000,\n",
       "   'epsg': 4326,\n",
       "   'latitude': 59.854848,\n",
       "   'longitude': 10.048416,\n",
       "   'station_id': 4,\n",
       "   'station_name': 'Sandungsbekken'}},\n",
       " {'station': {'buffer': 20000,\n",
       "   'epsg': 4326,\n",
       "   'latitude': 59.849623,\n",
       "   'longitude': 10.017462,\n",
       "   'station_id': 5,\n",
       "   'station_name': 'Dypingbekken'}},\n",
       " {'station': {'buffer': 20000,\n",
       "   'epsg': 4326,\n",
       "   'latitude': 59.853656,\n",
       "   'longitude': 10.060717,\n",
       "   'station_id': 6,\n",
       "   'station_name': 'Langevannsbekken'}},\n",
       " {'station': {'buffer': 20000,\n",
       "   'epsg': 4326,\n",
       "   'latitude': 59.85006,\n",
       "   'longitude': 10.079139999999999,\n",
       "   'station_id': 7,\n",
       "   'station_name': 'Gampedalsbekken'}},\n",
       " {'station': {'buffer': 20000,\n",
       "   'epsg': 4326,\n",
       "   'latitude': 59.87033,\n",
       "   'longitude': 10.090710000000001,\n",
       "   'station_id': 8,\n",
       "   'station_name': 'Glitredammen'}},\n",
       " {'station': {'buffer': 20000,\n",
       "   'epsg': 4326,\n",
       "   'latitude': 59.889430000000004,\n",
       "   'longitude': 10.083160000000001,\n",
       "   'station_id': 9,\n",
       "   'station_name': 'Elgtjernsbekken NVE'}}]"
      ]
     },
     "metadata": {},
     "output_type": "display_data"
    },
    {
     "data": {
      "text/plain": [
       "'Directory should be created'"
      ]
     },
     "metadata": {},
     "output_type": "display_data"
    },
    {
     "name": "stdout",
     "output_type": "stream",
     "text": [
      "Gonna create the getBasin.sh file\n",
      "./geoResults/getBasin.sh\n"
     ]
    },
    {
     "name": "stderr",
     "output_type": "stream",
     "text": [
      "NOTICE:  table \"stations\" does not exist, skipping\n"
     ]
    },
    {
     "name": "stdout",
     "output_type": "stream",
     "text": [
      " initializestations \n",
      "--------------------\n",
      " \n",
      "(1 row)\n",
      "\n",
      " addstations \n",
      "-------------\n",
      " \n",
      "(1 row)\n",
      "\n"
     ]
    },
    {
     "name": "stderr",
     "output_type": "stream",
     "text": [
      "NOTICE:  schema \"metno\" does not exist, skipping\n"
     ]
    },
    {
     "name": "stdout",
     "output_type": "stream",
     "text": [
      " initializeresultsschema \n",
      "-------------------------\n",
      " \n",
      "(1 row)\n",
      "\n"
     ]
    },
    {
     "name": "stderr",
     "output_type": "stream",
     "text": [
      "NOTICE:  table \"buffertable\" does not exist, skipping\n"
     ]
    },
    {
     "name": "stdout",
     "output_type": "stream",
     "text": [
      " createdatatable \n",
      "-----------------\n",
      " \n",
      "(1 row)\n",
      "\n",
      " createresultstable \n",
      "--------------------\n",
      " \n",
      "(1 row)\n",
      "\n",
      "0\n",
      "Initializing... \n",
      "Done (postgis major version: 2).\n",
      "Output shape: Point\n",
      "Dumping: X [1 rows].\n",
      "Gage Watershed version 5.3.8\n",
      "Input file PG:dbname=geonorway schema=metno table=flow column=rast where='station_id=0' mode=2 has projected coordinate system.\n"
     ]
    },
    {
     "name": "stderr",
     "output_type": "stream",
     "text": [
      "This run may take on the order of 1 minutes to complete.\n",
      "This estimate is very approximate. \n",
      "Run time is highly uncertain as it depends on the complexity of the input data \n",
      "and speed and memory of the computer. This estimate is based on our testing on \n",
      "a dual quad core Dell Xeon E5405 2.0GHz PC with 16GB RAM.\n"
     ]
    },
    {
     "name": "stdout",
     "output_type": "stream",
     "text": [
      "Size: 2\n",
      "Read time: 1.656882\n",
      "Compute time: 0.078622\n",
      "Write time: 0.069323\n",
      "Total time: 1.804827\n",
      "Creating output basin0.shp of format ESRI Shapefile.\n",
      "0...10...20...30...40...50...60...70...80...90...100 - done.\n"
     ]
    },
    {
     "name": "stderr",
     "output_type": "stream",
     "text": [
      "Shapefile type: Polygon\n",
      "Postgis type: POLYGON[2]\n"
     ]
    },
    {
     "name": "stdout",
     "output_type": "stream",
     "text": [
      "SET\n",
      "SET\n"
     ]
    },
    {
     "name": "stderr",
     "output_type": "stream",
     "text": [
      "ERROR:  column not found in geometry_columns table\n",
      "CONTEXT:  PL/pgSQL function dropgeometrycolumn(character varying,character varying,character varying,character varying) line 34 at RAISE\n",
      "SQL statement \"SELECT DropGeometryColumn('',$1,$2,$3)\"\n",
      "PL/pgSQL function dropgeometrycolumn(character varying,character varying,character varying) line 5 at SQL statement\n"
     ]
    },
    {
     "name": "stdout",
     "output_type": "stream",
     "text": [
      "DROP TABLE\n",
      "BEGIN\n",
      "CREATE TABLE\n"
     ]
    },
    {
     "name": "stderr",
     "output_type": "stream",
     "text": [
      "NOTICE:  table \"dummy\" does not exist, skipping\n"
     ]
    },
    {
     "name": "stdout",
     "output_type": "stream",
     "text": [
      "ALTER TABLE\n",
      "                addgeometrycolumn                \n",
      "-------------------------------------------------\n",
      " metno.dummy.geom SRID:3035 TYPE:POLYGON DIMS:2 \n",
      "(1 row)\n",
      "\n",
      "INSERT 0 1\n",
      "COMMIT\n",
      "ANALYZE\n",
      "INSERT 0 1\n",
      "1\n",
      "Initializing... \n",
      "Done (postgis major version: 2).\n",
      "Output shape: Point\n",
      "Dumping: X [1 rows].\n",
      "Gage Watershed version 5.3.8\n",
      "Input file PG:dbname=geonorway schema=metno table=flow column=rast where='station_id=1' mode=2 has projected coordinate system.\n"
     ]
    },
    {
     "name": "stderr",
     "output_type": "stream",
     "text": [
      "This run may take on the order of 1 minutes to complete.\n",
      "This estimate is very approximate. \n",
      "Run time is highly uncertain as it depends on the complexity of the input data \n",
      "and speed and memory of the computer. This estimate is based on our testing on \n",
      "a dual quad core Dell Xeon E5405 2.0GHz PC with 16GB RAM.\n"
     ]
    },
    {
     "name": "stdout",
     "output_type": "stream",
     "text": [
      "Size: 2\n",
      "Read time: 0.477581\n",
      "Compute time: 0.078473\n",
      "Write time: 0.067020\n",
      "Total time: 0.623074\n",
      "Creating output basin1.shp of format ESRI Shapefile.\n",
      "0...10...20...30...40...50...60...70...80...90.."
     ]
    },
    {
     "name": "stderr",
     "output_type": "stream",
     "text": [
      "Shapefile type: Polygon\n"
     ]
    },
    {
     "name": "stdout",
     "output_type": "stream",
     "text": [
      ".100 - done.\n"
     ]
    },
    {
     "name": "stderr",
     "output_type": "stream",
     "text": [
      "Postgis type: POLYGON[2]\n"
     ]
    },
    {
     "name": "stdout",
     "output_type": "stream",
     "text": [
      "SET\n",
      "SET\n",
      "          dropgeometrycolumn           \n",
      "---------------------------------------\n",
      " metno.dummy.geom effectively removed.\n",
      "(1 row)\n",
      "\n",
      "DROP TABLE\n",
      "BEGIN\n",
      "CREATE TABLE\n",
      "ALTER TABLE\n",
      "                addgeometrycolumn                \n",
      "-------------------------------------------------\n",
      " metno.dummy.geom SRID:3035 TYPE:POLYGON DIMS:2 \n",
      "(1 row)\n",
      "\n",
      "INSERT 0 1\n",
      "COMMIT\n",
      "ANALYZE\n",
      "INSERT 0 1\n",
      "2\n",
      "Initializing... \n",
      "Done (postgis major version: 2).\n",
      "Output shape: Point\n",
      "Dumping: X [1 rows].\n",
      "Gage Watershed version 5.3.8\n",
      "Input file PG:dbname=geonorway schema=metno table=flow column=rast where='station_id=2' mode=2 has projected coordinate system.\n"
     ]
    },
    {
     "name": "stderr",
     "output_type": "stream",
     "text": [
      "This run may take on the order of 1 minutes to complete.\n",
      "This estimate is very approximate. \n",
      "Run time is highly uncertain as it depends on the complexity of the input data \n",
      "and speed and memory of the computer. This estimate is based on our testing on \n",
      "a dual quad core Dell Xeon E5405 2.0GHz PC with 16GB RAM.\n"
     ]
    },
    {
     "name": "stdout",
     "output_type": "stream",
     "text": [
      "Size: 2\n",
      "Read time: 0.488181\n",
      "Compute time: 0.077812\n",
      "Write time: 0.069321\n",
      "Total time: 0.635314\n",
      "Creating output basin2.shp of format ESRI Shapefile.\n",
      "0...10...20...30...40...50...60...70...80...90...100 - done.\n"
     ]
    },
    {
     "name": "stderr",
     "output_type": "stream",
     "text": [
      "Shapefile type: Polygon\n",
      "Postgis type: POLYGON[2]\n"
     ]
    },
    {
     "name": "stdout",
     "output_type": "stream",
     "text": [
      "SET\n",
      "SET\n",
      "          dropgeometrycolumn           \n",
      "---------------------------------------\n",
      " metno.dummy.geom effectively removed.\n",
      "(1 row)\n",
      "\n",
      "DROP TABLE\n",
      "BEGIN\n",
      "CREATE TABLE\n",
      "ALTER TABLE\n",
      "                addgeometrycolumn                \n",
      "-------------------------------------------------\n",
      " metno.dummy.geom SRID:3035 TYPE:POLYGON DIMS:2 \n",
      "(1 row)\n",
      "\n",
      "INSERT 0 1\n",
      "COMMIT\n",
      "ANALYZE\n",
      "INSERT 0 1\n",
      "3\n",
      "Initializing... \n",
      "Done (postgis major version: 2).\n",
      "Output shape: Point\n",
      "Dumping: X [1 rows].\n",
      "Gage Watershed version 5.3.8\n",
      "Input file PG:dbname=geonorway schema=metno table=flow column=rast where='station_id=3' mode=2 has projected coordinate system.\n"
     ]
    },
    {
     "name": "stderr",
     "output_type": "stream",
     "text": [
      "This run may take on the order of 1 minutes to complete.\n",
      "This estimate is very approximate. \n",
      "Run time is highly uncertain as it depends on the complexity of the input data \n",
      "and speed and memory of the computer. This estimate is based on our testing on \n",
      "a dual quad core Dell Xeon E5405 2.0GHz PC with 16GB RAM.\n"
     ]
    },
    {
     "name": "stdout",
     "output_type": "stream",
     "text": [
      "Size: 2\n",
      "Read time: 0.486443\n",
      "Compute time: 0.079142\n",
      "Write time: 0.069309\n",
      "Total time: 0.634894\n",
      "Creating output basin3.shp of format ESRI Shapefile.\n",
      "0...10...20...30...40...50...60...70...80...90...100 - done.\n"
     ]
    },
    {
     "name": "stderr",
     "output_type": "stream",
     "text": [
      "Shapefile type: Polygon\n",
      "Postgis type: POLYGON[2]\n"
     ]
    },
    {
     "name": "stdout",
     "output_type": "stream",
     "text": [
      "SET\n",
      "SET\n",
      "          dropgeometrycolumn           \n",
      "---------------------------------------\n",
      " metno.dummy.geom effectively removed.\n",
      "(1 row)\n",
      "\n",
      "DROP TABLE\n",
      "BEGIN\n",
      "CREATE TABLE\n",
      "ALTER TABLE\n",
      "                addgeometrycolumn                \n",
      "-------------------------------------------------\n",
      " metno.dummy.geom SRID:3035 TYPE:POLYGON DIMS:2 \n",
      "(1 row)\n",
      "\n",
      "INSERT 0 1\n",
      "COMMIT\n",
      "ANALYZE\n",
      "INSERT 0 1\n",
      "4\n",
      "Initializing... \n",
      "Done (postgis major version: 2).\n",
      "Output shape: Point\n",
      "Dumping: X [1 rows].\n",
      "Gage Watershed version 5.3.8\n",
      "Input file PG:dbname=geonorway schema=metno table=flow column=rast where='station_id=4' mode=2 has projected coordinate system.\n"
     ]
    },
    {
     "name": "stderr",
     "output_type": "stream",
     "text": [
      "This run may take on the order of 1 minutes to complete.\n",
      "This estimate is very approximate. \n",
      "Run time is highly uncertain as it depends on the complexity of the input data \n",
      "and speed and memory of the computer. This estimate is based on our testing on \n",
      "a dual quad core Dell Xeon E5405 2.0GHz PC with 16GB RAM.\n"
     ]
    },
    {
     "name": "stdout",
     "output_type": "stream",
     "text": [
      "Size: 2\n",
      "Read time: 0.473366\n",
      "Compute time: 0.087467\n",
      "Write time: 0.070330\n",
      "Total time: 0.631162\n",
      "Creating output basin4.shp of format ESRI Shapefile.\n",
      "0...10...20...30...40...50...60...70...80...90...100 - done.\n"
     ]
    },
    {
     "name": "stderr",
     "output_type": "stream",
     "text": [
      "Shapefile type: Polygon\n",
      "Postgis type: POLYGON[2]\n"
     ]
    },
    {
     "name": "stdout",
     "output_type": "stream",
     "text": [
      "SET\n",
      "SET\n",
      "          dropgeometrycolumn           \n",
      "---------------------------------------\n",
      " metno.dummy.geom effectively removed.\n",
      "(1 row)\n",
      "\n",
      "DROP TABLE\n",
      "BEGIN\n",
      "CREATE TABLE\n",
      "ALTER TABLE\n",
      "                addgeometrycolumn                \n",
      "-------------------------------------------------\n",
      " metno.dummy.geom SRID:3035 TYPE:POLYGON DIMS:2 \n",
      "(1 row)\n",
      "\n",
      "INSERT 0 1\n",
      "COMMIT\n",
      "ANALYZE\n",
      "INSERT 0 1\n",
      "5\n",
      "Initializing... \n",
      "Done (postgis major version: 2).\n",
      "Output shape: Point\n",
      "Dumping: X [1 rows].\n",
      "Gage Watershed version 5.3.8\n",
      "Input file PG:dbname=geonorway schema=metno table=flow column=rast where='station_id=5' mode=2 has projected coordinate system.\n"
     ]
    },
    {
     "name": "stderr",
     "output_type": "stream",
     "text": [
      "This run may take on the order of 1 minutes to complete.\n",
      "This estimate is very approximate. \n",
      "Run time is highly uncertain as it depends on the complexity of the input data \n",
      "and speed and memory of the computer. This estimate is based on our testing on \n",
      "a dual quad core Dell Xeon E5405 2.0GHz PC with 16GB RAM.\n"
     ]
    },
    {
     "name": "stdout",
     "output_type": "stream",
     "text": [
      "Size: 2\n",
      "Read time: 0.496027\n",
      "Compute time: 0.090595\n",
      "Write time: 0.069824\n",
      "Total time: 0.656445\n",
      "Creating output basin5.shp of format ESRI Shapefile.\n",
      "0...10...20...30...40...50...60...70...80...90...100 - done.\n"
     ]
    },
    {
     "name": "stderr",
     "output_type": "stream",
     "text": [
      "Shapefile type: Polygon\n",
      "Postgis type: POLYGON[2]\n"
     ]
    },
    {
     "name": "stdout",
     "output_type": "stream",
     "text": [
      "SET\n",
      "SET\n",
      "          dropgeometrycolumn           \n",
      "---------------------------------------\n",
      " metno.dummy.geom effectively removed.\n",
      "(1 row)\n",
      "\n",
      "DROP TABLE\n",
      "BEGIN\n",
      "CREATE TABLE\n",
      "ALTER TABLE\n",
      "                addgeometrycolumn                \n",
      "-------------------------------------------------\n",
      " metno.dummy.geom SRID:3035 TYPE:POLYGON DIMS:2 \n",
      "(1 row)\n",
      "\n",
      "INSERT 0 1\n",
      "COMMIT\n",
      "ANALYZE\n",
      "INSERT 0 1\n",
      "6\n",
      "Initializing... \n",
      "Done (postgis major version: 2).\n",
      "Output shape: Point\n",
      "Dumping: X [1 rows].\n",
      "Gage Watershed version 5.3.8\n",
      "Input file PG:dbname=geonorway schema=metno table=flow column=rast where='station_id=6' mode=2 has projected coordinate system.\n"
     ]
    },
    {
     "name": "stderr",
     "output_type": "stream",
     "text": [
      "This run may take on the order of 1 minutes to complete.\n",
      "This estimate is very approximate. \n",
      "Run time is highly uncertain as it depends on the complexity of the input data \n",
      "and speed and memory of the computer. This estimate is based on our testing on \n",
      "a dual quad core Dell Xeon E5405 2.0GHz PC with 16GB RAM.\n"
     ]
    },
    {
     "name": "stdout",
     "output_type": "stream",
     "text": [
      "Size: 2\n",
      "Read time: 0.503646\n",
      "Compute time: 0.076324\n",
      "Write time: 0.070932\n",
      "Total time: 0.650903\n",
      "Creating output basin6.shp of format ESRI Shapefile.\n",
      "0...10...20...30...40...50...60...70...80...90...100 - done.\n"
     ]
    },
    {
     "name": "stderr",
     "output_type": "stream",
     "text": [
      "Shapefile type: Polygon\n",
      "Postgis type: POLYGON[2]\n"
     ]
    },
    {
     "name": "stdout",
     "output_type": "stream",
     "text": [
      "SET\n",
      "SET\n",
      "          dropgeometrycolumn           \n",
      "---------------------------------------\n",
      " metno.dummy.geom effectively removed.\n",
      "(1 row)\n",
      "\n",
      "DROP TABLE\n",
      "BEGIN\n",
      "CREATE TABLE\n",
      "ALTER TABLE\n",
      "                addgeometrycolumn                \n",
      "-------------------------------------------------\n",
      " metno.dummy.geom SRID:3035 TYPE:POLYGON DIMS:2 \n",
      "(1 row)\n",
      "\n",
      "INSERT 0 1\n",
      "INSERT 0 1\n",
      "COMMIT\n",
      "ANALYZE\n",
      "INSERT 0 1\n",
      "7\n",
      "Initializing... \n",
      "Done (postgis major version: 2).\n",
      "Output shape: Point\n",
      "Dumping: X [1 rows].\n",
      "Gage Watershed version 5.3.8\n",
      "Input file PG:dbname=geonorway schema=metno table=flow column=rast where='station_id=7' mode=2 has projected coordinate system.\n"
     ]
    },
    {
     "name": "stderr",
     "output_type": "stream",
     "text": [
      "This run may take on the order of 1 minutes to complete.\n",
      "This estimate is very approximate. \n",
      "Run time is highly uncertain as it depends on the complexity of the input data \n",
      "and speed and memory of the computer. This estimate is based on our testing on \n",
      "a dual quad core Dell Xeon E5405 2.0GHz PC with 16GB RAM.\n"
     ]
    },
    {
     "name": "stdout",
     "output_type": "stream",
     "text": [
      "Size: 2\n",
      "Read time: 0.477765\n",
      "Compute time: 0.072493\n",
      "Write time: 0.072577\n",
      "Total time: 0.622835\n",
      "Creating output basin7.shp of format ESRI Shapefile.\n",
      "0...10...20...30...40...50...60...70...80...90...100 - done.\n"
     ]
    },
    {
     "name": "stderr",
     "output_type": "stream",
     "text": [
      "Shapefile type: Polygon\n",
      "Postgis type: POLYGON[2]\n"
     ]
    },
    {
     "name": "stdout",
     "output_type": "stream",
     "text": [
      "SET\n",
      "SET\n",
      "          dropgeometrycolumn           \n",
      "---------------------------------------\n",
      " metno.dummy.geom effectively removed.\n",
      "(1 row)\n",
      "\n",
      "DROP TABLE\n",
      "BEGIN\n",
      "CREATE TABLE\n",
      "ALTER TABLE\n",
      "                addgeometrycolumn                \n",
      "-------------------------------------------------\n",
      " metno.dummy.geom SRID:3035 TYPE:POLYGON DIMS:2 \n",
      "(1 row)\n",
      "\n",
      "INSERT 0 1\n",
      "COMMIT\n",
      "ANALYZE\n",
      "INSERT 0 1\n",
      "8\n",
      "Initializing... \n",
      "Done (postgis major version: 2).\n",
      "Output shape: Point\n",
      "Dumping: X [1 rows].\n",
      "Gage Watershed version 5.3.8\n",
      "Input file PG:dbname=geonorway schema=metno table=flow column=rast where='station_id=8' mode=2 has projected coordinate system.\n"
     ]
    },
    {
     "name": "stderr",
     "output_type": "stream",
     "text": [
      "This run may take on the order of 1 minutes to complete.\n",
      "This estimate is very approximate. \n",
      "Run time is highly uncertain as it depends on the complexity of the input data \n",
      "and speed and memory of the computer. This estimate is based on our testing on \n",
      "a dual quad core Dell Xeon E5405 2.0GHz PC with 16GB RAM.\n"
     ]
    },
    {
     "name": "stdout",
     "output_type": "stream",
     "text": [
      "Size: 2\n",
      "Read time: 0.476200\n",
      "Compute time: 0.111214\n",
      "Write time: 0.070288\n",
      "Total time: 0.657702\n",
      "Creating output basin8.shp of format ESRI Shapefile.\n",
      "0...10...20...30...40...50...60...70...80...90...100 - done.\n"
     ]
    },
    {
     "name": "stderr",
     "output_type": "stream",
     "text": [
      "Shapefile type: Polygon\n",
      "Postgis type: POLYGON[2]\n"
     ]
    },
    {
     "name": "stdout",
     "output_type": "stream",
     "text": [
      "SET\n",
      "SET\n",
      "          dropgeometrycolumn           \n",
      "---------------------------------------\n",
      " metno.dummy.geom effectively removed.\n",
      "(1 row)\n",
      "\n",
      "DROP TABLE\n",
      "BEGIN\n",
      "CREATE TABLE\n",
      "ALTER TABLE\n",
      "                addgeometrycolumn                \n",
      "-------------------------------------------------\n",
      " metno.dummy.geom SRID:3035 TYPE:POLYGON DIMS:2 \n",
      "(1 row)\n",
      "\n",
      "INSERT 0 1\n",
      "COMMIT\n",
      "ANALYZE\n",
      "INSERT 0 1\n",
      "9\n",
      "Initializing... \n",
      "Done (postgis major version: 2).\n",
      "Output shape: Point\n",
      "Dumping: X [1 rows].\n",
      "Gage Watershed version 5.3.8\n",
      "Input file PG:dbname=geonorway schema=metno table=flow column=rast where='station_id=9' mode=2 has projected coordinate system.\n"
     ]
    },
    {
     "name": "stderr",
     "output_type": "stream",
     "text": [
      "This run may take on the order of 1 minutes to complete.\n",
      "This estimate is very approximate. \n",
      "Run time is highly uncertain as it depends on the complexity of the input data \n",
      "and speed and memory of the computer. This estimate is based on our testing on \n",
      "a dual quad core Dell Xeon E5405 2.0GHz PC with 16GB RAM.\n"
     ]
    },
    {
     "name": "stdout",
     "output_type": "stream",
     "text": [
      "Size: 2\n",
      "Read time: 0.469838\n",
      "Compute time: 0.075835\n",
      "Write time: 0.069007\n",
      "Total time: 0.614680\n",
      "Creating output basin9.shp of format ESRI Shapefile.\n",
      "0...10...20...30...40...50...60...70...80...90...100 - done.\n"
     ]
    },
    {
     "name": "stderr",
     "output_type": "stream",
     "text": [
      "Shapefile type: Polygon\n",
      "Postgis type: POLYGON[2]\n"
     ]
    },
    {
     "name": "stdout",
     "output_type": "stream",
     "text": [
      "SET\n",
      "SET\n",
      "          dropgeometrycolumn           \n",
      "---------------------------------------\n",
      " metno.dummy.geom effectively removed.\n",
      "(1 row)\n",
      "\n",
      "DROP TABLE\n",
      "BEGIN\n",
      "CREATE TABLE\n",
      "ALTER TABLE\n",
      "                addgeometrycolumn                \n",
      "-------------------------------------------------\n",
      " metno.dummy.geom SRID:3035 TYPE:POLYGON DIMS:2 \n",
      "(1 row)\n",
      "\n",
      "INSERT 0 1\n",
      "COMMIT\n",
      "ANALYZE\n",
      "INSERT 0 1\n",
      "DROP TABLE\n",
      "COPY 10\n",
      "COPY 1\n",
      "COPY 10\n"
     ]
    }
   ],
   "source": [
    "#Schema were processing will be done\n",
    "schema = 'metno'\n",
    "\n",
    "#Putting ljb data as yaml\n",
    "import pandas as pd\n",
    "import yaml\n",
    "ljb = pd.read_csv('~/Downloads/Stream_Monitoring_Locations_forJLG.csv',encoding='iso-8859-1',header=1)\n",
    "coords = [{'station': {'station_name': i['Prøvested:'].strip(),\n",
    "                        'station_id': j,\n",
    "                        'longitude': i['°E'],\n",
    "                        'latitude': i['°N'],\n",
    "                        'epsg': 4326,\n",
    "                        'buffer': 20000\n",
    "                       }\n",
    "          } for j,i in ljb.iterrows()]\n",
    "\n",
    "for i in coords:\n",
    "    if i['station']['station_name'] == 'Dypingbekken':\n",
    "        i['station']['longitude'] = 10.017462\n",
    "        i['station']['latitude'] = 59.849623\n",
    "    elif i['station']['station_name'] == 'Sandungsbekken':\n",
    "        i['station']['longitude'] = 10.048416\n",
    "        i['station']['latitude'] = 59.854848\n",
    "    elif i['station']['station_name'] == 'Langevannsbekken':\n",
    "        i['station']['longitude'] = 10.060717\n",
    "        i['station']['latitude'] = 59.853656\n",
    "    elif i['station']['station_name'] == 'Guritjernsbekken':\n",
    "        i['station']['longitude'] = 10.060792\n",
    "        i['station']['latitude'] = 59.873171\n",
    "\n",
    "with open('ljb.yaml','w') as f:\n",
    "    f.write(yaml.dump(coords,allow_unicode=True))\n",
    "\n",
    "#Getting basin outlets from yaml file\n",
    "stationsFile = 'ljb.yaml'\n",
    "stations = yaml.safe_load(open(stationsFile))\n",
    "display(stations)\n",
    "\n",
    "#Actually processing the basin\n",
    "geoResultsFolder='./geoResults'\n",
    "basin.getBasinLayers(stationsFile,schema,saveFolder=geoResultsFolder)\n",
    "    \n",
    "# # Now we delete the basinGenerator vm\n",
    "#basinGenerator.kill()"
   ]
  },
  {
   "cell_type": "markdown",
   "metadata": {},
   "source": [
    "### Displaying basins"
   ]
  },
  {
   "cell_type": "code",
   "execution_count": 5,
   "metadata": {},
   "outputs": [
    {
     "data": {
      "application/vnd.jupyter.widget-view+json": {
       "model_id": "ad4618a8d1644e91a0104c0540a55753",
       "version_major": 2,
       "version_minor": 0
      },
      "text/plain": [
       "Figure(layout=FigureLayout(height='420px'))"
      ]
     },
     "metadata": {},
     "output_type": "display_data"
    }
   ],
   "source": [
    "with open(os.path.join(geoResultsFolder,'gmaps.txt'), 'r') as f:\n",
    "    lines = f.read().splitlines()\n",
    "    \n",
    "fig = gmaps.figure()\n",
    "fig.add_layer(gmaps.geojson_layer(yaml.safe_load(lines[0])))\n",
    "\n",
    "lines[2:] = [i.split(';') for i in lines[2:]]\n",
    "outlets = [{\"name\": i[0], \"area\": i[3]} for i in lines[2:]]\n",
    "locations = [(float(i[2]),float(i[1])) for i in lines[2:]]\n",
    "info_box_template = \"\"\"\n",
    "<dl>\n",
    "<dt>Name</dt><dd>{name}</dd>\n",
    "<dt>Area</dt><dd>{area} km<sup>2</sup></dd>\n",
    "</dl>\n",
    "\"\"\"                                                \n",
    "outlet_info = [info_box_template.format(**outlet) for outlet in outlets]                                                 \n",
    "marker_layer = gmaps.marker_layer(locations, info_box_content=outlet_info)\n",
    "fig.add_layer(marker_layer)\n",
    "\n",
    "fig"
   ]
  },
  {
   "cell_type": "markdown",
   "metadata": {},
   "source": [
    "# Getting data from metno thredds servers\n",
    "## Creating a virtual machine with the fimex utility"
   ]
  },
  {
   "cell_type": "code",
   "execution_count": null,
   "metadata": {},
   "outputs": [],
   "source": [
    "#And now we can go about creating the vm with fimex on it\n",
    "# instanceName = 'fimexin'\n",
    "# username = 'jose-luis'\n",
    "# keyDir = 'fimex'\n",
    "# region = 'europe-north1-c'\n",
    "# machineType = 'n1-standard-32'\n",
    "\n",
    "machineInfo={}\n",
    "#Vm characteristics\n",
    "machineInfo['instance'] = 'fimexin'\n",
    "machineInfo['username'] = 'jose-luis'\n",
    "machineInfo['image'] = 'fimex'\n",
    "machineInfo['imageProject'] = 'nivacatchment'\n",
    "machineInfo['keyDir'] = '/home/jose-luis/.ssh/fimex'\n",
    "machineInfo['region'] = 'europe-north1-c'\n",
    "machineInfo['machineType'] = 'n1-standard-32'\n",
    "machineInfo['keyFile'] = F'{os.path.join(machineInfo[\"keyDir\"],machineInfo[\"username\"])}'\n",
    "machineInfo['pubKeyFile'] = F'{machineInfo[\"keyFile\"] + \".pub\"}'\n",
    "\n",
    "fimexGenerator = basin.Basin(machineInfo)\n",
    "fimexGenerator.instantiate(fabfile='fabfile_fimex.py')\n",
    "print(\"The ip of the google cloud instance is {}\".format(fimexGenerator.ip))\n",
    "\n",
    "#Need to wait until the instance is up and running. There must be a better way.\n",
    "time.sleep(10)\n",
    "\n",
    "#Testing connection to instance\n",
    "fimexGenerator.callPopen('gcloud compute ssh {username}@{instance} --zone {region}'.format(\n",
    "**fimexGenerator.machineInfo))"
   ]
  },
  {
   "cell_type": "markdown",
   "metadata": {},
   "source": [
    "## Creating cfg file for download"
   ]
  },
  {
   "cell_type": "code",
   "execution_count": null,
   "metadata": {},
   "outputs": [],
   "source": [
    "cfgTemplate='''[extract]\n",
    "reduceToBoundingBox.south={south}\n",
    "reduceToBoundingBox.north={north}\n",
    "reduceToBoundingBox.west={west}\n",
    "reduceToBoundingBox.east={east}\n",
    "selectVariables={variable}\n",
    "'''"
   ]
  },
  {
   "cell_type": "markdown",
   "metadata": {},
   "source": [
    "## Getting all variables for all basins using fimex"
   ]
  },
  {
   "cell_type": "code",
   "execution_count": null,
   "metadata": {},
   "outputs": [],
   "source": [
    "#Getting all boundaries to download:\n",
    "with open(os.path.join(geoResultsFolder,'box.txt'), 'r') as f:\n",
    "    lines = f.read().splitlines()\n",
    "boxes = [parse('BOX({west} {south},{east} {north})',i.split(';')[1]) for i in lines]\n",
    "names =  [re.split(';|,|\\s',i)[0] for i in lines]\n",
    "# import os\n",
    "for i in varsToGet:\n",
    "    #Getting only dates from 2010 to 2016\n",
    "    args = [os.path.join(listFolder, \n",
    "                         i + '_' + model\n",
    "                        ), \n",
    "            \"2014\", \"2015\"\n",
    "           ]\n",
    "    !!cat {args[0]}.txt | grep -E `seq -s \\| {args[1]} {args[2]}` > {args[0]}_mini.txt\n",
    "#     'head -n 40 {0}.txt > {0}_mini.txt'.format(i + '_' + model)\n",
    "    currentDict = boxes[0].named\n",
    "    currentDict['variable'] = i\n",
    "    with open('box.cfg','w') as f:\n",
    "        f.write(cfgTemplate.format(**currentDict))\n",
    "    for j in names:\n",
    "        fimexGenerator.getNcDataForBox(os.path.join(listFolder, i + '_' + model) + '_mini.txt',\n",
    "                                  'box.cfg',\n",
    "                                  i + '_' + j + '.nc'\n",
    "                                  )   "
   ]
  }
 ],
 "metadata": {
  "kernelspec": {
   "display_name": "Python 3",
   "language": "python",
   "name": "python3"
  },
  "language_info": {
   "codemirror_mode": {
    "name": "ipython",
    "version": 3
   },
   "file_extension": ".py",
   "mimetype": "text/x-python",
   "name": "python",
   "nbconvert_exporter": "python",
   "pygments_lexer": "ipython3",
   "version": "3.6.8"
  }
 },
 "nbformat": 4,
 "nbformat_minor": 2
}
