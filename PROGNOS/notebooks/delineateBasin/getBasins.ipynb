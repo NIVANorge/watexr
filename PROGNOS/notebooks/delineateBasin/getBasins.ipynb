{
 "cells": [
  {
   "cell_type": "code",
   "execution_count": 1,
   "metadata": {},
   "outputs": [
    {
     "name": "stdin",
     "output_type": "stream",
     "text": [
      "Password:  ·······\n"
     ]
    },
    {
     "data": {
      "text/plain": [
       "[]"
      ]
     },
     "execution_count": 1,
     "metadata": {},
     "output_type": "execute_result"
    }
   ],
   "source": [
    "import re\n",
    "import getpass\n",
    "import gmaps\n",
    "import requests\n",
    "from bs4 import BeautifulSoup\n",
    "from bs4 import SoupStrainer\n",
    "from urllib.parse import urljoin\n",
    "from IPython.display import clear_output, display\n",
    "from parse import parse\n",
    "import yaml\n",
    "import time\n",
    "import os\n",
    "import sys\n",
    "\n",
    "#adding prognos tools\n",
    "sys.path.insert(0, \"/home/jose-luis/Envs/niva_prognos/PROGNOS/\")\n",
    "from prognos_tools.encrypt import decryptString\n",
    "from prognos_tools.Basin_fabric2 import Basin\n",
    "\n",
    "\n",
    "gmapsToken=b'gAAAAABctxJp5wE73qK6U5VieCi0WXNnNex4KxLZHutsESa8fW9v43lLa1Ag0qsxKFjXXo9MBAdvUpqJPW-QmCE0gH_Opf9g4xAG1VaI2WarO_xDZg44VLMCHkd_6O8ofgp8u4VuFBMr'\n",
    "key = getpass.getpass('Password: ')\n",
    "apiKey = decryptString(gmapsToken,key)\n",
    "gmaps.configure(api_key=apiKey)\n",
    "del key,apiKey\n",
    "\n",
    "#Creating folder to store temporary files and downloaded data\n",
    "saveFolder = './DownloadedData/'\n",
    "\n",
    "args = [saveFolder,]\n",
    "!!rm -rf {args[0]} && mkdir -p {args[0]}"
   ]
  },
  {
   "cell_type": "markdown",
   "metadata": {},
   "source": [
    "## Querying extent of the basin\n",
    "### Creating a VM with the geodatabase on it"
   ]
  },
  {
   "cell_type": "code",
   "execution_count": 2,
   "metadata": {},
   "outputs": [
    {
     "ename": "TypeError",
     "evalue": "__init__() missing 1 required positional argument: 'properties'",
     "output_type": "error",
     "traceback": [
      "\u001b[0;31m---------------------------------------------------------------------------\u001b[0m",
      "\u001b[0;31mTypeError\u001b[0m                                 Traceback (most recent call last)",
      "\u001b[0;32m<ipython-input-2-499b215fd25f>\u001b[0m in \u001b[0;36m<module>\u001b[0;34m\u001b[0m\n\u001b[1;32m     13\u001b[0m \u001b[0;34m\u001b[0m\u001b[0m\n\u001b[1;32m     14\u001b[0m \u001b[0;31m#Actually instantiating the virtual machine\u001b[0m\u001b[0;34m\u001b[0m\u001b[0;34m\u001b[0m\u001b[0;34m\u001b[0m\u001b[0m\n\u001b[0;32m---> 15\u001b[0;31m \u001b[0mbasinGenerator\u001b[0m \u001b[0;34m=\u001b[0m \u001b[0mBasin\u001b[0m\u001b[0;34m(\u001b[0m\u001b[0mmachineInfo\u001b[0m\u001b[0;34m)\u001b[0m\u001b[0;34m\u001b[0m\u001b[0;34m\u001b[0m\u001b[0m\n\u001b[0m\u001b[1;32m     16\u001b[0m \u001b[0mbasinGenerator\u001b[0m\u001b[0;34m.\u001b[0m\u001b[0minstantiate\u001b[0m\u001b[0;34m(\u001b[0m\u001b[0mfabfile\u001b[0m\u001b[0;34m=\u001b[0m\u001b[0;34m'../../prognos_tools/fabfile.py'\u001b[0m\u001b[0;34m)\u001b[0m\u001b[0;34m\u001b[0m\u001b[0;34m\u001b[0m\u001b[0m\n\u001b[1;32m     17\u001b[0m \u001b[0mprint\u001b[0m\u001b[0;34m(\u001b[0m\u001b[0;34m\"The ip of the google cloud instance is {}\"\u001b[0m\u001b[0;34m.\u001b[0m\u001b[0mformat\u001b[0m\u001b[0;34m(\u001b[0m\u001b[0mbasinGenerator\u001b[0m\u001b[0;34m.\u001b[0m\u001b[0mip\u001b[0m\u001b[0;34m)\u001b[0m\u001b[0;34m)\u001b[0m\u001b[0;34m\u001b[0m\u001b[0;34m\u001b[0m\u001b[0m\n",
      "\u001b[0;31mTypeError\u001b[0m: __init__() missing 1 required positional argument: 'properties'"
     ]
    }
   ],
   "source": [
    "machineInfo={}\n",
    "#Vm characteristics\n",
    "machineInfo['instance'] = 'prognos-basin'\n",
    "machineInfo['username'] = 'jose-luis'\n",
    "machineInfo['image'] = 'geonorway'\n",
    "machineInfo['imageProject'] = 'nivacatchment'\n",
    "machineInfo['keyDir'] = '/home/jose-luis/.ssh/threddsBasin'\n",
    "machineInfo['diskSize'] = '200GB'\n",
    "machineInfo['region'] = 'europe-west2-a'\n",
    "machineInfo['machineType'] = 'n1-standard-4'\n",
    "machineInfo['keyFile'] = F'{os.path.join(machineInfo[\"keyDir\"],machineInfo[\"username\"])}'\n",
    "machineInfo['pubKeyFile'] = F'{machineInfo[\"keyFile\"] + \".pub\"}'\n",
    "\n",
    "#Actually instantiating the virtual machine \n",
    "basinGenerator = Basin(machineInfo)\n",
    "basinGenerator.instantiate(fabfile='../../prognos_tools/fabfile.py')\n",
    "print(\"The ip of the google cloud instance is {}\".format(basinGenerator.ip))\n",
    "\n",
    "#Testing connection to instance\n",
    "basinGenerator.callPopen('gcloud compute ssh {username}@{instance} --zone {region}'.format(\n",
    "**basinGenerator.machineInfo))"
   ]
  },
  {
   "cell_type": "markdown",
   "metadata": {},
   "source": [
    "### Getting basins extent"
   ]
  },
  {
   "cell_type": "code",
   "execution_count": 3,
   "metadata": {},
   "outputs": [
    {
     "data": {
      "text/plain": [
       "[{'station': {'station_id': 108,\n",
       "   'station_name': 'Langtjern',\n",
       "   'longitude': 9.7266598416,\n",
       "   'latitude': 60.3724626431,\n",
       "   'epsg': 4326,\n",
       "   'buffer': 5000}}]"
      ]
     },
     "metadata": {},
     "output_type": "display_data"
    },
    {
     "data": {
      "text/plain": [
       "'Directory should be created'"
      ]
     },
     "metadata": {},
     "output_type": "display_data"
    },
    {
     "name": "stdout",
     "output_type": "stream",
     "text": [
      "Gonna create the getBasin.sh file\n",
      "./geoResults/getBasin.sh\n",
      "fab -f ../../prognos_tools/fabfile.py runScript:./geoResults/getBasin.sh,True,./geoResults/box.txt\n",
      "Can't find any collection named 'fabfile'!\n",
      "Traceback (most recent call last):\n",
      "  File \"/home/jose-luis/Envs/niva_prognos/bin/fab\", line 10, in <module>\n",
      "    sys.exit(program.run())\n",
      "  File \"/home/jose-luis/Envs/niva_prognos/lib/python3.6/site-packages/invoke/program.py\", line 352, in run\n",
      "    self.parse_collection()\n",
      "  File \"/home/jose-luis/Envs/niva_prognos/lib/python3.6/site-packages/invoke/program.py\", line 444, in parse_collection\n",
      "    self.load_collection()\n",
      "  File \"/home/jose-luis/Envs/niva_prognos/lib/python3.6/site-packages/fabric/main.py\", line 82, in load_collection\n",
      "    super(Fab, self).load_collection()\n",
      "  File \"/home/jose-luis/Envs/niva_prognos/lib/python3.6/site-packages/invoke/program.py\", line 661, in load_collection\n",
      "    module, parent = loader.load(coll_name)\n",
      "  File \"/home/jose-luis/Envs/niva_prognos/lib/python3.6/site-packages/invoke/loader.py\", line 76, in load\n",
      "    module = imp.load_module(name, fd, path, desc)\n",
      "  File \"/home/jose-luis/Envs/niva_prognos/lib/python3.6/imp.py\", line 235, in load_module\n",
      "    return load_source(name, filename, file)\n",
      "  File \"/home/jose-luis/Envs/niva_prognos/lib/python3.6/imp.py\", line 172, in load_source\n",
      "    module = _load(spec)\n",
      "  File \"<frozen importlib._bootstrap>\", line 684, in _load\n",
      "  File \"<frozen importlib._bootstrap>\", line 665, in _load_unlocked\n",
      "  File \"<frozen importlib._bootstrap_external>\", line 678, in exec_module\n",
      "  File \"<frozen importlib._bootstrap>\", line 219, in _call_with_frames_removed\n",
      "  File \"/home/jose-luis/Envs/niva_prognos/PROGNOS/prognos_tools/fabfile.py\", line 3, in <module>\n",
      "    from fabric.api import *\n",
      "ModuleNotFoundError: No module named 'fabric.api'\n"
     ]
    }
   ],
   "source": [
    "#Schema were processing will be done\n",
    "schema = 'metno'\n",
    "\n",
    "#Getting basin outlets from yaml file\n",
    "stationsFile = 'langtjern.yaml'\n",
    "stations = yaml.safe_load(open(stationsFile))\n",
    "display(stations)\n",
    "\n",
    "#Actually processing the basin\n",
    "geoResultsFolder='./geoResults'\n",
    "basinGenerator.getBasinLayers(stationsFile,schema,saveFolder=geoResultsFolder)\n",
    "    \n",
    "# Now we delete the basinGenerator vm\n",
    "#basinGenerator.kill()"
   ]
  },
  {
   "cell_type": "markdown",
   "metadata": {},
   "source": [
    "### Displaying basins"
   ]
  },
  {
   "cell_type": "code",
   "execution_count": 16,
   "metadata": {},
   "outputs": [
    {
     "data": {
      "text/plain": [
       "['\\n<dl>\\n<font color=\"black\">\\n<dt>Name</dt><dd>Langtjern_utløp</dd>\\n<dt>Area</dt><dd>    4.76 km<sup>2</sup></dd>\\n</font>\\n</dl>\\n']"
      ]
     },
     "metadata": {},
     "output_type": "display_data"
    },
    {
     "data": {
      "application/vnd.jupyter.widget-view+json": {
       "model_id": "aa7aa8d50a23422bbc67db40f881d2ec",
       "version_major": 2,
       "version_minor": 0
      },
      "text/plain": [
       "Markers(data_bounds=[(60.3724568497833, 9.72671739752392), (60.372476849783304, 9.72673739752392)], markers=[M…"
      ]
     },
     "metadata": {},
     "output_type": "display_data"
    },
    {
     "data": {
      "application/vnd.jupyter.widget-view+json": {
       "model_id": "d78f2ff379094daa9932225310d35202",
       "version_major": 2,
       "version_minor": 0
      },
      "text/plain": [
       "Figure(layout=FigureLayout(height='420px'))"
      ]
     },
     "metadata": {},
     "output_type": "display_data"
    }
   ],
   "source": [
    "with open(os.path.join(geoResultsFolder,'gmaps.txt'), 'r') as f:\n",
    "    lines = f.read().splitlines()\n",
    "    \n",
    "fig = gmaps.figure()\n",
    "fig.add_layer(gmaps.geojson_layer(yaml.safe_load(lines[0])))\n",
    "\n",
    "lines[2:] = [i.split(';') for i in lines[2:]]\n",
    "outlets = [{\"name\": i[0], \"area\": '{:8.2f}'.format(float(i[3]))} for i in lines[2:]]\n",
    "locations = [(float(i[2]),float(i[1])) for i in lines[2:]]\n",
    "info_box_template = \"\"\"\n",
    "<dl>\n",
    "<font color=\"black\">\n",
    "<dt>Name</dt><dd>{name}</dd>\n",
    "<dt>Area</dt><dd>{area} km<sup>2</sup></dd>\n",
    "</font>\n",
    "</dl>\n",
    "\"\"\"                                                \n",
    "outlet_info = [info_box_template.format(**outlet) for outlet in outlets]   \n",
    "marker_layer = gmaps.marker_layer(locations, info_box_content=outlet_info)\n",
    "fig.add_layer(marker_layer)\n",
    "\n",
    "fig"
   ]
  }
 ],
 "metadata": {
  "kernelspec": {
   "display_name": "Python 3",
   "language": "python",
   "name": "python3"
  },
  "language_info": {
   "codemirror_mode": {
    "name": "ipython",
    "version": 3
   },
   "file_extension": ".py",
   "mimetype": "text/x-python",
   "name": "python",
   "nbconvert_exporter": "python",
   "pygments_lexer": "ipython3",
   "version": "3.6.8"
  }
 },
 "nbformat": 4,
 "nbformat_minor": 2
}
