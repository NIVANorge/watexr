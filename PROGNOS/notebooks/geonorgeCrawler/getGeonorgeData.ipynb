{
 "cells": [
  {
   "cell_type": "code",
   "execution_count": 1,
   "metadata": {},
   "outputs": [
    {
     "name": "stdin",
     "output_type": "stream",
     "text": [
      "Password:  ·······\n"
     ]
    }
   ],
   "source": [
    "import sys\n",
    "import os\n",
    "import yaml\n",
    "import getpass\n",
    "\n",
    "#adding prognos tools\n",
    "sys.path.insert(0, \"/home/jose-luis/Envs/niva_prognos/PROGNOS/\")\n",
    "from prognos_tools.encrypt import decryptString,encryptString\n",
    "from prognos_tools.Basin import Basin\n",
    "\n",
    "from geonorge_scraping import Download\n",
    "\n",
    "geonorge_encrypted=b'gAAAAABc2SuJN0rMAgv8fEeN9U_YTle-kcHc1Hy63ON7Y_LpkKAfmWBY01Eud7yA_CvU_rsoM_VstFzTLsX28BGb7d9aVIfqnp76smF4rn0sF8Sp4fRZnHI-B8TfVlew-qcDmewcvCj8'\n",
    "key = getpass.getpass('Password: ')\n",
    "geonorge_credentials = yaml.safe_load(decryptString(geonorge_encrypted,key))\n",
    "\n",
    "# The encryption key has a 90 days timespan and might need to be re-encrypted\n",
    "# with open('geocredentials.yaml','w') as f:\n",
    "#     f.write(yaml.dump(geonorge_credentials))\n",
    "    \n",
    "# Basin.callPopen('gcloud kms encrypt --location global --keyring jlg-keyring --key prognos-key --plaintext-file geocredentials.yaml --ciphertext-file geocredentials.yaml.encrypted')"
   ]
  },
  {
   "cell_type": "markdown",
   "metadata": {},
   "source": [
    "# Setting up vm with google chrome installed to crawl through geonorge.no"
   ]
  },
  {
   "cell_type": "code",
   "execution_count": 2,
   "metadata": {},
   "outputs": [
    {
     "ename": "KeyError",
     "evalue": "'diskSize'",
     "output_type": "error",
     "traceback": [
      "\u001b[0;31m---------------------------------------------------------------------------\u001b[0m",
      "\u001b[0;31mKeyError\u001b[0m                                  Traceback (most recent call last)",
      "\u001b[0;32m<ipython-input-2-37d4569868ed>\u001b[0m in \u001b[0;36m<module>\u001b[0;34m\u001b[0m\n\u001b[1;32m     45\u001b[0m https://www.googleapis.com/auth/cloudkms\\n'''\n\u001b[1;32m     46\u001b[0m \u001b[0;34m\u001b[0m\u001b[0m\n\u001b[0;32m---> 47\u001b[0;31m \u001b[0mgeonorge\u001b[0m\u001b[0;34m.\u001b[0m\u001b[0minstantiate\u001b[0m\u001b[0;34m(\u001b[0m\u001b[0mfabfile\u001b[0m\u001b[0;34m=\u001b[0m\u001b[0;34m'fabfile.py'\u001b[0m\u001b[0;34m)\u001b[0m\u001b[0;34m\u001b[0m\u001b[0;34m\u001b[0m\u001b[0m\n\u001b[0m\u001b[1;32m     48\u001b[0m \u001b[0mprint\u001b[0m\u001b[0;34m(\u001b[0m\u001b[0;34m\"The ip of the google cloud instance is {}\"\u001b[0m\u001b[0;34m.\u001b[0m\u001b[0mformat\u001b[0m\u001b[0;34m(\u001b[0m\u001b[0mgeonorge\u001b[0m\u001b[0;34m.\u001b[0m\u001b[0mip\u001b[0m\u001b[0;34m)\u001b[0m\u001b[0;34m)\u001b[0m\u001b[0;34m\u001b[0m\u001b[0;34m\u001b[0m\u001b[0m\n\u001b[1;32m     49\u001b[0m \u001b[0;34m\u001b[0m\u001b[0m\n",
      "\u001b[0;32m~/Envs/niva_prognos/PROGNOS/prognos_tools/Basin.py\u001b[0m in \u001b[0;36minstantiate\u001b[0;34m(self, fabfile)\u001b[0m\n\u001b[1;32m    120\u001b[0m \u001b[0;34m\u001b[0m\u001b[0m\n\u001b[1;32m    121\u001b[0m     \u001b[0;32mdef\u001b[0m \u001b[0minstantiate\u001b[0m\u001b[0;34m(\u001b[0m\u001b[0mself\u001b[0m\u001b[0;34m,\u001b[0m\u001b[0mfabfile\u001b[0m\u001b[0;34m=\u001b[0m\u001b[0;34m''\u001b[0m\u001b[0;34m)\u001b[0m\u001b[0;34m:\u001b[0m\u001b[0;34m\u001b[0m\u001b[0;34m\u001b[0m\u001b[0m\n\u001b[0;32m--> 122\u001b[0;31m         \u001b[0mself\u001b[0m\u001b[0;34m.\u001b[0m\u001b[0minstantiationString\u001b[0m \u001b[0;34m=\u001b[0m \u001b[0mBasin\u001b[0m\u001b[0;34m.\u001b[0m\u001b[0minitString\u001b[0m\u001b[0;34m.\u001b[0m\u001b[0mformat\u001b[0m\u001b[0;34m(\u001b[0m\u001b[0;34m**\u001b[0m\u001b[0mself\u001b[0m\u001b[0;34m.\u001b[0m\u001b[0mmachineInfo\u001b[0m\u001b[0;34m)\u001b[0m\u001b[0;31m#self.instance,self.region,self.machineType)\u001b[0m\u001b[0;34m\u001b[0m\u001b[0;34m\u001b[0m\u001b[0m\n\u001b[0m\u001b[1;32m    123\u001b[0m \u001b[0;31m#         display(self.instantiationString)\u001b[0m\u001b[0;34m\u001b[0m\u001b[0;34m\u001b[0m\u001b[0;34m\u001b[0m\u001b[0m\n\u001b[1;32m    124\u001b[0m \u001b[0;34m\u001b[0m\u001b[0m\n",
      "\u001b[0;31mKeyError\u001b[0m: 'diskSize'"
     ]
    }
   ],
   "source": [
    "machineInfo={}\n",
    "#Vm characteristics\n",
    "machineInfo['instance'] = 'geonorgecito'\n",
    "machineInfo['username'] = 'jose-luis'\n",
    "machineInfo['image'] = 'debian-9-stretch-v20190423'\n",
    "machineInfo['imageProject'] = 'debian-cloud'\n",
    "machineInfo['keyDir'] = '/home/jose-luis/.ssh/geonorge_crawler'\n",
    "machineInfo['region'] = 'europe-west2-a'\n",
    "machineInfo['machineType'] = 'n1-standard-4'\n",
    "machineInfo['keyFile'] = F'{os.path.join(machineInfo[\"keyDir\"],machineInfo[\"username\"])}'\n",
    "machineInfo['pubKeyFile'] = F'{machineInfo[\"keyFile\"] + \".pub\"}'\n",
    "\n",
    "geonorge = Basin(machineInfo)\n",
    "\n",
    "geonorge.vmScript = '''#!/bin/bash\n",
    "sudo apt-get update\n",
    "yes | sudo apt-get install gdal-bin libgdal-dev python-gdal tmux unzip\n",
    "yes | sudo apt-get install libxss1 libappindicator1 libindicator7\n",
    "wget https://dl.google.com/linux/direct/google-chrome-stable_current_amd64.deb\n",
    "yes | sudo apt-get install fonts-liberation libappindicator3-1 libasound2 libatk-bridge2.0-0 libgtk-3-0 libx11-xcb1 libxtst6 xdg-utils\n",
    "yes | sudo dpkg -i google-chrome*.deb\n",
    "wget https://chromedriver.storage.googleapis.com/2.42/chromedriver_linux64.zip && unzip chromedriver_linux64.zip\n",
    "yes | sudo apt-get install python-pip parallel python3-pip\n",
    "wget https://github.com/espena/sosicon/blob/master/bin/cmd/linux64/sosicon?raw=true -O sosicon && chmod +x sosicon\n",
    "\n",
    "pip3 install selenium feedparser pyyaml\n",
    "\n",
    "export GCSFUSE_REPO=gcsfuse-`lsb_release -c -s`\n",
    "echo \"deb http://packages.cloud.google.com/apt $GCSFUSE_REPO main\" | sudo tee /etc/apt/sources.list.d/gcsfuse.list\n",
    "curl https://packages.cloud.google.com/apt/doc/apt-key.gpg | sudo apt-key add -\n",
    "\n",
    "yes | sudo apt-get update\n",
    "yes | sudo apt-get install gcsfuse\n",
    "\n",
    "rm -rf dummy\n",
    "mkdir dummy\n",
    "gcsfuse jlg-bucket dummy\n",
    "rm -f ./dummy/sosicon\n",
    "cp ./sosicon ./dummy\n",
    "fusermount -u dummy\n",
    "rm -rf dummy\n",
    "'''\n",
    "\n",
    "Basin.initString += '''--scopes=https://www.googleapis.com/auth/devstorage.read_write,\\\n",
    "https://www.googleapis.com/auth/cloudkms\\n'''\n",
    "\n",
    "geonorge.instantiate(fabfile='fabfile.py')\n",
    "print(\"The ip of the google cloud instance is {}\".format(geonorge.ip))\n",
    "\n",
    "#Testing connection to instance\n",
    "geonorge.callPopen('gcloud compute ssh {username}@{instance} --zone {region}'.format(\n",
    "**geonorge.machineInfo))\n",
    "\n",
    "#Installing dependencies necessary to crawl through geonorge\n",
    "scriptsFolder='./scripts'\n",
    "geonorge.runScript(saveFolder=scriptsFolder,scriptName='setup.sh')"
   ]
  },
  {
   "cell_type": "markdown",
   "metadata": {},
   "source": [
    "## Passing geonorge credentials and downloading land cover data"
   ]
  },
  {
   "cell_type": "code",
   "execution_count": null,
   "metadata": {},
   "outputs": [],
   "source": [
    "#Putting the necessary files on the vm\n",
    "Basin.callPopen('fab downloadFromGeonorge')\n",
    "\n",
    "#Downloading data using geonorge_scraping.py utilities\n",
    "geonorge.vmScript='''#!/usr/bin/python3\n",
    "import geonorge_scraping as gs\n",
    "google = gs.Download()\n",
    "google.getUrls()\n",
    "google.download(saveFolder='./data_AR5')\n",
    "'''\n",
    "\n",
    "geonorge.runScript(saveFolder=scriptsFolder,scriptName='download.py')\n",
    "\n",
    "#Putting all downloads in a cloud bucket\n",
    "geonorge.vmScript='''#!/bin/bash\n",
    "tar -cf AR5.tar ./data_AR5\n",
    "rm -rf upload\n",
    "mkdir upload\n",
    "gcsfuse jlg-bucket upload\n",
    "rm -f ./upload/AR5.tar\n",
    "cp AR5.tar ./upload/AR5.tar\n",
    "fusermount -u ./upload'''\n",
    "\n",
    "geonorge.runScript(saveFolder=scriptsFolder,scriptName='toCloudBucket.sh')"
   ]
  },
  {
   "cell_type": "code",
   "execution_count": null,
   "metadata": {},
   "outputs": [],
   "source": [
    "geonorge.kill()"
   ]
  }
 ],
 "metadata": {
  "kernelspec": {
   "display_name": "Python 3",
   "language": "python",
   "name": "python3"
  },
  "language_info": {
   "codemirror_mode": {
    "name": "ipython",
    "version": 3
   },
   "file_extension": ".py",
   "mimetype": "text/x-python",
   "name": "python",
   "nbconvert_exporter": "python",
   "pygments_lexer": "ipython3",
   "version": "3.6.8"
  }
 },
 "nbformat": 4,
 "nbformat_minor": 2
}
