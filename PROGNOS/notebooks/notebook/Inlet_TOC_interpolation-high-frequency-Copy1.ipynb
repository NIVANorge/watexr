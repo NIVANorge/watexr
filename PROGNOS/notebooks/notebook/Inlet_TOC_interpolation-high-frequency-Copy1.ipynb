{
 "cells": [
  {
   "cell_type": "markdown",
   "metadata": {},
   "source": [
    "# Langtjern TOC interpolation at outlet\n",
    "\n",
    "## Required python libraries and files, setup variables"
   ]
  },
  {
   "cell_type": "code",
   "execution_count": 1,
   "metadata": {},
   "outputs": [
    {
     "name": "stdout",
     "output_type": "stream",
     "text": [
      "Using python version:\n",
      "3.6.3 (default, Oct  3 2017, 21:45:48) \n",
      "[GCC 7.2.0]\n",
      "Paths to python libraries:\n",
      "['', '/home/jose-luis/Envs/prognos_get_data_py3/lib/python36.zip', '/home/jose-luis/Envs/prognos_get_data_py3/lib/python3.6', '/home/jose-luis/Envs/prognos_get_data_py3/lib/python3.6/lib-dynload', '/usr/lib/python3.6', '/home/jose-luis/Envs/prognos_get_data_py3/lib/python3.6/site-packages', '/home/jose-luis/Envs/prognos_get_data_py3/lib/python3.6/site-packages/IPython/extensions', '/home/jose-luis/.ipython']\n"
     ]
    }
   ],
   "source": [
    "import sys\n",
    "import LangtjernWeather as lw\n",
    "import numpy as np\n",
    "import datetime\n",
    "import pandas as pd\n",
    "import getpass\n",
    "import matplotlib\n",
    "import matplotlib.pyplot as plt\n",
    "import getpass\n",
    "import itertools as IT\n",
    "from itertools import compress\n",
    "from matplotlib import rc\n",
    "import shutil\n",
    "import os\n",
    "import re\n",
    "import pickle\n",
    "import pylab\n",
    "import statsmodels.api as sm\n",
    "from patsy import dmatrices\n",
    "\n",
    "#Setting matplotlib style\n",
    "matplotlib.style.use('ggplot')\n",
    "%matplotlib inline\n",
    "pd.options.mode.chained_assignment = None\n",
    "rc('text', usetex=True)\n",
    "rc('xtick', labelsize = 16)\n",
    "rc('ytick', labelsize = 16)\n",
    "rc('font', size = 16)\n",
    "#login function\n",
    "def login():\n",
    "    username = input(\"Username: [JLG] \") #default username JLG\n",
    "    if not username :\n",
    "        username = \"JLG\"\n",
    "    password = getpass.getpass('Password: ')\n",
    "    return username, password\n",
    "\n",
    "#Creating directories to store files. This will overwrite if the directory already exists\n",
    "def create_dir(dir_name) :\n",
    "    if not os.path.exists(dir_name) :\n",
    "        os.makedirs(dir_name)\n",
    "    else :\n",
    "        shutil.rmtree(dir_name)\n",
    "        os.makedirs(dir_name)\n",
    "#Helper function for plotting\n",
    "def plot_df(df) :\n",
    "    num_cols = len(df.columns)\n",
    "    fig, axes = plt.subplots(nrows = num_cols, ncols = 1, figsize = (20, num_cols * 5))\n",
    "    for name,ax_h in zip(df.columns, axes) :\n",
    "        plt.sca(ax_h)\n",
    "        plt.plot(df.index,df[name])\n",
    "        #df[name].plot(ax = ax_h)\n",
    "        ax_h.set_ylabel(name)\n",
    "    return fig\n",
    "\n",
    "def isnumber(x):\n",
    "    try:\n",
    "        float(x)\n",
    "        return True\n",
    "    except:\n",
    "        return False\n",
    "\n",
    "#Sanity check\n",
    "print(\"Using python version:\")\n",
    "print(sys.version)\n",
    "print(\"Paths to python libraries:\")\n",
    "print(sys.path)\n",
    "\n",
    "#Creating directory to save results\n",
    "result_dir = './results/'\n",
    "create_dir(result_dir)    "
   ]
  },
  {
   "cell_type": "markdown",
   "metadata": {},
   "source": [
    "## Asking for credentials to AquaMonitor."
   ]
  },
  {
   "cell_type": "code",
   "execution_count": 2,
   "metadata": {},
   "outputs": [
    {
     "name": "stdin",
     "output_type": "stream",
     "text": [
      "Username: [JLG]  \n",
      "Password:  ··············\n"
     ]
    }
   ],
   "source": [
    "username,password = login()\n",
    "\n",
    "#Folder where the downloaded data will be saved\n",
    "root = \"./DownloadedData/\"\n",
    "create_dir(root)"
   ]
  },
  {
   "cell_type": "markdown",
   "metadata": {},
   "source": [
    "## Defining period to download"
   ]
  },
  {
   "cell_type": "code",
   "execution_count": 3,
   "metadata": {},
   "outputs": [],
   "source": [
    "## Defining period to download\n",
    "\n",
    "#Setting up date to load data\n",
    "\n",
    "fromDate = \"1970/01/01\"\n",
    "toDate = \"2018/12/31\""
   ]
  },
  {
   "cell_type": "markdown",
   "metadata": {},
   "source": [
    "## Loading data at inlet"
   ]
  },
  {
   "cell_type": "code",
   "execution_count": 4,
   "metadata": {},
   "outputs": [
    {
     "ename": "JSONDecodeError",
     "evalue": "Expecting value: line 1 column 1 (char 0)",
     "output_type": "error",
     "traceback": [
      "\u001b[0;31m---------------------------------------------------------------------------\u001b[0m",
      "\u001b[0;31mJSONDecodeError\u001b[0m                           Traceback (most recent call last)",
      "\u001b[0;32m<ipython-input-4-ed680b8decb3>\u001b[0m in \u001b[0;36m<module>\u001b[0;34m()\u001b[0m\n\u001b[0;32m----> 1\u001b[0;31m \u001b[0mchemistry\u001b[0m \u001b[0;34m=\u001b[0m \u001b[0mlw\u001b[0m\u001b[0;34m.\u001b[0m\u001b[0mgetLangtjernData\u001b[0m\u001b[0;34m(\u001b[0m\u001b[0musername\u001b[0m\u001b[0;34m,\u001b[0m\u001b[0mpassword\u001b[0m\u001b[0;34m,\u001b[0m\u001b[0mroot\u001b[0m\u001b[0;34m,\u001b[0m\u001b[0mfromDate\u001b[0m\u001b[0;34m,\u001b[0m\u001b[0mtoDate\u001b[0m\u001b[0;34m,\u001b[0m \u001b[0;36m37933\u001b[0m\u001b[0;34m,\u001b[0m \u001b[0;34m'Water'\u001b[0m\u001b[0;34m)\u001b[0m\u001b[0;34m\u001b[0m\u001b[0;34m\u001b[0m\u001b[0m\n\u001b[0m\u001b[1;32m      2\u001b[0m \u001b[0;31m#del password\u001b[0m\u001b[0;34m\u001b[0m\u001b[0;34m\u001b[0m\u001b[0;34m\u001b[0m\u001b[0m\n\u001b[1;32m      3\u001b[0m chemistry.drop(['Depth1', 'Depth2','ProjectId', 'ProjectName', 'StationId', 'StationCode',\n\u001b[1;32m      4\u001b[0m                 'StationName','SampleDate_dato', 'SampleDate_tid'], inplace=True, axis=1) \n\u001b[1;32m      5\u001b[0m \u001b[0;31m# chemistry.replace('< 1','Null')\u001b[0m\u001b[0;34m\u001b[0m\u001b[0;34m\u001b[0m\u001b[0;34m\u001b[0m\u001b[0m\n",
      "\u001b[0;32m~/Envs/prognos_get_data_py3/notebook/LangtjernWeather.py\u001b[0m in \u001b[0;36mgetLangtjernData\u001b[0;34m(username, password, root, fromDate, toDate, sid, medium)\u001b[0m\n\u001b[1;32m    131\u001b[0m     \u001b[0mdataFileId\u001b[0m \u001b[0;34m=\u001b[0m \u001b[0mmake_file\u001b[0m\u001b[0;34m(\u001b[0m\u001b[0;34m'Data'\u001b[0m\u001b[0;34m,\u001b[0m\u001b[0mdataFile\u001b[0m\u001b[0;34m,\u001b[0m \u001b[0msid\u001b[0m\u001b[0;34m,\u001b[0m \u001b[0mmedium\u001b[0m\u001b[0;34m)\u001b[0m\u001b[0;34m\u001b[0m\u001b[0;34m\u001b[0m\u001b[0m\n\u001b[1;32m    132\u001b[0m \u001b[0;34m\u001b[0m\u001b[0m\n\u001b[0;32m--> 133\u001b[0;31m     \u001b[0mdownload_file\u001b[0m\u001b[0;34m(\u001b[0m\u001b[0mdataFileId\u001b[0m\u001b[0;34m,\u001b[0m \u001b[0mdataFile\u001b[0m\u001b[0;34m)\u001b[0m\u001b[0;34m\u001b[0m\u001b[0;34m\u001b[0m\u001b[0m\n\u001b[0m\u001b[1;32m    134\u001b[0m \u001b[0;34m\u001b[0m\u001b[0m\n\u001b[1;32m    135\u001b[0m     \u001b[0mdata\u001b[0m \u001b[0;34m=\u001b[0m \u001b[0mpd\u001b[0m\u001b[0;34m.\u001b[0m\u001b[0mread_csv\u001b[0m\u001b[0;34m(\u001b[0m\u001b[0mroot\u001b[0m \u001b[0;34m+\u001b[0m \u001b[0mdataFile\u001b[0m\u001b[0;34m,\u001b[0m     \u001b[0mdelimiter\u001b[0m\u001b[0;34m=\u001b[0m\u001b[0;34m';'\u001b[0m\u001b[0;34m,\u001b[0m \u001b[0mencoding\u001b[0m\u001b[0;34m=\u001b[0m\u001b[0;34m'utf-16'\u001b[0m\u001b[0;34m)\u001b[0m\u001b[0;34m\u001b[0m\u001b[0;34m\u001b[0m\u001b[0m\n",
      "\u001b[0;32m~/Envs/prognos_get_data_py3/notebook/LangtjernWeather.py\u001b[0m in \u001b[0;36mdownload_file\u001b[0;34m(id, filename)\u001b[0m\n\u001b[1;32m    123\u001b[0m         \u001b[0marchived\u001b[0m \u001b[0;34m=\u001b[0m \u001b[0;32mFalse\u001b[0m\u001b[0;34m\u001b[0m\u001b[0;34m\u001b[0m\u001b[0m\n\u001b[1;32m    124\u001b[0m         \u001b[0;32mwhile\u001b[0m \u001b[0;32mnot\u001b[0m \u001b[0marchived\u001b[0m\u001b[0;34m:\u001b[0m\u001b[0;34m\u001b[0m\u001b[0;34m\u001b[0m\u001b[0m\n\u001b[0;32m--> 125\u001b[0;31m             \u001b[0mresp\u001b[0m \u001b[0;34m=\u001b[0m \u001b[0mAquaMonitor\u001b[0m\u001b[0;34m.\u001b[0m\u001b[0mgetArchive\u001b[0m\u001b[0;34m(\u001b[0m\u001b[0mtoken\u001b[0m\u001b[0;34m,\u001b[0m \u001b[0mid\u001b[0m\u001b[0;34m)\u001b[0m\u001b[0;34m\u001b[0m\u001b[0;34m\u001b[0m\u001b[0m\n\u001b[0m\u001b[1;32m    126\u001b[0m             \u001b[0marchived\u001b[0m \u001b[0;34m=\u001b[0m \u001b[0mresp\u001b[0m\u001b[0;34m.\u001b[0m\u001b[0mget\u001b[0m\u001b[0;34m(\u001b[0m\u001b[0;34m\"Archived\"\u001b[0m\u001b[0;34m)\u001b[0m\u001b[0;34m\u001b[0m\u001b[0;34m\u001b[0m\u001b[0m\n\u001b[1;32m    127\u001b[0m         \u001b[0mpath\u001b[0m \u001b[0;34m=\u001b[0m \u001b[0mroot\u001b[0m \u001b[0;34m+\u001b[0m \u001b[0mfilename\u001b[0m\u001b[0;34m\u001b[0m\u001b[0;34m\u001b[0m\u001b[0m\n",
      "\u001b[0;32m~/Envs/prognos_get_data_py3/notebook/AquaMonitor.py\u001b[0m in \u001b[0;36mgetArchive\u001b[0;34m(token, id)\u001b[0m\n\u001b[1;32m     89\u001b[0m \u001b[0;32mdef\u001b[0m \u001b[0mgetArchive\u001b[0m\u001b[0;34m(\u001b[0m\u001b[0mtoken\u001b[0m\u001b[0;34m,\u001b[0m \u001b[0mid\u001b[0m\u001b[0;34m)\u001b[0m\u001b[0;34m:\u001b[0m\u001b[0;34m\u001b[0m\u001b[0;34m\u001b[0m\u001b[0m\n\u001b[1;32m     90\u001b[0m     \u001b[0mpath\u001b[0m \u001b[0;34m=\u001b[0m \u001b[0;34m'AquaServices/files/archive/'\u001b[0m \u001b[0;34m+\u001b[0m \u001b[0mid\u001b[0m\u001b[0;34m\u001b[0m\u001b[0;34m\u001b[0m\u001b[0m\n\u001b[0;32m---> 91\u001b[0;31m     \u001b[0;32mreturn\u001b[0m \u001b[0mgetJson\u001b[0m\u001b[0;34m(\u001b[0m\u001b[0mtoken\u001b[0m\u001b[0;34m,\u001b[0m \u001b[0mpath\u001b[0m\u001b[0;34m)\u001b[0m\u001b[0;34m\u001b[0m\u001b[0;34m\u001b[0m\u001b[0m\n\u001b[0m\u001b[1;32m     92\u001b[0m \u001b[0;34m\u001b[0m\u001b[0m\n\u001b[1;32m     93\u001b[0m \u001b[0;34m\u001b[0m\u001b[0m\n",
      "\u001b[0;32m~/Envs/prognos_get_data_py3/notebook/AquaMonitor.py\u001b[0m in \u001b[0;36mgetJson\u001b[0;34m(token, path)\u001b[0m\n\u001b[1;32m     53\u001b[0m \u001b[0;32mdef\u001b[0m \u001b[0mgetJson\u001b[0m\u001b[0;34m(\u001b[0m\u001b[0mtoken\u001b[0m\u001b[0;34m,\u001b[0m \u001b[0mpath\u001b[0m\u001b[0;34m)\u001b[0m\u001b[0;34m:\u001b[0m\u001b[0;34m\u001b[0m\u001b[0;34m\u001b[0m\u001b[0m\n\u001b[1;32m     54\u001b[0m     \u001b[0mresponse\u001b[0m \u001b[0;34m=\u001b[0m \u001b[0mrequests\u001b[0m\u001b[0;34m.\u001b[0m\u001b[0mget\u001b[0m\u001b[0;34m(\u001b[0m\u001b[0mhost\u001b[0m \u001b[0;34m+\u001b[0m \u001b[0mpath\u001b[0m\u001b[0;34m,\u001b[0m \u001b[0mcookies\u001b[0m \u001b[0;34m=\u001b[0m \u001b[0mdict\u001b[0m\u001b[0;34m(\u001b[0m\u001b[0maqua_key\u001b[0m\u001b[0;34m=\u001b[0m\u001b[0mtoken\u001b[0m\u001b[0;34m)\u001b[0m\u001b[0;34m)\u001b[0m\u001b[0;34m\u001b[0m\u001b[0;34m\u001b[0m\u001b[0m\n\u001b[0;32m---> 55\u001b[0;31m     \u001b[0;32mreturn\u001b[0m \u001b[0mjson\u001b[0m\u001b[0;34m.\u001b[0m\u001b[0mloads\u001b[0m\u001b[0;34m(\u001b[0m\u001b[0mresponse\u001b[0m\u001b[0;34m.\u001b[0m\u001b[0mtext\u001b[0m\u001b[0;34m)\u001b[0m\u001b[0;34m\u001b[0m\u001b[0;34m\u001b[0m\u001b[0m\n\u001b[0m\u001b[1;32m     56\u001b[0m \u001b[0;34m\u001b[0m\u001b[0m\n\u001b[1;32m     57\u001b[0m \u001b[0;34m\u001b[0m\u001b[0m\n",
      "\u001b[0;32m/usr/lib/python3.6/json/__init__.py\u001b[0m in \u001b[0;36mloads\u001b[0;34m(s, encoding, cls, object_hook, parse_float, parse_int, parse_constant, object_pairs_hook, **kw)\u001b[0m\n\u001b[1;32m    352\u001b[0m             \u001b[0mparse_int\u001b[0m \u001b[0;32mis\u001b[0m \u001b[0;32mNone\u001b[0m \u001b[0;32mand\u001b[0m \u001b[0mparse_float\u001b[0m \u001b[0;32mis\u001b[0m \u001b[0;32mNone\u001b[0m \u001b[0;32mand\u001b[0m\u001b[0;34m\u001b[0m\u001b[0;34m\u001b[0m\u001b[0m\n\u001b[1;32m    353\u001b[0m             parse_constant is None and object_pairs_hook is None and not kw):\n\u001b[0;32m--> 354\u001b[0;31m         \u001b[0;32mreturn\u001b[0m \u001b[0m_default_decoder\u001b[0m\u001b[0;34m.\u001b[0m\u001b[0mdecode\u001b[0m\u001b[0;34m(\u001b[0m\u001b[0ms\u001b[0m\u001b[0;34m)\u001b[0m\u001b[0;34m\u001b[0m\u001b[0;34m\u001b[0m\u001b[0m\n\u001b[0m\u001b[1;32m    355\u001b[0m     \u001b[0;32mif\u001b[0m \u001b[0mcls\u001b[0m \u001b[0;32mis\u001b[0m \u001b[0;32mNone\u001b[0m\u001b[0;34m:\u001b[0m\u001b[0;34m\u001b[0m\u001b[0;34m\u001b[0m\u001b[0m\n\u001b[1;32m    356\u001b[0m         \u001b[0mcls\u001b[0m \u001b[0;34m=\u001b[0m \u001b[0mJSONDecoder\u001b[0m\u001b[0;34m\u001b[0m\u001b[0;34m\u001b[0m\u001b[0m\n",
      "\u001b[0;32m/usr/lib/python3.6/json/decoder.py\u001b[0m in \u001b[0;36mdecode\u001b[0;34m(self, s, _w)\u001b[0m\n\u001b[1;32m    337\u001b[0m \u001b[0;34m\u001b[0m\u001b[0m\n\u001b[1;32m    338\u001b[0m         \"\"\"\n\u001b[0;32m--> 339\u001b[0;31m         \u001b[0mobj\u001b[0m\u001b[0;34m,\u001b[0m \u001b[0mend\u001b[0m \u001b[0;34m=\u001b[0m \u001b[0mself\u001b[0m\u001b[0;34m.\u001b[0m\u001b[0mraw_decode\u001b[0m\u001b[0;34m(\u001b[0m\u001b[0ms\u001b[0m\u001b[0;34m,\u001b[0m \u001b[0midx\u001b[0m\u001b[0;34m=\u001b[0m\u001b[0m_w\u001b[0m\u001b[0;34m(\u001b[0m\u001b[0ms\u001b[0m\u001b[0;34m,\u001b[0m \u001b[0;36m0\u001b[0m\u001b[0;34m)\u001b[0m\u001b[0;34m.\u001b[0m\u001b[0mend\u001b[0m\u001b[0;34m(\u001b[0m\u001b[0;34m)\u001b[0m\u001b[0;34m)\u001b[0m\u001b[0;34m\u001b[0m\u001b[0;34m\u001b[0m\u001b[0m\n\u001b[0m\u001b[1;32m    340\u001b[0m         \u001b[0mend\u001b[0m \u001b[0;34m=\u001b[0m \u001b[0m_w\u001b[0m\u001b[0;34m(\u001b[0m\u001b[0ms\u001b[0m\u001b[0;34m,\u001b[0m \u001b[0mend\u001b[0m\u001b[0;34m)\u001b[0m\u001b[0;34m.\u001b[0m\u001b[0mend\u001b[0m\u001b[0;34m(\u001b[0m\u001b[0;34m)\u001b[0m\u001b[0;34m\u001b[0m\u001b[0;34m\u001b[0m\u001b[0m\n\u001b[1;32m    341\u001b[0m         \u001b[0;32mif\u001b[0m \u001b[0mend\u001b[0m \u001b[0;34m!=\u001b[0m \u001b[0mlen\u001b[0m\u001b[0;34m(\u001b[0m\u001b[0ms\u001b[0m\u001b[0;34m)\u001b[0m\u001b[0;34m:\u001b[0m\u001b[0;34m\u001b[0m\u001b[0;34m\u001b[0m\u001b[0m\n",
      "\u001b[0;32m/usr/lib/python3.6/json/decoder.py\u001b[0m in \u001b[0;36mraw_decode\u001b[0;34m(self, s, idx)\u001b[0m\n\u001b[1;32m    355\u001b[0m             \u001b[0mobj\u001b[0m\u001b[0;34m,\u001b[0m \u001b[0mend\u001b[0m \u001b[0;34m=\u001b[0m \u001b[0mself\u001b[0m\u001b[0;34m.\u001b[0m\u001b[0mscan_once\u001b[0m\u001b[0;34m(\u001b[0m\u001b[0ms\u001b[0m\u001b[0;34m,\u001b[0m \u001b[0midx\u001b[0m\u001b[0;34m)\u001b[0m\u001b[0;34m\u001b[0m\u001b[0;34m\u001b[0m\u001b[0m\n\u001b[1;32m    356\u001b[0m         \u001b[0;32mexcept\u001b[0m \u001b[0mStopIteration\u001b[0m \u001b[0;32mas\u001b[0m \u001b[0merr\u001b[0m\u001b[0;34m:\u001b[0m\u001b[0;34m\u001b[0m\u001b[0;34m\u001b[0m\u001b[0m\n\u001b[0;32m--> 357\u001b[0;31m             \u001b[0;32mraise\u001b[0m \u001b[0mJSONDecodeError\u001b[0m\u001b[0;34m(\u001b[0m\u001b[0;34m\"Expecting value\"\u001b[0m\u001b[0;34m,\u001b[0m \u001b[0ms\u001b[0m\u001b[0;34m,\u001b[0m \u001b[0merr\u001b[0m\u001b[0;34m.\u001b[0m\u001b[0mvalue\u001b[0m\u001b[0;34m)\u001b[0m \u001b[0;32mfrom\u001b[0m \u001b[0;32mNone\u001b[0m\u001b[0;34m\u001b[0m\u001b[0;34m\u001b[0m\u001b[0m\n\u001b[0m\u001b[1;32m    358\u001b[0m         \u001b[0;32mreturn\u001b[0m \u001b[0mobj\u001b[0m\u001b[0;34m,\u001b[0m \u001b[0mend\u001b[0m\u001b[0;34m\u001b[0m\u001b[0;34m\u001b[0m\u001b[0m\n",
      "\u001b[0;31mJSONDecodeError\u001b[0m: Expecting value: line 1 column 1 (char 0)"
     ]
    }
   ],
   "source": [
    "chemistry = lw.getLangtjernData(username,password,root,fromDate,toDate, 37933, 'Water')\n",
    "#del password\n",
    "chemistry.drop(['Depth1', 'Depth2','ProjectId', 'ProjectName', 'StationId', 'StationCode',\n",
    "                'StationName','SampleDate_dato', 'SampleDate_tid'], inplace=True, axis=1) \n",
    "# chemistry.replace('< 1','Null')\n",
    "# chemistry.replace('< 0,06','Null')\n",
    "chemistry = chemistry[chemistry.applymap(isnumber)]\n",
    "\n",
    "chemistry = chemistry.rename(columns=lambda x: re.sub('[_/]',' ',x))\n",
    "chemistry = chemistry.astype('float64',errors='ignore')\n",
    "print(\"The data that were read are: {}\".format(chemistry.columns))"
   ]
  },
  {
   "cell_type": "code",
   "execution_count": null,
   "metadata": {
    "scrolled": false
   },
   "outputs": [],
   "source": [
    "chemistry['TOC mg l'].plot(subplots=True,figsize=(20,5),linestyle='None',marker='.',markersize=1)\n",
    "TOC=chemistry['TOC mg l']\n",
    "TOC = TOC[~TOC.index.duplicated(keep='first')]"
   ]
  },
  {
   "cell_type": "markdown",
   "metadata": {},
   "source": [
    "## Getting CDOM"
   ]
  },
  {
   "cell_type": "code",
   "execution_count": null,
   "metadata": {},
   "outputs": [],
   "source": [
    "inlet = lw.getLangtjernData(username,password,root,fromDate,toDate, 63098, 'Water')\n",
    "inlet.drop(['Depth1', 'Depth2','ProjectId', 'ProjectName', 'StationId', 'StationCode',\n",
    "             'StationName','SampleDate_dato', 'SampleDate_tid'], inplace=True, axis=1) \n",
    "inlet = inlet.rename(columns=lambda x: re.sub('[_/]',' ',x))\n",
    "inlet = inlet.rename(columns=lambda x: re.sub('µ','u',x))\n",
    "print(\"The data that were read are: {}\".format(inlet.columns))"
   ]
  },
  {
   "cell_type": "code",
   "execution_count": null,
   "metadata": {},
   "outputs": [],
   "source": [
    "inlet.plot(subplots=True,figsize=(20,12),linestyle='None',marker='.',markersize=1)"
   ]
  },
  {
   "cell_type": "markdown",
   "metadata": {},
   "source": [
    "## Getting radiation"
   ]
  },
  {
   "cell_type": "code",
   "execution_count": null,
   "metadata": {},
   "outputs": [],
   "source": [
    "radiation = lw.getLangtjernData(username,password,root,fromDate,toDate, 62040, 'Air')\n",
    "radiation = radiation['Globalstråling_W/m2']\n",
    "radiation.columns = ['radiation']\n",
    "radiation = radiation.astype('float64')\n",
    "radiation.plot(figsize=(20,3),marker='.',markersize=1,linestyle='')"
   ]
  },
  {
   "cell_type": "code",
   "execution_count": null,
   "metadata": {},
   "outputs": [],
   "source": [
    "soilTemp = lw.getLangtjernData(username,password,root,fromDate,toDate, 63099, 'Water')\n",
    "soilTemp = soilTemp.loc[[i == 0.15 for i in soilTemp['Depth1']],:]\n",
    "soilTemp = soilTemp['Temperatur_C']\n",
    "soilTemp = soilTemp.astype('float64')\n",
    "soilTemp.plot(figsize=(20,3),marker='.',markersize=1,linestyle='')"
   ]
  },
  {
   "cell_type": "markdown",
   "metadata": {},
   "source": [
    "## Finding relation between CDOM, TOC, temperature at the inlet \n",
    "\n",
    "### Interpolation using daily data"
   ]
  },
  {
   "cell_type": "code",
   "execution_count": null,
   "metadata": {},
   "outputs": [],
   "source": [
    "C = TOC.copy()\n",
    "C = C.dropna().to_frame()\n",
    "C = C[~C.index.duplicated(keep='first')]\n",
    "C.rename(columns={'TOC mg l':'TOC'},inplace=True)\n",
    "\n",
    "out = inlet.copy()\n",
    "# display(out)\n",
    "# out.drop(['Vannstand m'],inplace=True, axis=1)\n",
    "out.rename(columns={'CDOM ug L' : 'CDOM','Temperatur C':'Temperature', 'Vannstand m': 'gh'},inplace=True)\n",
    "out['Temperature'] = out['Temperature'].apply(lambda x : 0.0 if x < 0.0 else x)\n",
    "out.interpolate(inplace=True,method='index')\n",
    "\n",
    "rad=radiation.copy()\n",
    "rad=rad.to_frame()\n",
    "rad.rename(columns={'Globalstråling_W/m2':'radiation'},inplace=True)\n",
    "rad.interpolate(inplace=True,method='index')\n",
    "\n",
    "soilT = soilTemp.copy()\n",
    "soilT = soilT.to_frame()\n",
    "display(soilT.columns)\n",
    "soilT.rename(columns={'Temperatur_C': 'soilTemperature'},inplace=True)\n",
    "display(soilT.columns)\n",
    "soilT.interpolate(inplace=True,method='index')\n",
    "display(soilT.columns)\n",
    "\n",
    "# data = pd.concat([rad,out,soilT],axis=1,join='outer')\n",
    "data = rad.join(oxy)\n",
    "data = data.join(out)\n",
    "allData = data.copy()\n",
    "data.interpolate(inplace=True,method='index')\n",
    "# data.interpolate(inplace=True,method='index')\n",
    "# data.interpolate(inplace=True)\n",
    "#data = data[np.isnan(data['TOC'])==False]\n",
    "# lake[lake['Depth1']==1.0]\n",
    "\n",
    "start = pd.to_datetime('2014-08-01')\n",
    "finish = pd.to_datetime('2017-06-01')\n",
    "\n",
    "# start = pd.to_datetime('2012-04-30')\n",
    "# finish = pd.to_datetime('2018-12-31')\n",
    "\n",
    "data = data.loc[start:finish,:]\n",
    "C = C.loc[start:finish,:]\n",
    "\n",
    "#data.interpolate(inplace=True,method='index')\n",
    "data = pd.concat([data,C],axis=0,sort=True)\n",
    "data.interpolate(inplace=True,method='index')\n",
    "data = data.dropna()\n",
    "\n",
    "data.plot(subplots=True,figsize=(20,18),marker='o',markersize=3,linestyle='')\n",
    "display(data)"
   ]
  },
  {
   "cell_type": "markdown",
   "metadata": {},
   "source": [
    "## Regression"
   ]
  },
  {
   "cell_type": "code",
   "execution_count": null,
   "metadata": {},
   "outputs": [],
   "source": [
    "#Performing regression\n",
    "y, X = dmatrices('TOC ~ CDOM +  soilTemperature:gh + radiation', data=data, return_type='dataframe')\n",
    "\n",
    "#CDOM + gh:Temperature + soilTemperature:gh + radiation\n",
    "\n",
    "# Note the difference in argument order\n",
    "model = sm.OLS(y, X).fit()\n",
    "model.summary()\n",
    "#fig, ax = plt.subplots()\n",
    "#fig = sm.graphics.plot_fit(model, 0, ax=ax)\n",
    "ypred = model.predict(X)\n",
    "fig, ax = plt.subplots(figsize=(20,5))\n",
    "\n",
    "ax.plot(X.index, y['TOC'], 'o', label=\"TOC\")\n",
    "ax.plot(X.index, ypred, 'b+', label=\"prediction\")\n",
    "# ax.plot(y['TOC'],ypred,'k.')\n",
    "model.summary()"
   ]
  },
  {
   "cell_type": "markdown",
   "metadata": {},
   "source": [
    "## Creating time series of inlet inputs of CDOM\n",
    "### Creating time series of grap samples"
   ]
  },
  {
   "cell_type": "code",
   "execution_count": null,
   "metadata": {},
   "outputs": [],
   "source": [
    "start = pd.to_datetime('2014-08-12 14:00:00')\n",
    "finish = pd.to_datetime('2017-05-31 00:00:00')\n",
    "allData = allData[start:finish]\n",
    "\n",
    "allData.interpolate(method='time',inplace=True)\n",
    "allData['TOC'] = allData.apply(lambda x : float(model.predict([1.,x.CDOM,x.soilTemperature*x.gh,x.radiation,])),axis=1)\n",
    "\n",
    "display(allData)\n",
    "to_string_values_acpy = lambda t,depth,val :  i.strftime('%Y-%m-%d %H:%M:%S') + '\\t' + \\\n",
    "                                              '-' + str(depth) + '\\t' + str(val*1000) + '\\n'\n",
    "\n",
    "to_string_values = lambda t,val :  i.strftime('%Y-%m-%d %H:%M:%S') + '\\t' + str(val*1000) + '\\n'\n",
    "\n",
    "filename = './results/TOC_inlet.dat'\n",
    "filenameObs = './results/TOC_inlet.obs'\n",
    "fid = open(filename,'w')\n",
    "fidObs = open(filenameObs,'w')\n",
    "\n",
    "for i,x in allData['TOC'].items():\n",
    "    fid.write(to_string_values_acpy(i,0.0,x))\n",
    "    fidObs.write(to_string_values(i,x))\n",
    "\n",
    "fid.close()\n",
    "fidObs.close()\n",
    "\n",
    "allData.plot(subplots=True, figsize=(20,3*len(allData.columns) ), marker='.', markersize=1, linestyle='None')"
   ]
  }
 ],
 "metadata": {
  "kernelspec": {
   "display_name": "Python 3",
   "language": "python",
   "name": "python3"
  },
  "language_info": {
   "codemirror_mode": {
    "name": "ipython",
    "version": 3
   },
   "file_extension": ".py",
   "mimetype": "text/x-python",
   "name": "python",
   "nbconvert_exporter": "python",
   "pygments_lexer": "ipython3",
   "version": "3.6.3"
  }
 },
 "nbformat": 4,
 "nbformat_minor": 2
}
