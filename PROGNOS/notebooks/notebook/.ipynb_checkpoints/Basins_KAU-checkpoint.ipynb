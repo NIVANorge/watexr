{
 "cells": [
  {
   "cell_type": "code",
   "execution_count": 1,
   "metadata": {},
   "outputs": [],
   "source": [
    "#Loading required modules\n",
    "import os\n",
    "import shutil\n",
    "import subprocess\n",
    "from subprocess import Popen, PIPE, CalledProcessError\n",
    "import psycopg2 as db\n",
    "import psycopg2.extras\n",
    "from psycopg2 import sql\n",
    "from psycopg2.extensions import AsIs\n",
    "from encrypt import decryptCredentials,decryptString\n",
    "#from procedures import refreshProcedures\n",
    "import yaml\n",
    "import getpass\n",
    "import time\n",
    "import re\n",
    "import pandas as pd\n",
    "from pyproj import Proj, transform\n",
    "\n",
    "\n",
    "\n",
    "from pygments import highlight\n",
    "from pygments.formatters import HtmlFormatter\n",
    "from pygments.lexers import YamlLexer\n",
    "from pygments.lexers.python import Python3Lexer\n",
    "from pygments.lexers.shell import BashLexer\n",
    "from IPython.core.display import display,HTML\n",
    "\n",
    "import metnoRequests as metno\n",
    "import instantiationBasin as basin\n",
    "\n",
    "import json\n",
    "import gmaps\n",
    "import gmaps.geojson_geometries\n",
    "import geojson\n",
    "\n",
    "#Helper function\n",
    "def is_number(s):\n",
    "    try:\n",
    "        float(s)\n",
    "        return True\n",
    "    except ValueError:\n",
    "        return False"
   ]
  },
  {
   "cell_type": "markdown",
   "metadata": {},
   "source": [
    "## Creating instance to compute basin"
   ]
  },
  {
   "cell_type": "code",
   "execution_count": 2,
   "metadata": {},
   "outputs": [
    {
     "name": "stdout",
     "output_type": "stream",
     "text": [
      "The ip of the google cloud instance is 35.246.169.48\n",
      "(b'Linux kau 4.9.0-6-amd64 #1 SMP Debian 4.9.88-1+deb9u1 (2018-05-07) x86_64\\n\\nThe programs included with the Debian GNU/Linux system are free software;\\nthe exact distribution terms for each program are described in the\\nindividual files in /usr/share/doc/*/copyright.\\n\\nDebian GNU/Linux comes with ABSOLUTELY NO WARRANTY, to the extent\\npermitted by applicable law.\\n', None)\n"
     ]
    }
   ],
   "source": [
    "instance = 'kau'\n",
    "username = 'jose-luis'\n",
    "keyDir = 'kauKeys'\n",
    "region = 'europe-west3-a'\n",
    "machineType = 'n1-standard-32'\n",
    "\n",
    "basinGenerator = basin.basin(instance,username,region,keyDir,machineType)\n",
    "basinGenerator.instantiate()\n",
    "print(\"The ip of the google cloud instance is {}\".format(basinGenerator.ip))\n",
    "\n",
    "#Testing connection to instance\n",
    "time.sleep(2) #Giving time for the editing to work\n",
    "if basinGenerator.instanceExists:\n",
    "    p = Popen(\"ssh -i {0}/{1} {1}@{2} -o UserKnownHostsFile=/dev/null -o StrictHostKeyChecking=no\".format(\n",
    "            basinGenerator.keyDir,\n",
    "            basinGenerator.username,\n",
    "            basinGenerator.ip\n",
    "            ),\n",
    "            shell=True,stdout=PIPE,stdin=PIPE)\n",
    "    print(p.communicate())\n",
    "\n",
    "time.sleep(2)"
   ]
  },
  {
   "cell_type": "markdown",
   "metadata": {},
   "source": [
    "# Delineation\n",
    "## Setting up credentials and connecting to database"
   ]
  },
  {
   "cell_type": "code",
   "execution_count": 3,
   "metadata": {},
   "outputs": [
    {
     "name": "stdin",
     "output_type": "stream",
     "text": [
      "Password:  ·······\n"
     ]
    },
    {
     "name": "stdout",
     "output_type": "stream",
     "text": [
      "Connection successful!\n"
     ]
    }
   ],
   "source": [
    "#Setting up credentials for database access. These should have been previously encrypted\n",
    "token = b'gAAAAABayyyn8ZnEstm8ZQqClUYQ-IqFFuMO4QTbmFJADHWBAcirh52s5stDwSwtVK7qVm5tzdTNFxTQjuRF28b1t2rosFSl_nnTowWrD4itOjkzF7s6Kg_qa1Adqpj59OAfBapgkToUQUHvEFY1Njc4he36AC76gmb8t0CJCq4ze2pDHWIlGdDacZxQ1jq14uLVxrFfCTSxDPX8Mx9W1av723etkOdWvw=='\n",
    "key = getpass.getpass('Password: ')\n",
    "credentials = decryptCredentials(token,key)\n",
    "credentials['host'] = basinGenerator.ip #This is because we don't have a static address for the host. A static address is provided if one uses catchment.niva.no\n",
    "\n",
    "#Setting up credentials for google maps api access\n",
    "apiToken = b'gAAAAABaXyLsGnF3ms4sC3ZhoLCwWAx9q0tydWl8XKEwOy8CO0W6Eqc8J4om8HNDlNR9nExYCmSrelp8W5R-PLtcce1I2UgW3YnlXXqWvrMN-outYwXhZoc59djfF752mzOPqXBHgpNC'\n",
    "apiKey = decryptString(apiToken,key)\n",
    "gmaps.configure(api_key=apiKey)\n",
    "\n",
    "# Testing connection to database\n",
    "try : \n",
    "    conn = db.connect(\"dbname={} user={} host={} password={}\".format(credentials['database'],credentials['username'],credentials['host'],credentials['password']))\n",
    "    print('Connection successful!')\n",
    "except :\n",
    "    print(\"Unable to connect\")\n",
    "    \n",
    "conn.close()   "
   ]
  },
  {
   "cell_type": "markdown",
   "metadata": {},
   "source": [
    "## Setting station outlet"
   ]
  },
  {
   "cell_type": "code",
   "execution_count": 4,
   "metadata": {},
   "outputs": [
    {
     "data": {
      "text/html": [
       "\n",
       "<style>\n",
       ".highlight .hll { background-color: #ffffcc }\n",
       ".highlight  { background: #f8f8f8; }\n",
       ".highlight .c { color: #408080; font-style: italic } /* Comment */\n",
       ".highlight .err { border: 1px solid #FF0000 } /* Error */\n",
       ".highlight .k { color: #008000; font-weight: bold } /* Keyword */\n",
       ".highlight .o { color: #666666 } /* Operator */\n",
       ".highlight .ch { color: #408080; font-style: italic } /* Comment.Hashbang */\n",
       ".highlight .cm { color: #408080; font-style: italic } /* Comment.Multiline */\n",
       ".highlight .cp { color: #BC7A00 } /* Comment.Preproc */\n",
       ".highlight .cpf { color: #408080; font-style: italic } /* Comment.PreprocFile */\n",
       ".highlight .c1 { color: #408080; font-style: italic } /* Comment.Single */\n",
       ".highlight .cs { color: #408080; font-style: italic } /* Comment.Special */\n",
       ".highlight .gd { color: #A00000 } /* Generic.Deleted */\n",
       ".highlight .ge { font-style: italic } /* Generic.Emph */\n",
       ".highlight .gr { color: #FF0000 } /* Generic.Error */\n",
       ".highlight .gh { color: #000080; font-weight: bold } /* Generic.Heading */\n",
       ".highlight .gi { color: #00A000 } /* Generic.Inserted */\n",
       ".highlight .go { color: #888888 } /* Generic.Output */\n",
       ".highlight .gp { color: #000080; font-weight: bold } /* Generic.Prompt */\n",
       ".highlight .gs { font-weight: bold } /* Generic.Strong */\n",
       ".highlight .gu { color: #800080; font-weight: bold } /* Generic.Subheading */\n",
       ".highlight .gt { color: #0044DD } /* Generic.Traceback */\n",
       ".highlight .kc { color: #008000; font-weight: bold } /* Keyword.Constant */\n",
       ".highlight .kd { color: #008000; font-weight: bold } /* Keyword.Declaration */\n",
       ".highlight .kn { color: #008000; font-weight: bold } /* Keyword.Namespace */\n",
       ".highlight .kp { color: #008000 } /* Keyword.Pseudo */\n",
       ".highlight .kr { color: #008000; font-weight: bold } /* Keyword.Reserved */\n",
       ".highlight .kt { color: #B00040 } /* Keyword.Type */\n",
       ".highlight .m { color: #666666 } /* Literal.Number */\n",
       ".highlight .s { color: #BA2121 } /* Literal.String */\n",
       ".highlight .na { color: #7D9029 } /* Name.Attribute */\n",
       ".highlight .nb { color: #008000 } /* Name.Builtin */\n",
       ".highlight .nc { color: #0000FF; font-weight: bold } /* Name.Class */\n",
       ".highlight .no { color: #880000 } /* Name.Constant */\n",
       ".highlight .nd { color: #AA22FF } /* Name.Decorator */\n",
       ".highlight .ni { color: #999999; font-weight: bold } /* Name.Entity */\n",
       ".highlight .ne { color: #D2413A; font-weight: bold } /* Name.Exception */\n",
       ".highlight .nf { color: #0000FF } /* Name.Function */\n",
       ".highlight .nl { color: #A0A000 } /* Name.Label */\n",
       ".highlight .nn { color: #0000FF; font-weight: bold } /* Name.Namespace */\n",
       ".highlight .nt { color: #008000; font-weight: bold } /* Name.Tag */\n",
       ".highlight .nv { color: #19177C } /* Name.Variable */\n",
       ".highlight .ow { color: #AA22FF; font-weight: bold } /* Operator.Word */\n",
       ".highlight .w { color: #bbbbbb } /* Text.Whitespace */\n",
       ".highlight .mb { color: #666666 } /* Literal.Number.Bin */\n",
       ".highlight .mf { color: #666666 } /* Literal.Number.Float */\n",
       ".highlight .mh { color: #666666 } /* Literal.Number.Hex */\n",
       ".highlight .mi { color: #666666 } /* Literal.Number.Integer */\n",
       ".highlight .mo { color: #666666 } /* Literal.Number.Oct */\n",
       ".highlight .sa { color: #BA2121 } /* Literal.String.Affix */\n",
       ".highlight .sb { color: #BA2121 } /* Literal.String.Backtick */\n",
       ".highlight .sc { color: #BA2121 } /* Literal.String.Char */\n",
       ".highlight .dl { color: #BA2121 } /* Literal.String.Delimiter */\n",
       ".highlight .sd { color: #BA2121; font-style: italic } /* Literal.String.Doc */\n",
       ".highlight .s2 { color: #BA2121 } /* Literal.String.Double */\n",
       ".highlight .se { color: #BB6622; font-weight: bold } /* Literal.String.Escape */\n",
       ".highlight .sh { color: #BA2121 } /* Literal.String.Heredoc */\n",
       ".highlight .si { color: #BB6688; font-weight: bold } /* Literal.String.Interpol */\n",
       ".highlight .sx { color: #008000 } /* Literal.String.Other */\n",
       ".highlight .sr { color: #BB6688 } /* Literal.String.Regex */\n",
       ".highlight .s1 { color: #BA2121 } /* Literal.String.Single */\n",
       ".highlight .ss { color: #19177C } /* Literal.String.Symbol */\n",
       ".highlight .bp { color: #008000 } /* Name.Builtin.Pseudo */\n",
       ".highlight .fm { color: #0000FF } /* Name.Function.Magic */\n",
       ".highlight .vc { color: #19177C } /* Name.Variable.Class */\n",
       ".highlight .vg { color: #19177C } /* Name.Variable.Global */\n",
       ".highlight .vi { color: #19177C } /* Name.Variable.Instance */\n",
       ".highlight .vm { color: #19177C } /* Name.Variable.Magic */\n",
       ".highlight .il { color: #666666 } /* Literal.Number.Integer.Long */\n",
       "</style>\n"
      ],
      "text/plain": [
       "<IPython.core.display.HTML object>"
      ]
     },
     "metadata": {},
     "output_type": "display_data"
    },
    {
     "data": {
      "text/html": [
       "<div class=\"highlight\"><pre><span></span><span class=\"p p-Indicator\">-</span> <span class=\"l l-Scalar l-Scalar-Plain\">station</span><span class=\"p p-Indicator\">:</span>\n",
       "    <span class=\"l l-Scalar l-Scalar-Plain\">buffer</span><span class=\"p p-Indicator\">:</span> <span class=\"l l-Scalar l-Scalar-Plain\">425000.0</span>\n",
       "    <span class=\"l l-Scalar l-Scalar-Plain\">epsg</span><span class=\"p p-Indicator\">:</span> <span class=\"l l-Scalar l-Scalar-Plain\">32633</span>\n",
       "    <span class=\"l l-Scalar l-Scalar-Plain\">latitude</span><span class=\"p p-Indicator\">:</span> <span class=\"l l-Scalar l-Scalar-Plain\">7674070</span>\n",
       "    <span class=\"l l-Scalar l-Scalar-Plain\">longitude</span><span class=\"p p-Indicator\">:</span> <span class=\"l l-Scalar l-Scalar-Plain\">643150</span>\n",
       "    <span class=\"l l-Scalar l-Scalar-Plain\">station_id</span><span class=\"p p-Indicator\">:</span> <span class=\"l l-Scalar l-Scalar-Plain\">29</span>\n",
       "    <span class=\"l l-Scalar l-Scalar-Plain\">station_name</span><span class=\"p p-Indicator\">:</span> <span class=\"l l-Scalar l-Scalar-Plain\">Målselva</span>\n",
       "</pre></div>\n"
      ],
      "text/plain": [
       "<IPython.core.display.HTML object>"
      ]
     },
     "metadata": {},
     "output_type": "display_data"
    }
   ],
   "source": [
    "#Reading yaml file\n",
    "stationsFile = 'kau_subset.yaml'\n",
    "  \n",
    "fid = open(stationsFile,'r')\n",
    "code = fid.read()\n",
    "fid.close\n",
    "result = highlight(code, YamlLexer(),HtmlFormatter(linenos=False))\n",
    "display(HTML(\"\"\"\n",
    "<style>\n",
    "{pygments_css}\n",
    "</style>\n",
    "\"\"\".format(pygments_css=HtmlFormatter().get_style_defs('.highlight'))))\n",
    "display(HTML(result))"
   ]
  },
  {
   "cell_type": "markdown",
   "metadata": {},
   "source": [
    "## Getting basin"
   ]
  },
  {
   "cell_type": "code",
   "execution_count": 5,
   "metadata": {},
   "outputs": [
    {
     "data": {
      "text/plain": [
       "[{'station': {'buffer': 425000.0,\n",
       "   'epsg': 32633,\n",
       "   'latitude': 7674070,\n",
       "   'longitude': 643150,\n",
       "   'station_id': 29,\n",
       "   'station_name': 'Målselva'}}]"
      ]
     },
     "metadata": {},
     "output_type": "display_data"
    },
    {
     "name": "stdout",
     "output_type": "stream",
     "text": [
      "[('Målselva', 29, 4665962.872472477, 5133763.217235851, 425000.0, '3035', '')]\n",
      "Creating base data...\n",
      "Processing station Målselva...\n",
      "[35.246.169.48] Executing task 'processSingleBasin'\n",
      "[35.246.169.48] Executing task 'createTmpDir'\n",
      "[35.246.169.48] run: rm -rf /home/jose-luis/Trash29/ && mkdir /home/jose-luis/Trash29/ && cd /home/jose-luis/Trash29/ && chmod a+w /home/jose-luis/Trash29/\n",
      "[35.246.169.48] Executing task 'generateSingleShp'\n",
      "/home/jose-luis/Trash29/\n",
      "[35.246.169.48] put: getShp.sh -> /home/jose-luis/Trash29/getShp.sh\n",
      "[35.246.169.48] run: chmod +x /home/jose-luis/Trash29/getShp.sh\n",
      "[35.246.169.48] put: mpirun.sh -> /home/jose-luis/Trash29/mpirun.sh\n",
      "[35.246.169.48] run: chmod +x /home/jose-luis/Trash29/mpirun.sh\n",
      "[35.246.169.48] run: cd /home/jose-luis/Trash29/ && ./getShp.sh /home/jose-luis/Trash29/  stations.csv  'jose-luis' kau dem outlet kakaroto 29\n",
      "[35.246.169.48] out: Arguments: /home/jose-luis/Trash29/ stations.csv jose-luis kau dem outlet kakaroto 29\n",
      "[35.246.169.48] out: SELECT a.station_name, a.station_id, a.outlet FROM kau.demShp AS a WHERE a.station_id=29\n",
      "[35.246.169.48] out: Initializing... \n",
      "[35.246.169.48] out: Done (postgis major version: 2).\n",
      "[35.246.169.48] out: Output shape: Point\n",
      "[35.246.169.48] out: Dumping: X [1 rows].\n",
      "[35.246.169.48] out: Starting run!\n",
      "[35.246.169.48] out: Waiting\n",
      "[35.246.169.48] out: Still waiting!\n",
      "[35.246.169.48] out: Alive!\n",
      "[35.246.169.48] out: Creating output basin29.shp of format ESRI Shapefile.\n",
      "[35.246.169.48] out: 0...10...20...30...40...50...60...70...80...90...100 - done.\n",
      "[35.246.169.48] out: Still alive!\n",
      "[35.246.169.48] out: Finished run!\n",
      "[35.246.169.48] out: Shapefile type: Polygon\n",
      "[35.246.169.48] out: Postgis type: MULTIPOLYGON[2]\n",
      "[35.246.169.48] out:                   addgeometrycolumn                   \n",
      "[35.246.169.48] out: ------------------------------------------------------\n",
      "[35.246.169.48] out:  kau.dummy29.geom SRID:3035 TYPE:MULTIPOLYGON DIMS:2 \n",
      "[35.246.169.48] out: (1 row)\n",
      "[35.246.169.48] out: \n",
      "[35.246.169.48] out: INSERT INTO kau.resultsShp(station_id,station_name,basin) SELECT b.station_id, b.station_name, ST_Multi(ST_Union(a.geom)) FROM kau.stations AS b, kau.dummy29 AS a WHERE b.station_id=29 GROUP BY station_id, station_name; DROP TABLE kau.dummy29;\n",
      "[35.246.169.48] out: Why are you looking at me funny?\n",
      "[35.246.169.48] out: INSERT 0 1\n",
      "[35.246.169.48] out: DROP TABLE\n",
      "[35.246.169.48] out: You are lucky to be alive!\n",
      "[35.246.169.48] out: \n",
      "\n",
      "\n",
      "Done.\n",
      "Disconnecting from 35.246.169.48... done.\n",
      "Wa-wa-wee-wa None\n",
      "Done!\n"
     ]
    }
   ],
   "source": [
    "# Connecting as user specified in credentials\n",
    "conn = db.connect(\"dbname={} user={} host={} password={}\".format(credentials['database'],\n",
    "                                                                       credentials['username'],\n",
    "                                                                        credentials['host'],\n",
    "                                                                        credentials['password']\n",
    "                                                                      )\n",
    "                       )\n",
    "#And a test query\n",
    "cursor = conn.cursor()\n",
    "\n",
    "db.extras.register_composite('station_info',cursor)\n",
    "\n",
    "\n",
    "#Reading station data from a yaml file\n",
    "stations = yaml.load(open(stationsFile))\n",
    "#stations = (stations,)\n",
    "display(stations)\n",
    "\n",
    "#There is a bug that won't produce all basins if there are different epsg's on the same yaml file.\n",
    "#So all the coordinates are transformed to epsg 3035\n",
    "def to3035(x1,y1,epsg):\n",
    "    inProj = Proj(init='epsg:{}'.format(epsg))\n",
    "    outProj = Proj(init='epsg:3035')\n",
    "    return transform(inProj,outProj,x1,y1)\n",
    "\n",
    "#Re-arranging data as a list of tuples and passing it to pg with the help\n",
    "#of pyscopg2 extras\n",
    "allStations = list()\n",
    "for i in stations:\n",
    "    i=i['station']\n",
    "    x,y = to3035(i['longitude'],i['latitude'],i['epsg'])\n",
    "    if is_number(i['buffer']):\n",
    "        data = ( i['station_name'],\n",
    "             i['station_id'],\n",
    "             x,\n",
    "             y,\n",
    "             i['buffer'],\n",
    "             '3035',\n",
    "             ''   \n",
    "           )\n",
    "    else :\n",
    "        data = ( i['station_name'],\n",
    "             i['station_id'],\n",
    "             x,\n",
    "             y,\n",
    "             -9999,\n",
    "             '3035',\n",
    "             i['buffer']   \n",
    "           )\n",
    "        \n",
    "    allStations.append(data)\n",
    "print(allStations)\n",
    "\n",
    "\n",
    "cursor.execute(\"SELECT procedures.initializeStations();\")\n",
    "conn.commit()\n",
    "\n",
    "cursor.execute(\"SELECT procedures.addStations( %s::station_info[] );\",(allStations,))\n",
    "conn.commit()\n",
    "\n",
    "\n",
    "resultsSchema = 'kau'\n",
    "\n",
    "\n",
    "cursor.execute(\"SELECT procedures.initializeResultsSchema( %s );\",(resultsSchema,))\n",
    "conn.commit()\n",
    "\n",
    "#Creating table to store base data and results\n",
    "dataTable = 'dem'\n",
    "print('Creating base data...')\n",
    "cursor.execute(\" SELECT procedures.createDataTable(%s,%s);\", (resultsSchema,dataTable))\n",
    "conn.commit()\n",
    "\n",
    "resultsTable = 'results'\n",
    "cursor.execute(\"SELECT procedures.createResultsTable(%s,%s);\",(resultsSchema,resultsTable));\n",
    "conn.commit()\n",
    "\n",
    "conn.close()\n",
    "\n",
    "for i in allStations:\n",
    "    print('Processing station {}...'.format(i[0]))\n",
    "    with Popen(['fab', '-f', basinGenerator.fabCatchment, 'processSingleBasin:{},{},{},{},{},{},{},{},{}'.format(\n",
    "                                                     credentials['username'],\n",
    "                                                     credentials['password'],\n",
    "                                                     credentials['database'],\n",
    "                                                     resultsSchema,\n",
    "                                                     dataTable,\n",
    "                                                     'flow_dir',\n",
    "                                                     'outlet',\n",
    "                                                     '/home/jose-luis/Trash{}/'.format(i[1]),\n",
    "                                                     i[1]\n",
    "                                                     )\n",
    "               ], stdout=PIPE, bufsize=1, universal_newlines=True) as p:\n",
    "            for line in p.stdout:\n",
    "                print(line, end='') \n",
    "\n",
    "            if p.returncode != ( 0 or None):\n",
    "                raise subprocess.CalledProcessError(p.returncode, p.args)\n",
    "            print(\"Wa-wa-wee-wa\",p.returncode)\n",
    "            p.wait()\n",
    "    print(\"Done!\")  \n"
   ]
  },
  {
   "cell_type": "code",
   "execution_count": 6,
   "metadata": {},
   "outputs": [
    {
     "name": "stdout",
     "output_type": "stream",
     "text": [
      "('Målselva', 18.6028940168001, 69.1387126738222, 5699344375.0)\n"
     ]
    },
    {
     "data": {
      "application/vnd.jupyter.widget-view+json": {
       "model_id": "745d15978a784902af039919e32afc13",
       "version_major": 2,
       "version_minor": 0
      },
      "text/plain": [
       "Figure(layout=FigureLayout(height='420px'))"
      ]
     },
     "metadata": {},
     "output_type": "display_data"
    }
   ],
   "source": [
    "conn = db.connect(\"dbname={} user={} host={} password={}\".format(credentials['database'],\n",
    "                                                                       credentials['username'],\n",
    "                                                                        credentials['host'],\n",
    "                                                                        credentials['password']\n",
    "                                                                      )\n",
    "                       )\n",
    "#And a test query\n",
    "cursor = conn.cursor()\n",
    "cursor.execute(''' SELECT json_build_object(\n",
    "                    'type', 'FeatureCollection',\n",
    "\n",
    "                    'features', json_agg(\n",
    "                        json_build_object(\n",
    "                            'type',       'Feature',\n",
    "                            'label',       station_name,\n",
    "                            'geometry',   ST_AsGeoJSON(ST_ForceRHR(St_Transform(basin,4326)))::json,\n",
    "                            'properties', jsonb_set(row_to_json(resultsShp)::jsonb,'{basin}','0',false)\n",
    "                             )\n",
    "                        )\n",
    "                   )\n",
    "                    FROM %(schema)s.resultsShp;  ''',{\n",
    "                    'schema'     : AsIs(resultsSchema)    \n",
    "                    }\n",
    "              )\n",
    "layer=cursor.fetchone()[0]\n",
    "\n",
    "fig = gmaps.figure()\n",
    "\n",
    "basin_layer = gmaps.geojson_layer(layer)\n",
    "fig.add_layer(basin_layer)\n",
    "\n",
    "cursor.execute('''SELECT a.station_name, st_x(st_transform(a.outlet,4326)),\n",
    "                  st_y(st_transform(a.outlet,4326)), st_area(b.basin)\n",
    "                  FROM %(schema)s.demShp AS a\n",
    "                  INNER JOIN %(schema)s.resultsShp AS b \n",
    "                  ON a.station_id = b.station_id;''',{\n",
    "                    'schema'     : AsIs(resultsSchema)    \n",
    "                    })  \n",
    "\n",
    "rows=cursor.fetchall()\n",
    "\n",
    "outlets = []\n",
    "for row in rows:\n",
    "    print(row)\n",
    "    currentDict = {\"name\" : row[0], \"location\": (row[2],row[1]), \"area\": row[3]/1000000}\n",
    "    outlets.append(currentDict)\n",
    "\n",
    "outlet_locations = [outlet[\"location\"] for outlet in outlets]\n",
    "info_box_template = \"\"\"\n",
    "<dl>\n",
    "<dt>Name</dt><dd>{name}</dd>\n",
    "<dt>Area</dt><dd>{area} km<sup>2</sup></dd>\n",
    "</dl>\n",
    "\"\"\"                                                \n",
    "outlet_info = [info_box_template.format(**outlet) for outlet in outlets]                                                 \n",
    "marker_layer = gmaps.marker_layer(outlet_locations, info_box_content=outlet_info)\n",
    "fig.add_layer(marker_layer)\n",
    "\n",
    "conn.close()\n",
    "\n",
    "fig\n"
   ]
  },
  {
   "cell_type": "markdown",
   "metadata": {},
   "source": [
    "## Downloading basins"
   ]
  },
  {
   "cell_type": "code",
   "execution_count": 7,
   "metadata": {},
   "outputs": [
    {
     "name": "stdout",
     "output_type": "stream",
     "text": [
      "Wa-wa-wee-wa None\n",
      "Done!\n"
     ]
    }
   ],
   "source": [
    "with Popen(['fab', '-f', basinGenerator.fabCatchment, 'getShape:{},{},{},{},{},{}'.format(\n",
    "                                                     credentials['username'],\n",
    "                                                     credentials['password'],\n",
    "                                                     credentials['database'],\n",
    "                                                     resultsSchema,\n",
    "                                                     'resultsShp',\n",
    "                                                     'malselva',\n",
    "                                                     )\n",
    "               ], stdout=PIPE, bufsize=1, universal_newlines=True) as p:\n",
    "#             for line in p.stdout:\n",
    "#                 print(line, end='') \n",
    "\n",
    "            if p.returncode != ( 0 or None):\n",
    "                raise subprocess.CalledProcessError(p.returncode, p.args)\n",
    "            print(\"Wa-wa-wee-wa\",p.returncode)\n",
    "            p.wait()\n",
    "print(\"Done!\")"
   ]
  },
  {
   "cell_type": "code",
   "execution_count": null,
   "metadata": {},
   "outputs": [],
   "source": []
  }
 ],
 "metadata": {
  "kernelspec": {
   "display_name": "Python 3",
   "language": "python",
   "name": "python3"
  },
  "language_info": {
   "codemirror_mode": {
    "name": "ipython",
    "version": 3
   },
   "file_extension": ".py",
   "mimetype": "text/x-python",
   "name": "python",
   "nbconvert_exporter": "python",
   "pygments_lexer": "ipython3",
   "version": "3.6.3"
  }
 },
 "nbformat": 4,
 "nbformat_minor": 2
}
